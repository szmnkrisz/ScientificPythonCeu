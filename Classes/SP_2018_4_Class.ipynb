{
 "cells": [
  {
   "cell_type": "markdown",
   "metadata": {},
   "source": [
    "## Class 4\n",
    "\n",
    "* Dictionaries\n",
    "* numpy\n",
    "* mathplotlib"
   ]
  },
  {
   "cell_type": "code",
   "execution_count": 21,
   "metadata": {},
   "outputs": [],
   "source": [
    "import urllib.request\n",
    "link = \"http://www.phy.bme.hu/~torok/Hun_cities_noacc.csv\"\n",
    "f = urllib.request.urlopen(link)\n",
    "myfile = f.read()\n",
    "f.close()\n",
    "f = open(\"Hun_cities_noacc.csv\",\"w\")\n",
    "f.write(str(myfile,\"utf-8\"))\n",
    "f.close()"
   ]
  },
  {
   "cell_type": "code",
   "execution_count": 22,
   "metadata": {},
   "outputs": [
    {
     "data": {
      "text/plain": [
       "'1941,\"Pecs\",\"Pecs\",156801,16277,46.07308,18.22857,3207,1,2,1,1,4,1'"
      ]
     },
     "execution_count": 22,
     "metadata": {},
     "output_type": "execute_result"
    }
   ],
   "source": [
    "str(myfile,\"utf-8\").split('\\n')[5]"
   ]
  },
  {
   "cell_type": "code",
   "execution_count": 23,
   "metadata": {},
   "outputs": [
    {
     "name": "stdout",
     "output_type": "stream",
     "text": [
      "['KSHKOD', '\"TELNEV CLEAR\"', '\"TELNEV CLEAR\"', 'POP', 'SIZE_km2', 'latitude', 'longitude', 'SUBREG', 'SUBREGCENT', 'COUNTYCODE', 'COUNTYCENT', 'TOWN', 'REGION', 'UNIV']\n",
      "['1941', '\"Pecs\"', '\"Pecs\"', '156801', '16277', '46.07308', '18.22857', '3207', '1', '2', '1', '1', '4', '1']\n"
     ]
    }
   ],
   "source": [
    "cities = []\n",
    "for line in str(myfile,\"utf-8\").split('\\n'):\n",
    "    cities.append(line.split(','))\n",
    "print(cities[0])\n",
    "print(cities[5])"
   ]
  },
  {
   "cell_type": "code",
   "execution_count": 24,
   "metadata": {},
   "outputs": [
    {
     "name": "stdout",
     "output_type": "stream",
     "text": [
      "['3045', '\"Miskolc\"', '\"Miskolc\"', '166823', '23666', '48.105625', '20.790556', '3501', '1', '5', '1', '1', '5', '1']\n",
      "['1941', '\"Pecs\"', '\"Pecs\"', '156801', '16277', '46.07308', '18.22857', '3207', '1', '2', '1', '1', '4', '1']\n"
     ]
    }
   ],
   "source": [
    "cities = []\n",
    "with open(\"Hun_cities_noacc.csv\",\"r\") as f:\n",
    "    for line in f:\n",
    "        cities.append(line.rstrip().split(','))\n",
    "print(cities[4])\n",
    "print(cities[5])"
   ]
  },
  {
   "cell_type": "markdown",
   "metadata": {},
   "source": [
    "### Dictionaries"
   ]
  },
  {
   "cell_type": "markdown",
   "metadata": {},
   "source": [
    "Dictionaries are also like lists, except that each element is a key-value pair. The syntax for dictionaries is `{key1 : value1, key2 : value 2, ...}`:"
   ]
  },
  {
   "cell_type": "code",
   "execution_count": 2,
   "metadata": {},
   "outputs": [
    {
     "name": "stdout",
     "output_type": "stream",
     "text": [
      "{0: 'c'}\n"
     ]
    }
   ],
   "source": [
    "D = {0 : k for k in ['a', 'b', 'c']}\n",
    "print(D)"
   ]
  },
  {
   "cell_type": "code",
   "execution_count": 3,
   "metadata": {},
   "outputs": [
    {
     "name": "stdout",
     "output_type": "stream",
     "text": [
      "<class 'dict'>\n",
      "{'bananas': 1, 'oranges': 2, 'apples': 3}\n"
     ]
    }
   ],
   "source": [
    "fruits = {\"bananas\" : 1,\n",
    "          \"oranges\" : 2,\n",
    "          \"apples\" : 3,}\n",
    "\n",
    "print(type(fruits))\n",
    "print(fruits)"
   ]
  },
  {
   "cell_type": "code",
   "execution_count": 4,
   "metadata": {},
   "outputs": [
    {
     "data": {
      "text/plain": [
       "dict_values"
      ]
     },
     "execution_count": 4,
     "metadata": {},
     "output_type": "execute_result"
    }
   ],
   "source": [
    "type(fruits.values())"
   ]
  },
  {
   "cell_type": "code",
   "execution_count": 5,
   "metadata": {},
   "outputs": [
    {
     "name": "stdout",
     "output_type": "stream",
     "text": [
      "bananas = 1\n",
      "oranges = 2\n",
      "apples = 3\n"
     ]
    }
   ],
   "source": [
    "print(\"bananas = \" + str(fruits[\"bananas\"]))\n",
    "print(\"oranges = \" + str(fruits[\"oranges\"]))\n",
    "print(\"apples = \" + str(fruits[\"apples\"]))"
   ]
  },
  {
   "cell_type": "code",
   "execution_count": 6,
   "metadata": {},
   "outputs": [
    {
     "name": "stdout",
     "output_type": "stream",
     "text": [
      "bananas = no bananas\n",
      "oranges = 100\n",
      "apples = 3\n",
      "pineapples = D\n"
     ]
    }
   ],
   "source": [
    "fruits[\"bananas\"] = \"no bananas\"\n",
    "fruits[\"oranges\"] = 100\n",
    "\n",
    "# add a new entry\n",
    "fruits[\"pineapples\"] = \"D\"\n",
    "\n",
    "print(\"bananas = \" + str(fruits[\"bananas\"]))\n",
    "print(\"oranges = \" + str(fruits[\"oranges\"]))\n",
    "print(\"apples = \" + str(fruits[\"apples\"]))\n",
    "print(\"pineapples = \" + str(fruits[\"pineapples\"]))"
   ]
  },
  {
   "cell_type": "markdown",
   "metadata": {},
   "source": [
    "Strings, numbers, and tuples work as keys, and any type can be a value. Other types may or may not work correctly as keys (strings and tuples work cleanly since they are immutable). Looking up a value which is not in the dict throws a KeyError -- use \"in\" to check if the key is in the dict, or use dict.get(key) which returns the value or None if the key is not present (or get(key, not-found) allows you to specify what value to return in the not-found case)."
   ]
  },
  {
   "cell_type": "code",
   "execution_count": 7,
   "metadata": {},
   "outputs": [
    {
     "name": "stdout",
     "output_type": "stream",
     "text": [
      "no bananas\n"
     ]
    }
   ],
   "source": [
    "print(fruits['bananas'])     ## Simple lookup, returns 'bananas'"
   ]
  },
  {
   "cell_type": "markdown",
   "metadata": {},
   "source": [
    "If you try to access something that does not exists in the dictionary, you will get an error:"
   ]
  },
  {
   "cell_type": "code",
   "execution_count": 8,
   "metadata": {},
   "outputs": [
    {
     "ename": "KeyError",
     "evalue": "'strawberries'",
     "output_type": "error",
     "traceback": [
      "\u001b[1;31m---------------------------------------------------------------------------\u001b[0m",
      "\u001b[1;31mKeyError\u001b[0m                                  Traceback (most recent call last)",
      "\u001b[1;32m<ipython-input-8-16da9daa6bc1>\u001b[0m in \u001b[0;36m<module>\u001b[1;34m()\u001b[0m\n\u001b[1;32m----> 1\u001b[1;33m \u001b[0mprint\u001b[0m\u001b[1;33m(\u001b[0m\u001b[0mfruits\u001b[0m\u001b[1;33m[\u001b[0m\u001b[1;34m'strawberries'\u001b[0m\u001b[1;33m]\u001b[0m\u001b[1;33m)\u001b[0m\u001b[1;33m\u001b[0m\u001b[0m\n\u001b[0m",
      "\u001b[1;31mKeyError\u001b[0m: 'strawberries'"
     ]
    }
   ],
   "source": [
    "print(fruits['strawberries'])"
   ]
  },
  {
   "cell_type": "markdown",
   "metadata": {},
   "source": [
    "To avoid key errors, you can simply check with an ``if`` that the key is present in the dictionary: "
   ]
  },
  {
   "cell_type": "code",
   "execution_count": 9,
   "metadata": {},
   "outputs": [
    {
     "name": "stdout",
     "output_type": "stream",
     "text": [
      "no bananas\n",
      "I don't know what a strawberry is\n"
     ]
    }
   ],
   "source": [
    "if 'bananas' in fruits: print(fruits['bananas']) ## Yes, you can also write an if in this way \n",
    "\n",
    "if 'strawberries' in fruits: print (fruits['strawberries']) ## and an if-else in this way \n",
    "else: print(\"I don\\'t know what a strawberry is\")"
   ]
  },
  {
   "cell_type": "markdown",
   "metadata": {},
   "source": [
    "An alternative way to access keys in a dictionary is with the method ``get``. If the key does not exist you get a None:"
   ]
  },
  {
   "cell_type": "code",
   "execution_count": 10,
   "metadata": {},
   "outputs": [
    {
     "name": "stdout",
     "output_type": "stream",
     "text": [
      "no bananas\n",
      "None\n"
     ]
    }
   ],
   "source": [
    "print(fruits.get('bananas'))\n",
    "print(fruits.get('strawberries')) "
   ]
  },
  {
   "cell_type": "markdown",
   "metadata": {},
   "source": [
    "You can also define a default different from ```None``:"
   ]
  },
  {
   "cell_type": "code",
   "execution_count": 11,
   "metadata": {},
   "outputs": [
    {
     "name": "stdout",
     "output_type": "stream",
     "text": [
      "0\n"
     ]
    }
   ],
   "source": [
    "print(fruits.get('strawberries',0))  "
   ]
  },
  {
   "cell_type": "markdown",
   "metadata": {},
   "source": [
    "To iterate over key-value pairs of a dictionary:"
   ]
  },
  {
   "cell_type": "code",
   "execution_count": 12,
   "metadata": {},
   "outputs": [
    {
     "name": "stdout",
     "output_type": "stream",
     "text": [
      "bananas no bananas\n",
      "oranges 100\n",
      "apples 3\n",
      "pineapples D\n"
     ]
    }
   ],
   "source": [
    "for key in fruits: \n",
    "    print(key, fruits[key])"
   ]
  },
  {
   "cell_type": "markdown",
   "metadata": {},
   "source": [
    "This iteration is equivalent to iterating over ```fruits.keys()```:"
   ]
  },
  {
   "cell_type": "code",
   "execution_count": 13,
   "metadata": {},
   "outputs": [
    {
     "name": "stdout",
     "output_type": "stream",
     "text": [
      "bananas\n",
      "oranges\n",
      "apples\n",
      "pineapples\n"
     ]
    }
   ],
   "source": [
    "for key in fruits.keys(): \n",
    "    print(key)"
   ]
  },
  {
   "cell_type": "code",
   "execution_count": 14,
   "metadata": {},
   "outputs": [
    {
     "data": {
      "text/plain": [
       "dict_keys"
      ]
     },
     "execution_count": 14,
     "metadata": {},
     "output_type": "execute_result"
    }
   ],
   "source": [
    "type(fruits.keys())"
   ]
  },
  {
   "cell_type": "markdown",
   "metadata": {},
   "source": [
    "If you want to show the values instead:"
   ]
  },
  {
   "cell_type": "code",
   "execution_count": 15,
   "metadata": {},
   "outputs": [
    {
     "name": "stdout",
     "output_type": "stream",
     "text": [
      "no bananas\n",
      "100\n",
      "3\n",
      "D\n"
     ]
    }
   ],
   "source": [
    "for value in fruits.values():\n",
    "    print(value)"
   ]
  },
  {
   "cell_type": "code",
   "execution_count": 16,
   "metadata": {},
   "outputs": [
    {
     "data": {
      "text/plain": [
       "builtin_function_or_method"
      ]
     },
     "execution_count": 16,
     "metadata": {},
     "output_type": "execute_result"
    }
   ],
   "source": [
    "type(fruits.values)"
   ]
  },
  {
   "cell_type": "markdown",
   "metadata": {},
   "source": [
    "If you want to show both at the same time, you can use fruits.items()"
   ]
  },
  {
   "cell_type": "code",
   "execution_count": 17,
   "metadata": {},
   "outputs": [
    {
     "name": "stdout",
     "output_type": "stream",
     "text": [
      "bananas = no bananas\n",
      "oranges = 100\n",
      "apples = 3\n",
      "pineapples = D\n"
     ]
    }
   ],
   "source": [
    "for key, value in fruits.items():\n",
    "    print(key + \" = \" + str(value))"
   ]
  },
  {
   "cell_type": "markdown",
   "metadata": {},
   "source": [
    "_**Note that the keys are not sorted, nor are listed in the order you added them to the dictionary!**_ If you want to do that, you should sort the keys first"
   ]
  },
  {
   "cell_type": "code",
   "execution_count": 18,
   "metadata": {},
   "outputs": [
    {
     "name": "stdout",
     "output_type": "stream",
     "text": [
      "apples 3\n",
      "bananas no bananas\n",
      "oranges 100\n",
      "pineapples D\n"
     ]
    }
   ],
   "source": [
    "for key in sorted(fruits.keys()):\n",
    "    print(key, fruits[key])"
   ]
  },
  {
   "cell_type": "code",
   "execution_count": 30,
   "metadata": {},
   "outputs": [
    {
     "name": "stdout",
     "output_type": "stream",
     "text": [
      "100\n",
      "3\n",
      "D\n",
      "no bananas\n"
     ]
    }
   ],
   "source": [
    "for value in sorted(fruits.values(), key = lambda x: str(x)):\n",
    "    print(value)"
   ]
  },
  {
   "cell_type": "markdown",
   "metadata": {},
   "source": [
    "### Exercise 1\n",
    "Build a dictionary from the cities list. The key should be the accentless cityname (column 2), The value should be the population"
   ]
  },
  {
   "cell_type": "code",
   "execution_count": 38,
   "metadata": {},
   "outputs": [
    {
     "data": {
      "text/plain": [
       "{1: 3, 2: 3}"
      ]
     },
     "execution_count": 38,
     "metadata": {},
     "output_type": "execute_result"
    }
   ],
   "source": [
    "{x : y for x in [1, 2] for y in [1, 3]}"
   ]
  },
  {
   "cell_type": "code",
   "execution_count": 49,
   "metadata": {},
   "outputs": [],
   "source": [
    "cd = {c[2] : c[3] for c in cities}"
   ]
  },
  {
   "cell_type": "code",
   "execution_count": 54,
   "metadata": {},
   "outputs": [
    {
     "name": "stdout",
     "output_type": "stream",
     "text": [
      "1740041\n"
     ]
    }
   ],
   "source": [
    "cd = {}\n",
    "for c in cities:\n",
    "    cd[c[2]] = c[3]\n",
    "print(cd['\"Budapest\"'])"
   ]
  },
  {
   "cell_type": "markdown",
   "metadata": {},
   "source": [
    "### Exercise 2\n",
    "Build a dictionary from the cities list. The key should be the accentless cityname (column 2), The value should be a dictionary, with 'population' the population and 'area' the size in km$^2$"
   ]
  },
  {
   "cell_type": "markdown",
   "metadata": {},
   "source": [
    "### Numpy\n",
    "Efficient arary operations, matrix algebra"
   ]
  },
  {
   "cell_type": "code",
   "execution_count": 55,
   "metadata": {},
   "outputs": [
    {
     "name": "stdout",
     "output_type": "stream",
     "text": [
      "[0 1 2 3 4 5 6 7 8 9]\n",
      "<class 'numpy.ndarray'>\n"
     ]
    }
   ],
   "source": [
    "import numpy as np\n",
    "a = np.arange(10)\n",
    "print(a)\n",
    "print(type(a))"
   ]
  },
  {
   "cell_type": "code",
   "execution_count": 56,
   "metadata": {},
   "outputs": [
    {
     "name": "stdout",
     "output_type": "stream",
     "text": [
      "<class 'list'> [1, 2, 3] 1\n",
      "<class 'numpy.ndarray'> [1 2 3] 1\n"
     ]
    }
   ],
   "source": [
    "import sys\n",
    "b = [1,2,3]\n",
    "print(type(b),b,b[0])\n",
    "a = np.array(b)\n",
    "print(type(a),a,a[0])"
   ]
  },
  {
   "cell_type": "markdown",
   "metadata": {},
   "source": [
    "#### reshape, dimension"
   ]
  },
  {
   "cell_type": "code",
   "execution_count": 57,
   "metadata": {},
   "outputs": [
    {
     "name": "stdout",
     "output_type": "stream",
     "text": [
      "1 2\n",
      "[[1 2 3]\n",
      " [4 5 6]] 2\n"
     ]
    }
   ],
   "source": [
    "a = np.array([1,2,3,4,5,6])\n",
    "b = np.array([[1,2,3],[4,5,6]])\n",
    "print(np.ndim(a),np.ndim(b))\n",
    "c = a.reshape(2,3)\n",
    "print(c,np.ndim(c))"
   ]
  },
  {
   "cell_type": "markdown",
   "metadata": {},
   "source": [
    "#### Data type"
   ]
  },
  {
   "cell_type": "code",
   "execution_count": 58,
   "metadata": {},
   "outputs": [
    {
     "name": "stdout",
     "output_type": "stream",
     "text": [
      "a= [[0 0 0]\n",
      " [0 0 0]]\n",
      "a= [[0 1 0]\n",
      " [0 2 0]]\n",
      "b= [b'' b'12345678901234567890' b'alma']\n"
     ]
    }
   ],
   "source": [
    "a = np.zeros((2,3),dtype=int)\n",
    "# string of length 20\n",
    "b = np.zeros(3,dtype=\"S20\")\n",
    "print(\"a=\",a)\n",
    "a[0][1] = 1\n",
    "a[1, 1] = 2\n",
    "b[2] = \"alma\"\n",
    "b[1] = \"1234567890123456789012\"\n",
    "print(\"a=\",a)\n",
    "print(\"b=\",b)"
   ]
  },
  {
   "cell_type": "code",
   "execution_count": 59,
   "metadata": {},
   "outputs": [
    {
     "name": "stdout",
     "output_type": "stream",
     "text": [
      "a= [[ 0  1  2  3]\n",
      " [ 4  5  6  7]\n",
      " [ 8  9 10 11]]\n",
      "a[1:,1:]= [[ 5  6  7]\n",
      " [ 9 10 11]]\n",
      "a[0]= [0 1 2 3]\n"
     ]
    }
   ],
   "source": [
    "a = np.arange(12).reshape(3,4)\n",
    "print(\"a=\",a)\n",
    "print(\"a[1:,1:]=\",a[1:,1:])\n",
    "print(\"a[0]=\",a[0])"
   ]
  },
  {
   "cell_type": "code",
   "execution_count": 60,
   "metadata": {},
   "outputs": [
    {
     "name": "stdout",
     "output_type": "stream",
     "text": [
      "[(b'J\\xc3\\xa1nos T\\xc3\\xb6r\\xc3\\xb6k', 46) (b'',  0) (b'',  0) (b'',  0)\n",
      " (b'',  0)]\n",
      "János Török\n"
     ]
    }
   ],
   "source": [
    "user = np.dtype([('name','S20'), ('age', 'i1')])\n",
    "a = np.zeros(5,dtype=user)\n",
    "a[0][0] = \"János Török\".encode(\"utf-8\")\n",
    "a[0][1] = 46\n",
    "print(a)\n",
    "print(str(a[0][0],\"utf-8\"))"
   ]
  },
  {
   "cell_type": "markdown",
   "metadata": {},
   "source": [
    "### Exercise 3\n",
    "Fill a numpy array with the data from cities by the city name and the population"
   ]
  },
  {
   "cell_type": "code",
   "execution_count": 69,
   "metadata": {},
   "outputs": [
    {
     "data": {
      "text/plain": [
       "array([170052, 166823, 156801, ...,     44,     43,     23])"
      ]
     },
     "execution_count": 69,
     "metadata": {},
     "output_type": "execute_result"
    }
   ],
   "source": [
    "cities = cities[1:]\n",
    "citi_sizes = np.zeros(len(cities) ,dtype = int)\n",
    "i = 0\n",
    "for c in cities:\n",
    "    citi_sizes[i] = c[3]\n",
    "    i += 1\n",
    "citi_sizes"
   ]
  },
  {
   "cell_type": "code",
   "execution_count": null,
   "metadata": {},
   "outputs": [],
   "source": [
    "citytype = np.dtype([('name','S100'), ('population', 'int')])\n",
    "cit = np.zeros(len(cities) - 1,dtype=citytype)"
   ]
  },
  {
   "cell_type": "markdown",
   "metadata": {},
   "source": [
    "#### Random numbers\n",
    "* seed: the pseudo random generator starts with this number. Always the same sequence\n",
    "* np.random.random -> uniform random number from 0 to 1"
   ]
  },
  {
   "cell_type": "code",
   "execution_count": 70,
   "metadata": {},
   "outputs": [
    {
     "name": "stdout",
     "output_type": "stream",
     "text": [
      "[0.92961609 0.31637555 0.18391881 0.20456028 0.56772503 0.5955447\n",
      " 0.96451452 0.6531771  0.74890664 0.65356987]\n"
     ]
    }
   ],
   "source": [
    "np.random.seed(12345)\n",
    "a = np.random.random(10)\n",
    "print(a)"
   ]
  },
  {
   "cell_type": "code",
   "execution_count": 71,
   "metadata": {},
   "outputs": [
    {
     "name": "stdout",
     "output_type": "stream",
     "text": [
      "[0.74771481 0.96130674 0.0083883  0.10644438 0.29870371 0.65641118\n",
      " 0.80981255 0.87217591 0.9646476  0.72368535]\n"
     ]
    }
   ],
   "source": [
    "a = np.random.random(10)\n",
    "print(a)"
   ]
  },
  {
   "cell_type": "markdown",
   "metadata": {},
   "source": [
    "#### do something with probability p"
   ]
  },
  {
   "cell_type": "code",
   "execution_count": 79,
   "metadata": {},
   "outputs": [
    {
     "name": "stdout",
     "output_type": "stream",
     "text": [
      "It happened\n",
      "It happened\n"
     ]
    }
   ],
   "source": [
    "N = 10\n",
    "p = 0.2\n",
    "a = np.random.random(N)\n",
    "for _dummy in range(N):\n",
    "    if a[_dummy] < p:\n",
    "        print(\"It happened\")"
   ]
  },
  {
   "cell_type": "code",
   "execution_count": 96,
   "metadata": {},
   "outputs": [
    {
     "name": "stdout",
     "output_type": "stream",
     "text": [
      "[[0.40039478 0.5871714  0.44415892]\n",
      " [0.23392343 0.63421166 0.22923241]\n",
      " [0.25145111 0.97857056 0.44660267]]\n"
     ]
    },
    {
     "data": {
      "text/plain": [
       "array([[2, 2, 2],\n",
       "       [1, 3, 1],\n",
       "       [1, 4, 2]])"
      ]
     },
     "execution_count": 96,
     "metadata": {},
     "output_type": "execute_result"
    }
   ],
   "source": [
    "a = np.random.random((3,3))\n",
    "print(a)\n",
    "b = np.zeros((3, 3), dtype = int)\n",
    "for i in range(3):\n",
    "    for j in range(3):\n",
    "        b[i][j] = int(5 * a[i][j])\n",
    "b"
   ]
  },
  {
   "cell_type": "code",
   "execution_count": 81,
   "metadata": {},
   "outputs": [
    {
     "name": "stdout",
     "output_type": "stream",
     "text": [
      "[[2 0]\n",
      " [5 7]]\n",
      "[[0.7368448  2.8248283 ]\n",
      " [1.37642136 5.33892288]]\n",
      "[[0.77014359 5.00739472]\n",
      " [1.0592203  2.59050631]]\n"
     ]
    }
   ],
   "source": [
    "print(np.random.randint(10,size=(2,2)))\n",
    "print(np.random.normal(1,2,size=(2,2)))\n",
    "print(np.random.normal(loc=1,scale=2,size=(2,2)))"
   ]
  },
  {
   "cell_type": "markdown",
   "metadata": {},
   "source": [
    "#### Choose values"
   ]
  },
  {
   "cell_type": "code",
   "execution_count": 98,
   "metadata": {},
   "outputs": [
    {
     "name": "stdout",
     "output_type": "stream",
     "text": [
      "[4 2 2 1 3 0 3 1 2 3]\n",
      "[0 2 3]\n",
      "[3 3 3 2 3 3 3 2 3 2]\n",
      "['Debrecen']\n"
     ]
    }
   ],
   "source": [
    "print(np.random.choice(5, 10))\n",
    "print(np.random.choice(5,3,replace=False))\n",
    "print(np.random.choice(5, 10, p=[0.1, 0, 0.3, 0.6, 0]))\n",
    "c = [\"Budapest\", \"Pécs\", \"Debrecen\", \"Miskolc\"]\n",
    "print(np.random.choice(c,1))"
   ]
  },
  {
   "cell_type": "markdown",
   "metadata": {},
   "source": [
    "#### Operations"
   ]
  },
  {
   "cell_type": "code",
   "execution_count": 85,
   "metadata": {},
   "outputs": [
    {
     "name": "stdout",
     "output_type": "stream",
     "text": [
      "[[0 1 2]\n",
      " [3 4 5]\n",
      " [6 7 8]] [1 0 1]\n",
      "2*a= [[ 0  2  4]\n",
      " [ 6  8 10]\n",
      " [12 14 16]]\n",
      "a+1= [[1 2 3]\n",
      " [4 5 6]\n",
      " [7 8 9]]\n",
      "a+b= [[1 1 3]\n",
      " [4 4 6]\n",
      " [7 7 9]]\n"
     ]
    }
   ],
   "source": [
    "a = np.arange(9).reshape((3,3))\n",
    "b = np.array([1,0,1])\n",
    "print(a, b)\n",
    "print(\"2*a=\",2 * a)\n",
    "print(\"a+1=\",a + 1)\n",
    "print(\"a+b=\",a + b)"
   ]
  },
  {
   "cell_type": "markdown",
   "metadata": {},
   "source": [
    "### Exercise 4\n",
    "Play around with the previous example (you may want to make a copy) by changing the size of the arrays to see what is allowed"
   ]
  },
  {
   "cell_type": "code",
   "execution_count": 99,
   "metadata": {},
   "outputs": [
    {
     "name": "stdout",
     "output_type": "stream",
     "text": [
      "[[0 3 6]\n",
      " [1 4 7]\n",
      " [2 5 8]]\n",
      "a*a= [[ 0  1  4]\n",
      " [ 9 16 25]\n",
      " [36 49 64]]\n",
      "a= [[9 9 9]\n",
      " [3 4 5]\n",
      " [6 7 8]]\n",
      "a= [[9 9 9]\n",
      " [3 4 5]\n",
      " [6 7 8]] \n",
      "d= [[0 0 0]\n",
      " [3 4 5]\n",
      " [6 7 8]]\n"
     ]
    }
   ],
   "source": [
    "a = np.arange(9).reshape((3,3))\n",
    "b = np.array([1,0,1])\n",
    "print(a.transpose())\n",
    "print(\"a*a=\", a * a)\n",
    "c = a #copies the position in the memory\n",
    "c[0] = 9\n",
    "print(\"a=\", a)\n",
    "d = np.copy(a)\n",
    "d[0] = 0\n",
    "print(\"a=\",a,\"\\nd=\",d)"
   ]
  },
  {
   "cell_type": "code",
   "execution_count": 100,
   "metadata": {},
   "outputs": [
    {
     "name": "stdout",
     "output_type": "stream",
     "text": [
      "a= [[0 1 2]\n",
      " [3 4 5]\n",
      " [6 7 8]]\n",
      "sin= [[ 0.          0.84147098  0.90929743]\n",
      " [ 0.14112001 -0.7568025  -0.95892427]\n",
      " [-0.2794155   0.6569866   0.98935825]]\n",
      "x**3= [[  0   1   8]\n",
      " [ 27  64 125]\n",
      " [216 343 512]]\n",
      "sum= 36\n",
      "mean= 4.0\n",
      "size= 9\n",
      "min= 0\n"
     ]
    }
   ],
   "source": [
    "a = np.arange(9).reshape((3,3))\n",
    "print(\"a=\",a)\n",
    "print(\"sin=\",np.sin(a))\n",
    "print(\"x**3=\",np.power(a,3))\n",
    "print(\"sum=\",np.sum(a))\n",
    "print(\"mean=\",np.mean(a))\n",
    "print(\"size=\",np.size(a))\n",
    "print(\"min=\",np.min(a))"
   ]
  },
  {
   "cell_type": "code",
   "execution_count": 101,
   "metadata": {},
   "outputs": [
    {
     "name": "stdout",
     "output_type": "stream",
     "text": [
      "[[0.70314858 0.53777293 0.24899575]\n",
      " [0.53447177 0.63177465 0.59582506]\n",
      " [0.22969347 0.343245   0.21629193]]\n",
      "minpos= 8\n",
      "(2, 2)\n"
     ]
    }
   ],
   "source": [
    "np.random.seed(12347)\n",
    "a = np.random.random((3,3))\n",
    "print(a)\n",
    "print(\"minpos=\",a.argmin())\n",
    "print(np.unravel_index(a.argmin(), a.shape))"
   ]
  },
  {
   "cell_type": "code",
   "execution_count": 102,
   "metadata": {},
   "outputs": [
    {
     "name": "stdout",
     "output_type": "stream",
     "text": [
      "[0.12600718 0.56937756 0.42732685 0.83697244 0.53887746 0.61897624]\n",
      "[0 3 2 3 5]\n",
      "[0.12600718 0.83697244 0.42732685 0.83697244 0.61897624]\n"
     ]
    }
   ],
   "source": [
    "a = np.random.random(6)\n",
    "index = np.random.randint(6,size=5)\n",
    "print(a)\n",
    "print(index)\n",
    "print(a[index])"
   ]
  },
  {
   "cell_type": "markdown",
   "metadata": {},
   "source": [
    "#### Mask out elements, FILTERING"
   ]
  },
  {
   "cell_type": "code",
   "execution_count": 103,
   "metadata": {},
   "outputs": [
    {
     "name": "stdout",
     "output_type": "stream",
     "text": [
      "a= [0.93938244 0.71649087 0.67530051 0.20742662 0.16882031 0.241138  ]\n",
      "mask= [ True  True False False False False]\n",
      "a[mask]= [0.93938244 0.71649087]\n"
     ]
    }
   ],
   "source": [
    "a = np.random.random(6)\n",
    "mask = np.zeros(6,dtype=bool)\n",
    "mask[0:2] = True\n",
    "print(\"a=\",a)\n",
    "print(\"mask=\",mask)\n",
    "print(\"a[mask]=\",a[mask])"
   ]
  },
  {
   "cell_type": "markdown",
   "metadata": {},
   "source": [
    "### Ecercise 5\n",
    "* Count the number of elements which are less than 0.5\n",
    "* Replace all elements which are less than 0.5 with new random number"
   ]
  },
  {
   "cell_type": "code",
   "execution_count": 117,
   "metadata": {},
   "outputs": [
    {
     "data": {
      "text/plain": [
       "array([0.71647319, 0.61796811, 0.59254395, 0.86015423, 0.797715  ,\n",
       "       0.54283698, 0.00192116, 0.73325856, 0.78041303, 0.34619242])"
      ]
     },
     "execution_count": 117,
     "metadata": {},
     "output_type": "execute_result"
    }
   ],
   "source": [
    "a = np.random.random(10)\n",
    "mask = np.zeros(10, dtype = bool)\n",
    "mask[a < 0.5] = True\n",
    "a[mask] = np.random.random(sum(mask))\n",
    "a"
   ]
  },
  {
   "cell_type": "code",
   "execution_count": 114,
   "metadata": {},
   "outputs": [
    {
     "data": {
      "text/plain": [
       "array([0.93023298, 0.55897546, 0.87554133, 0.76938662, 0.19239809,\n",
       "       0.61504054, 0.66822879, 0.947894  , 0.54366894, 0.79183565])"
      ]
     },
     "execution_count": 114,
     "metadata": {},
     "output_type": "execute_result"
    }
   ],
   "source": [
    "\n",
    "a[a < 0.5] = np.random.random(a[a < 0.5].size)\n",
    "a"
   ]
  },
  {
   "cell_type": "code",
   "execution_count": null,
   "metadata": {},
   "outputs": [],
   "source": [
    "print(np.arange(10))\n",
    "print(np.arange(5,7,0.1))\n",
    "print(np.linspace(5,7,9))\n",
    "print(np.logspace(0,2,10))\n",
    "print(np.logspace(np.log10(0.3),np.log10(28),10))"
   ]
  },
  {
   "cell_type": "markdown",
   "metadata": {},
   "source": [
    "#### Histogram"
   ]
  },
  {
   "cell_type": "code",
   "execution_count": null,
   "metadata": {},
   "outputs": [],
   "source": [
    "a = np.random.random(10)\n",
    "h = np.histogram(a, bins=[0, 0.5, 1.0])\n",
    "print(a)\n",
    "print(h)"
   ]
  },
  {
   "cell_type": "code",
   "execution_count": null,
   "metadata": {},
   "outputs": [],
   "source": [
    "a = np.random.random(10000)\n",
    "h = np.histogram(a, bins=[0, 0.5, 1.0])\n",
    "print(h[0])"
   ]
  },
  {
   "cell_type": "markdown",
   "metadata": {},
   "source": [
    "### Exercise 6\n",
    "* Create a histogram divided into 20 bins using linspace\n",
    "* Create a histogram of normally distributed random numbers use 20 bins, check for the smallest and the largest value first"
   ]
  },
  {
   "cell_type": "code",
   "execution_count": null,
   "metadata": {},
   "outputs": [],
   "source": [
    "import matplotlib.pyplot as plt\n",
    "x = np.arange(10)\n",
    "y = x**2\n",
    "plt.figure()\n",
    "plt.plot(x, y, '-')\n",
    "plt.xlabel('x')\n",
    "plt.ylabel('y')\n",
    "plt.title('title')\n",
    "plt.show()"
   ]
  },
  {
   "cell_type": "code",
   "execution_count": null,
   "metadata": {},
   "outputs": [],
   "source": [
    "plt.figure()\n",
    "plt.plot(x, y, 'r*-')\n",
    "plt.xlabel('x')\n",
    "plt.ylabel('y')\n",
    "plt.title('title')\n",
    "plt.show()"
   ]
  },
  {
   "cell_type": "markdown",
   "metadata": {},
   "source": [
    "### fromat of plot\n",
    "use: <a href=\"https://matplotlib.org/2.1.1/api/_as_gen/matplotlib.pyplot.plot.html\">Mathplotlib plot help</a>"
   ]
  },
  {
   "cell_type": "markdown",
   "metadata": {},
   "source": [
    "### Exercise 7\n",
    "* Plot a sin function from -6 to +6\n",
    "* Plot a sin and a cos function together"
   ]
  },
  {
   "cell_type": "markdown",
   "metadata": {},
   "source": [
    "#### histograms"
   ]
  },
  {
   "cell_type": "code",
   "execution_count": null,
   "metadata": {},
   "outputs": [],
   "source": [
    "x = np.random.normal(2,1,10000)\n",
    "plt.hist(x, 50, density=1, facecolor='g')\n",
    "plt.show()"
   ]
  },
  {
   "cell_type": "code",
   "execution_count": null,
   "metadata": {},
   "outputs": [],
   "source": [
    "fig, axes = plt.subplots(nrows=1, ncols=2, figsize=(15,5))\n",
    "x = np.random.normal(2,1,10000)\n",
    "true_or_false = True\n",
    "for ax in axes:\n",
    "    ax.hist(x, 50, density=true_or_false, facecolor='g')\n",
    "    ax.set_xlabel('x')\n",
    "    ax.set_ylabel('y')\n",
    "    ax.set_title('title')\n",
    "    true_or_false ^= True\n",
    "\n"
   ]
  },
  {
   "cell_type": "code",
   "execution_count": null,
   "metadata": {},
   "outputs": [],
   "source": [
    "x = np.random.normal(2,1,10000)\n",
    "plt.hist(x, 50, density=1, histtype='step')\n",
    "plt.yscale('log')\n",
    "plt.show()"
   ]
  },
  {
   "cell_type": "markdown",
   "metadata": {},
   "source": [
    "### Exercise 8\n",
    "* Create a random number series of 0 and 1\n",
    "* Count the length of the successive 1-s (e.g. 0111010 the first sequence has a length of 3 the second has a length of 1)\n",
    "* Plot a histogram from these values"
   ]
  },
  {
   "cell_type": "markdown",
   "metadata": {},
   "source": [
    "#### Curve fitting"
   ]
  },
  {
   "cell_type": "code",
   "execution_count": null,
   "metadata": {},
   "outputs": [],
   "source": [
    "import numpy as np\n",
    "import matplotlib.pyplot as plt\n",
    "\n",
    "# Seed the random number generator for reproducibility\n",
    "np.random.seed(12345)\n",
    "\n",
    "x_data = np.linspace(-6, 6, num=50)\n",
    "y_data = 2.5 * np.sin(1.5 * x_data) + np.random.normal(size=50) / 2\n",
    "\n",
    "# And plot it\n",
    "plt.figure(figsize=(6, 4))\n",
    "plt.scatter(x_data, y_data)\n",
    "plt.show()"
   ]
  },
  {
   "cell_type": "code",
   "execution_count": null,
   "metadata": {},
   "outputs": [],
   "source": [
    "from scipy import optimize\n",
    "\n",
    "def test_func(x, a, b):\n",
    "    return a * np.sin(b * x)\n",
    "\n",
    "params, params_covariance = optimize.curve_fit(test_func, x_data, y_data,\n",
    "                                               p0=[2, 2])\n",
    "\n",
    "print(params)"
   ]
  },
  {
   "cell_type": "code",
   "execution_count": null,
   "metadata": {},
   "outputs": [],
   "source": [
    "plt.figure()\n",
    "plt.scatter(x_data, y_data, label='Data')\n",
    "plt.plot(x_data, test_func(x_data, params[0], params[1]),\n",
    "         label='Fitted function')\n",
    "\n",
    "plt.legend(loc='upper left')\n",
    "axes = plt.gca()\n",
    "axes.set_ylim([-3.2,4.5])\n",
    "plt.show()"
   ]
  },
  {
   "cell_type": "code",
   "execution_count": null,
   "metadata": {},
   "outputs": [],
   "source": []
  }
 ],
 "metadata": {
  "kernelspec": {
   "display_name": "Python 3",
   "language": "python",
   "name": "python3"
  },
  "language_info": {
   "codemirror_mode": {
    "name": "ipython",
    "version": 3
   },
   "file_extension": ".py",
   "mimetype": "text/x-python",
   "name": "python",
   "nbconvert_exporter": "python",
   "pygments_lexer": "ipython3",
   "version": "3.6.6"
  }
 },
 "nbformat": 4,
 "nbformat_minor": 2
}

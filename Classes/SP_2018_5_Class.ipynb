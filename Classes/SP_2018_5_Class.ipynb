{
 "cells": [
  {
   "cell_type": "markdown",
   "metadata": {},
   "source": [
    "## Class 5\n",
    "\n",
    "* numpy\n",
    "* mathplotlib"
   ]
  },
  {
   "cell_type": "markdown",
   "metadata": {},
   "source": [
    "#### Mask out elements"
   ]
  },
  {
   "cell_type": "code",
   "execution_count": 3,
   "metadata": {},
   "outputs": [
    {
     "name": "stdout",
     "output_type": "stream",
     "text": [
      "a= [0.56585552 0.39609371 0.26338504 0.7093338  0.54882111 0.07937219]\n",
      "mask= [ True  True False False False False]\n",
      "a[mask]= [0.56585552 0.39609371]\n"
     ]
    }
   ],
   "source": [
    "import numpy as np\n",
    "a = np.random.random(6)\n",
    "mask = np.zeros(6,dtype=bool)\n",
    "mask[0:2] = True\n",
    "print(\"a=\",a)\n",
    "print(\"mask=\",mask)\n",
    "print(\"a[mask]=\",a[mask])"
   ]
  },
  {
   "cell_type": "markdown",
   "metadata": {},
   "source": [
    "### Ecercise 1\n",
    "* Count the number of elements which are less than 0.5\n",
    "* Replace all elements which are less than 0.5 with new random number"
   ]
  },
  {
   "cell_type": "markdown",
   "metadata": {},
   "source": [
    "### read csv files\n",
    "Read towns.csv file.\n",
    "<pre>\n",
    "#town Jan Feb Mar Apr May Jun Jul Aug Sep Oct Nov Dec\n",
    "Tallinn -3 -5 -1 3 10 13 16 15 10 6 1 -2\n",
    "Beijing -3 0 6 13 20 24 26 25 20 13 5 -1\n",
    "Berlin 0 -1 4 7 12 16 18 17 14 9 4 1\n",
    "Buenos_Aires 23 22 20 16 13 10 10 11 13 16 18 22\n",
    "Cairo 13 15 17 21 25 27 28 27 26 23 19 15\n",
    "Cape_Town 21 21 20 17 15 13 12 13 14 16 18 20\n",
    "Helsinki -5 -6 -2 3 10 13 16 15 10 5 0 -3\n",
    "London 3 3 6 7 11 14 16 16 13 10 6 5\n",
    "Moscow -8 -7 -2 5 12 15 17 15 10 3 -2 -6\n",
    "Ottawa -10 -8 -2 6 13 18 21 20 14 7 1 -7\n",
    "Paris 3 4 7 10 13 16 19 19 16 11 6 5\n",
    "Riga -3 -3 1 5 11 15 17 16 12 7 2 -1\n",
    "Rome 8 8 11 12 17 20 23 23 21 17 12 9\n",
    "Singapore 27 27 28 28 28 28 28 28 27 27 27 26\n",
    "Stockholm -2 -3 0 3 10 14 17 16 11 6 1 -2\n",
    "Waschington_D.C. 2 3 7 13 18 23 26 25 21 15 9 3\n",
    "</pre>"
   ]
  },
  {
   "cell_type": "code",
   "execution_count": 4,
   "metadata": {
    "scrolled": true
   },
   "outputs": [
    {
     "name": "stdout",
     "output_type": "stream",
     "text": [
      "[[ nan  -3.  -5.  -1.   3.  10.  13.  16.  15.  10.   6.   1.  -2.]\n",
      " [ nan  -3.   0.   6.  13.  20.  24.  26.  25.  20.  13.   5.  -1.]\n",
      " [ nan   0.  -1.   4.   7.  12.  16.  18.  17.  14.   9.   4.   1.]\n",
      " [ nan  23.  22.  20.  16.  13.  10.  10.  11.  13.  16.  18.  22.]\n",
      " [ nan  13.  15.  17.  21.  25.  27.  28.  27.  26.  23.  19.  15.]\n",
      " [ nan  21.  21.  20.  17.  15.  13.  12.  13.  14.  16.  18.  20.]\n",
      " [ nan  -5.  -6.  -2.   3.  10.  13.  16.  15.  10.   5.   0.  -3.]\n",
      " [ nan   3.   3.   6.   7.  11.  14.  16.  16.  13.  10.   6.   5.]\n",
      " [ nan  -8.  -7.  -2.   5.  12.  15.  17.  15.  10.   3.  -2.  -6.]\n",
      " [ nan -10.  -8.  -2.   6.  13.  18.  21.  20.  14.   7.   1.  -7.]\n",
      " [ nan   3.   4.   7.  10.  13.  16.  19.  19.  16.  11.   6.   5.]\n",
      " [ nan  -3.  -3.   1.   5.  11.  15.  17.  16.  12.   7.   2.  -1.]\n",
      " [ nan   8.   8.  11.  12.  17.  20.  23.  23.  21.  17.  12.   9.]\n",
      " [ nan  27.  27.  28.  28.  28.  28.  28.  28.  27.  27.  27.  26.]\n",
      " [ nan  -2.  -3.   0.   3.  10.  14.  17.  16.  11.   6.   1.  -2.]\n",
      " [ nan   2.   3.   7.  13.  18.  23.  26.  25.  21.  15.   9.   3.]]\n"
     ]
    }
   ],
   "source": [
    "import numpy as np\n",
    "csv = np.genfromtxt ('towns.csv', delimiter=\" \")\n",
    "print(csv)"
   ]
  },
  {
   "cell_type": "code",
   "execution_count": 5,
   "metadata": {
    "scrolled": true
   },
   "outputs": [
    {
     "name": "stdout",
     "output_type": "stream",
     "text": [
      "[[nan nan nan nan nan nan nan nan nan nan nan nan nan]\n",
      " [nan -3. -5. -1.  3. 10. 13. 16. 15. 10.  6.  1. -2.]\n",
      " [nan -3.  0.  6. 13. 20. 24. 26. 25. 20. 13.  5. -1.]]\n",
      "-----------------\n",
      "[[-3. -5. -1.  3. 10. 13. 16. 15. 10.  6.  1. -2.]\n",
      " [-3.  0.  6. 13. 20. 24. 26. 25. 20. 13.  5. -1.]\n",
      " [ 0. -1.  4.  7. 12. 16. 18. 17. 14.  9.  4.  1.]]\n"
     ]
    }
   ],
   "source": [
    "import numpy as np\n",
    "csv = np.genfromtxt ('towns2.csv', delimiter=\" \")\n",
    "print(csv[0:3])\n",
    "print(\"-----------------\")\n",
    "print(csv[1:,1:][0:3])"
   ]
  },
  {
   "cell_type": "code",
   "execution_count": 11,
   "metadata": {},
   "outputs": [
    {
     "name": "stdout",
     "output_type": "stream",
     "text": [
      "('town', 'Jan', 'Feb', 'Mar', 'Apr', 'May', 'Jun', 'Jul', 'Aug', 'Sep', 'Oct', 'Nov', 'Dec')\n",
      "[(b'Tallinn',  -3, -5, -1,  3, 10, 13, 16, 15, 10,  6,  1, -2)\n",
      " (b'Beijing',  -3,  0,  6, 13, 20, 24, 26, 25, 20, 13,  5, -1)\n",
      " (b'Berlin',   0, -1,  4,  7, 12, 16, 18, 17, 14,  9,  4,  1)\n",
      " (b'Buenos_Aires',  23, 22, 20, 16, 13, 10, 10, 11, 13, 16, 18, 22)\n",
      " (b'Cairo',  13, 15, 17, 21, 25, 27, 28, 27, 26, 23, 19, 15)\n",
      " (b'Cape_Town',  21, 21, 20, 17, 15, 13, 12, 13, 14, 16, 18, 20)\n",
      " (b'Helsinki',  -5, -6, -2,  3, 10, 13, 16, 15, 10,  5,  0, -3)\n",
      " (b'London',   3,  3,  6,  7, 11, 14, 16, 16, 13, 10,  6,  5)\n",
      " (b'Moscow',  -8, -7, -2,  5, 12, 15, 17, 15, 10,  3, -2, -6)\n",
      " (b'Ottawa', -10, -8, -2,  6, 13, 18, 21, 20, 14,  7,  1, -7)\n",
      " (b'Paris',   3,  4,  7, 10, 13, 16, 19, 19, 16, 11,  6,  5)\n",
      " (b'Riga',  -3, -3,  1,  5, 11, 15, 17, 16, 12,  7,  2, -1)\n",
      " (b'Rome',   8,  8, 11, 12, 17, 20, 23, 23, 21, 17, 12,  9)\n",
      " (b'Singapore',  27, 27, 28, 28, 28, 28, 28, 28, 27, 27, 27, 26)\n",
      " (b'Stockholm',  -2, -3,  0,  3, 10, 14, 17, 16, 11,  6,  1, -2)\n",
      " (b'Waschington_D.C.',   2,  3,  7, 13, 18, 23, 26, 25, 21, 15,  9,  3)]\n"
     ]
    },
    {
     "name": "stderr",
     "output_type": "stream",
     "text": [
      "C:\\Users\\szmnk\\Anaconda3\\lib\\site-packages\\ipykernel_launcher.py:2: VisibleDeprecationWarning: Reading unicode strings without specifying the encoding argument is deprecated. Set the encoding, use None for the system default.\n",
      "  \n"
     ]
    }
   ],
   "source": [
    "import numpy as np\n",
    "csvn = np.genfromtxt ('towns2.csv', delimiter=\" \", names=True, dtype=None)\n",
    "print(csvn.dtype.names)\n",
    "print(np.array(csvn))"
   ]
  },
  {
   "cell_type": "code",
   "execution_count": 13,
   "metadata": {},
   "outputs": [
    {
     "name": "stdout",
     "output_type": "stream",
     "text": [
      "1\n",
      "(b'Tallinn', -3, -5, -1, 3, 10, 13, 16, 15, 10, 6, 1, -2)\n",
      "b'Berlin'\n",
      "[ -3  -3   0  23  13  21  -5   3  -8 -10   3  -3   8  27  -2   2]\n",
      "[b'Tallinn' b'Beijing' b'Berlin' b'Buenos_Aires' b'Cairo' b'Cape_Town'\n",
      " b'Helsinki' b'London' b'Moscow' b'Ottawa' b'Paris' b'Riga' b'Rome'\n",
      " b'Singapore' b'Stockholm' b'Waschington_D.C.']\n"
     ]
    }
   ],
   "source": [
    "print(np.ndim(csvn))\n",
    "print(csvn[0])\n",
    "print(csvn[2][0])\n",
    "print(csvn['Jan'])\n",
    "print(csvn['town'])"
   ]
  },
  {
   "cell_type": "markdown",
   "metadata": {},
   "source": [
    "#### Nice solution to read data into dictionary from Matteo"
   ]
  },
  {
   "cell_type": "code",
   "execution_count": 14,
   "metadata": {},
   "outputs": [],
   "source": [
    "with open('towns.csv') as f:\n",
    "    lines = [l.strip().split(' ') for l in f]\n",
    "    months = lines[0][1:]\n",
    "    cities = {line[0]:list(map(int, line[1:])) for line in lines[1:]}"
   ]
  },
  {
   "cell_type": "code",
   "execution_count": 15,
   "metadata": {},
   "outputs": [
    {
     "name": "stdout",
     "output_type": "stream",
     "text": [
      "['Jan', 'Feb', 'Mar', 'Apr', 'May', 'Jun', 'Jul', 'Aug', 'Sep', 'Oct', 'Nov', 'Dec']\n"
     ]
    }
   ],
   "source": [
    "print(months)"
   ]
  },
  {
   "cell_type": "code",
   "execution_count": 16,
   "metadata": {},
   "outputs": [
    {
     "name": "stdout",
     "output_type": "stream",
     "text": [
      "dict_keys(['Tallinn', 'Beijing', 'Berlin', 'Buenos_Aires', 'Cairo', 'Cape_Town', 'Helsinki', 'London', 'Moscow', 'Ottawa', 'Paris', 'Riga', 'Rome', 'Singapore', 'Stockholm', 'Waschington_D.C.'])\n"
     ]
    }
   ],
   "source": [
    "print(cities.keys())"
   ]
  },
  {
   "cell_type": "code",
   "execution_count": 17,
   "metadata": {
    "scrolled": true
   },
   "outputs": [
    {
     "name": "stdout",
     "output_type": "stream",
     "text": [
      "[8, 8, 11, 12, 17, 20, 23, 23, 21, 17, 12, 9]\n"
     ]
    }
   ],
   "source": [
    "print(cities['Rome'])"
   ]
  },
  {
   "cell_type": "markdown",
   "metadata": {},
   "source": [
    "### Exercise 2\n",
    "* print the list of months for which there are negative temperatures\n",
    "* print the list of cities in which there are freezing temperatures"
   ]
  },
  {
   "cell_type": "code",
   "execution_count": 32,
   "metadata": {},
   "outputs": [
    {
     "data": {
      "text/plain": [
       "array([(b'Tallinn',  -3, -5, -1,  3, 10, 13, 16, 15, 10,  6,  1, -2),\n",
       "       (b'Beijing',  -3,  0,  6, 13, 20, 24, 26, 25, 20, 13,  5, -1),\n",
       "       (b'Berlin',   0, -1,  4,  7, 12, 16, 18, 17, 14,  9,  4,  1),\n",
       "       (b'Buenos_Aires',  23, 22, 20, 16, 13, 10, 10, 11, 13, 16, 18, 22),\n",
       "       (b'Cairo',  13, 15, 17, 21, 25, 27, 28, 27, 26, 23, 19, 15),\n",
       "       (b'Cape_Town',  21, 21, 20, 17, 15, 13, 12, 13, 14, 16, 18, 20),\n",
       "       (b'Helsinki',  -5, -6, -2,  3, 10, 13, 16, 15, 10,  5,  0, -3),\n",
       "       (b'London',   3,  3,  6,  7, 11, 14, 16, 16, 13, 10,  6,  5),\n",
       "       (b'Moscow',  -8, -7, -2,  5, 12, 15, 17, 15, 10,  3, -2, -6),\n",
       "       (b'Ottawa', -10, -8, -2,  6, 13, 18, 21, 20, 14,  7,  1, -7),\n",
       "       (b'Paris',   3,  4,  7, 10, 13, 16, 19, 19, 16, 11,  6,  5),\n",
       "       (b'Riga',  -3, -3,  1,  5, 11, 15, 17, 16, 12,  7,  2, -1),\n",
       "       (b'Rome',   8,  8, 11, 12, 17, 20, 23, 23, 21, 17, 12,  9),\n",
       "       (b'Singapore',  27, 27, 28, 28, 28, 28, 28, 28, 27, 27, 27, 26),\n",
       "       (b'Stockholm',  -2, -3,  0,  3, 10, 14, 17, 16, 11,  6,  1, -2),\n",
       "       (b'Waschington_D.C.',   2,  3,  7, 13, 18, 23, 26, 25, 21, 15,  9,  3)],\n",
       "      dtype=[('town', 'S16'), ('Jan', '<i4'), ('Feb', '<i4'), ('Mar', '<i4'), ('Apr', '<i4'), ('May', '<i4'), ('Jun', '<i4'), ('Jul', '<i4'), ('Aug', '<i4'), ('Sep', '<i4'), ('Oct', '<i4'), ('Nov', '<i4'), ('Dec', '<i4')])"
      ]
     },
     "execution_count": 32,
     "metadata": {},
     "output_type": "execute_result"
    }
   ],
   "source": [
    "csvn"
   ]
  },
  {
   "cell_type": "code",
   "execution_count": 34,
   "metadata": {},
   "outputs": [
    {
     "data": {
      "text/plain": [
       "['Jan', 'Feb', 'Mar', 'Nov', 'Dec']"
      ]
     },
     "execution_count": 34,
     "metadata": {},
     "output_type": "execute_result"
    }
   ],
   "source": [
    "[m for m in months if min(csvn[m]) < 0]"
   ]
  },
  {
   "cell_type": "code",
   "execution_count": 45,
   "metadata": {},
   "outputs": [
    {
     "data": {
      "text/plain": [
       "['Jan', 'Feb', 'Mar', 'Nov', 'Dec']"
      ]
     },
     "execution_count": 45,
     "metadata": {},
     "output_type": "execute_result"
    }
   ],
   "source": [
    "[m  for m in csvn.dtype.names[1:] if min(csvn[m]) < 0]"
   ]
  },
  {
   "cell_type": "code",
   "execution_count": 42,
   "metadata": {},
   "outputs": [
    {
     "data": {
      "text/plain": [
       "['Tallinn',\n",
       " 'Beijing',\n",
       " 'Berlin',\n",
       " 'Helsinki',\n",
       " 'Moscow',\n",
       " 'Ottawa',\n",
       " 'Riga',\n",
       " 'Stockholm']"
      ]
     },
     "execution_count": 42,
     "metadata": {},
     "output_type": "execute_result"
    }
   ],
   "source": [
    "[c for c in cities.keys() if min(cities[c]) < 0]"
   ]
  },
  {
   "cell_type": "markdown",
   "metadata": {},
   "source": [
    "### regular arrays"
   ]
  },
  {
   "cell_type": "code",
   "execution_count": 51,
   "metadata": {},
   "outputs": [
    {
     "name": "stdout",
     "output_type": "stream",
     "text": [
      "[0 1 2 3 4 5 6 7 8 9]\n",
      "[5.  5.1 5.2 5.3 5.4 5.5 5.6 5.7 5.8 5.9 6.  6.1 6.2 6.3 6.4 6.5 6.6 6.7\n",
      " 6.8 6.9]\n",
      "[5.   5.25 5.5  5.75 6.   6.25 6.5  6.75 7.  ]\n"
     ]
    }
   ],
   "source": [
    "print(np.arange(10))\n",
    "print(np.arange(5,7,0.1))\n",
    "print(np.linspace(5,7,9))"
   ]
  },
  {
   "cell_type": "code",
   "execution_count": 52,
   "metadata": {},
   "outputs": [
    {
     "name": "stdout",
     "output_type": "stream",
     "text": [
      "[  1.           1.66810054   2.7825594    4.64158883   7.74263683\n",
      "  12.91549665  21.5443469   35.93813664  59.94842503 100.        ]\n",
      "[ 0.3         0.49660859  0.82206698  1.36081842  2.25264707  3.72894631\n",
      "  6.17275594 10.21814546 16.91472947 28.        ]\n"
     ]
    }
   ],
   "source": [
    "print(np.logspace(0,2,10))\n",
    "print(np.logspace(np.log10(0.3),np.log10(28),10))"
   ]
  },
  {
   "cell_type": "markdown",
   "metadata": {},
   "source": [
    "#### Histogram"
   ]
  },
  {
   "cell_type": "code",
   "execution_count": 48,
   "metadata": {},
   "outputs": [
    {
     "name": "stdout",
     "output_type": "stream",
     "text": [
      "(array([11, 12, 11,  7, 11, 12, 10,  9,  9,  8], dtype=int64), array([0.01522582, 0.11190588, 0.20858594, 0.30526601, 0.40194607,\n",
      "       0.49862613, 0.59530619, 0.69198625, 0.78866632, 0.88534638,\n",
      "       0.98202644]))\n"
     ]
    }
   ],
   "source": [
    "a = np.random.random(100)\n",
    "h = np.histogram(a)\n",
    "print(h)"
   ]
  },
  {
   "cell_type": "code",
   "execution_count": 49,
   "metadata": {},
   "outputs": [
    {
     "name": "stdout",
     "output_type": "stream",
     "text": [
      "[0.35187005 0.54175714 0.45633556 0.57285022 0.9598513  0.34700802\n",
      " 0.64160666 0.95397729 0.15439614 0.89600805]\n",
      "(array([4, 6], dtype=int64), array([0. , 0.5, 1. ]))\n"
     ]
    }
   ],
   "source": [
    "a = np.random.random(10)\n",
    "h = np.histogram(a, bins=[0, 0.5, 1.0])\n",
    "print(a)\n",
    "print(h)"
   ]
  },
  {
   "cell_type": "code",
   "execution_count": 60,
   "metadata": {},
   "outputs": [
    {
     "name": "stdout",
     "output_type": "stream",
     "text": [
      "[5036 4964]\n"
     ]
    }
   ],
   "source": [
    "a = np.random.random(10000)\n",
    "h = np.histogram(a, bins=[0, 0.5, 1.0])\n",
    "print(h[0])"
   ]
  },
  {
   "cell_type": "markdown",
   "metadata": {},
   "source": [
    "### Exercise 3\n",
    "* Create a histogram from the temperatures of towns, bin shoud be 5 degrees\n",
    "* Create a histogram of normally distributed random numbers use 20 bins, check for the smallest and the largest value first (random.random.normal)"
   ]
  },
  {
   "cell_type": "code",
   "execution_count": 66,
   "metadata": {},
   "outputs": [],
   "source": [
    "temps = np.array([csvn[i][m] for i in range(len(cities.keys())) for m in months])\n",
    "h = np.histogram(temps, bins = np.linspace(-10, 35, 10))"
   ]
  },
  {
   "cell_type": "code",
   "execution_count": 76,
   "metadata": {},
   "outputs": [
    {
     "data": {
      "text/plain": [
       "(array([ 2,  2,  3,  7,  3,  3, 16,  9, 11,  4, 11,  5,  7,  1,  5,  1,  7,\n",
       "         1,  1,  1], dtype=int64),\n",
       " array([-42.34286515, -36.01736855, -29.69187194, -23.36637534,\n",
       "        -17.04087873, -10.71538213,  -4.38988553,   1.93561108,\n",
       "          8.26110768,  14.58660428,  20.91210089,  27.23759749,\n",
       "         33.56309409,  39.8885907 ,  46.2140873 ,  52.5395839 ,\n",
       "         58.86508051,  65.19057711,  71.51607372,  77.84157032,\n",
       "         84.16706692]))"
      ]
     },
     "execution_count": 76,
     "metadata": {},
     "output_type": "execute_result"
    }
   ],
   "source": [
    "e = 15\n",
    "d = 25\n",
    "n = 100\n",
    "random_vector = np.random.normal(e, d, n)\n",
    "np.histogram(random_vector, bins = 20)"
   ]
  },
  {
   "cell_type": "code",
   "execution_count": 83,
   "metadata": {},
   "outputs": [
    {
     "data": {
      "image/png": "[encoded data removed]",
      "text/plain": [
       "<Figure size 432x288 with 1 Axes>"
      ]
     },
     "metadata": {
      "needs_background": "light"
     },
     "output_type": "display_data"
    }
   ],
   "source": [
    "import matplotlib.pyplot as plt\n",
    "x = np.arange(10)\n",
    "y = x**2\n",
    "plt.figure()\n",
    "plt.plot(x, y, '-')\n",
    "plt.xlabel('x')\n",
    "plt.ylabel('y')\n",
    "plt.title('title')\n",
    "plt.show()"
   ]
  },
  {
   "cell_type": "code",
   "execution_count": 87,
   "metadata": {},
   "outputs": [
    {
     "data": {
      "image/png": "[encoded data removed]",
      "text/plain": [
       "<Figure size 432x288 with 1 Axes>"
      ]
     },
     "metadata": {
      "needs_background": "light"
     },
     "output_type": "display_data"
    }
   ],
   "source": [
    "plt.figure()\n",
    "plt.plot(x, y, '-*')\n",
    "plt.xlabel('x')\n",
    "plt.ylabel('y')\n",
    "plt.title('title')\n",
    "plt.show()"
   ]
  },
  {
   "cell_type": "markdown",
   "metadata": {},
   "source": [
    "### fromat of plot\n",
    "use: <a href=\"https://matplotlib.org/2.1.1/api/_as_gen/matplotlib.pyplot.plot.html\">Mathplotlib plot help</a>"
   ]
  },
  {
   "cell_type": "markdown",
   "metadata": {},
   "source": [
    "### Exercise 7\n",
    "* Plot a sin function from -6 to +6\n",
    "* Plot a sin and a cos function together"
   ]
  },
  {
   "cell_type": "code",
   "execution_count": 100,
   "metadata": {},
   "outputs": [
    {
     "data": {
      "image/png": "[encoded data removed]",
      "text/plain": [
       "<Figure size 432x288 with 1 Axes>"
      ]
     },
     "metadata": {
      "needs_background": "light"
     },
     "output_type": "display_data"
    }
   ],
   "source": [
    "x = np.arange(-6, 6, 0.02)\n",
    "y = np.sin(x)\n",
    "z = np.cos(x)\n",
    "plt.figure()\n",
    "plt.plot(x, y, 'r-')\n",
    "plt.xlabel('x')\n",
    "plt.ylabel('y')\n",
    "plt.plot(x, z, 'b-')\n",
    "plt.title('sin and cos function from -6 to 6')\n",
    "plt.show()"
   ]
  },
  {
   "cell_type": "markdown",
   "metadata": {},
   "source": [
    "# Line plot"
   ]
  },
  {
   "cell_type": "code",
   "execution_count": 99,
   "metadata": {
    "scrolled": false
   },
   "outputs": [
    {
     "data": {
      "image/png": "[encoded data removed]",
      "text/plain": [
       "<Figure size 432x288 with 1 Axes>"
      ]
     },
     "metadata": {
      "needs_background": "light"
     },
     "output_type": "display_data"
    }
   ],
   "source": [
    "selected_cities = 'Rome', 'Cairo', 'Cape_Town'\n",
    "\n",
    "fig, ax = plt.subplots()\n",
    "[ax.plot(cities[c], label=c) for c in selected_cities]\n",
    "\n",
    "plt.legend()\n",
    "ax.set_xticks(range(12))\n",
    "ax.set_xticklabels(months);"
   ]
  },
  {
   "cell_type": "code",
   "execution_count": 98,
   "metadata": {},
   "outputs": [
    {
     "data": {
      "image/png": "[encoded data removed]",
      "text/plain": [
       "<Figure size 432x288 with 1 Axes>"
      ]
     },
     "execution_count": 98,
     "metadata": {},
     "output_type": "execute_result"
    }
   ],
   "source": [
    "fig"
   ]
  },
  {
   "cell_type": "markdown",
   "metadata": {},
   "source": [
    "#### histograms"
   ]
  },
  {
   "cell_type": "code",
   "execution_count": 101,
   "metadata": {},
   "outputs": [
    {
     "name": "stdout",
     "output_type": "stream",
     "text": [
      "(array([0.94069204, 1.35877739, 1.35877739, 1.77686274, 0.8361707 ,\n",
      "       0.94069204, 1.04521338, 0.8361707 , 1.04521338, 0.31356401]), array([0.0347194 , 0.13039364, 0.22606789, 0.32174213, 0.41741638,\n",
      "       0.51309062, 0.60876486, 0.70443911, 0.80011335, 0.8957876 ,\n",
      "       0.99146184]))\n",
      "10 11\n",
      "10 10\n"
     ]
    }
   ],
   "source": [
    "a = np.random.random(100)\n",
    "h = np.histogram(a,density=True)\n",
    "print(h)\n",
    "print(len(h[0]),len(h[1]))\n",
    "y = h[0]\n",
    "x = [(h[1][i] + h[1][i+1])/2 for i in range(len(y))]\n",
    "print(len(x),len(y))"
   ]
  },
  {
   "cell_type": "code",
   "execution_count": 102,
   "metadata": {},
   "outputs": [
    {
     "name": "stdout",
     "output_type": "stream",
     "text": [
      "(array([0.7074737 , 0.7074737 , 1.01067671, 1.11174438, 1.11174438,\n",
      "       1.21281205, 1.51601507, 0.60640603, 1.11174438, 1.01067671]), array([0.00490095, 0.10384455, 0.20278816, 0.30173177, 0.40067538,\n",
      "       0.49961898, 0.59856259, 0.6975062 , 0.79644981, 0.89539341,\n",
      "       0.99433702]))\n"
     ]
    },
    {
     "data": {
      "image/png": "[encoded data removed]",
      "text/plain": [
       "<Figure size 432x288 with 1 Axes>"
      ]
     },
     "metadata": {
      "needs_background": "light"
     },
     "output_type": "display_data"
    }
   ],
   "source": [
    "a = np.random.random(100)\n",
    "h = np.histogram(a,density=True)\n",
    "print(h)\n",
    "y = h[0]\n",
    "x = [(h[1][i] + h[1][i+1])/2 for i in range(len(y))]\n",
    "plt.figure()\n",
    "plt.plot(x, y, 'r*-')\n",
    "plt.bar(x, y, width=0.05, color='green')\n",
    "plt.xlabel('x')\n",
    "plt.ylabel('y')\n",
    "plt.show()"
   ]
  },
  {
   "cell_type": "code",
   "execution_count": 114,
   "metadata": {},
   "outputs": [
    {
     "data": {
      "image/png": "[encoded data removed]",
      "text/plain": [
       "<Figure size 432x288 with 1 Axes>"
      ]
     },
     "metadata": {
      "needs_background": "light"
     },
     "output_type": "display_data"
    }
   ],
   "source": [
    "x = np.random.normal(2,1,10000)\n",
    "plt.hist(x, 20, density=1, facecolor='g')\n",
    "plt.show()"
   ]
  },
  {
   "cell_type": "code",
   "execution_count": 117,
   "metadata": {},
   "outputs": [
    {
     "data": {
      "image/png": "[encoded data removed]",
      "text/plain": [
       "<Figure size 1080x360 with 2 Axes>"
      ]
     },
     "metadata": {
      "needs_background": "light"
     },
     "output_type": "display_data"
    }
   ],
   "source": [
    "fig, axes = plt.subplots(nrows=1, ncols=2, figsize=(15,5))\n",
    "x = np.random.normal(2,1,10000)\n",
    "true_or_false = True\n",
    "for ax in axes:\n",
    "    ax.hist(x, 50, density=true_or_false, facecolor='g')\n",
    "    ax.set_xlabel('x')\n",
    "    ax.set_ylabel('y')\n",
    "    ax.set_title('title')\n",
    "    true_or_false ^= True\n",
    "plt.savefig('a1.svg')"
   ]
  },
  {
   "cell_type": "code",
   "execution_count": 116,
   "metadata": {},
   "outputs": [
    {
     "data": {
      "image/png": "[encoded data removed]",
      "text/plain": [
       "<Figure size 432x288 with 1 Axes>"
      ]
     },
     "metadata": {
      "needs_background": "light"
     },
     "output_type": "display_data"
    }
   ],
   "source": [
    "x = np.random.normal(2,1,10000)\n",
    "plt.hist(x, 50, density=1, histtype='step')\n",
    "plt.yscale('log')\n",
    "plt.show()"
   ]
  },
  {
   "cell_type": "markdown",
   "metadata": {},
   "source": [
    "### Exercise 8\n",
    "* Create a random number series of 0 and 1 (at least 10000 long)\n",
    "* Count the length of the successive 1-s (e.g. 0111010 the first sequence has a length of 3 the second has a length of 1)\n",
    "* Plot a histogram from these values"
   ]
  },
  {
   "cell_type": "code",
   "execution_count": 181,
   "metadata": {},
   "outputs": [
    {
     "data": {
      "image/png": "[encoded data removed]",
      "text/plain": [
       "<Figure size 432x288 with 1 Axes>"
      ]
     },
     "metadata": {
      "needs_background": "light"
     },
     "output_type": "display_data"
    }
   ],
   "source": [
    "n = 10000\n",
    "def successive(n):\n",
    "    vec = np.random.randint(0, 2, n)\n",
    "    pos = [k for k in range(n) if vec[k] == 0]\n",
    "    diff = np.array(pos[1:]) - np.array(pos[:len(pos) - 1])\n",
    "    return diff\n",
    "v = successive(n)\n",
    "plt.hist(v, density = 0)\n",
    "plt.yscale('log')\n",
    "plt.show()"
   ]
  },
  {
   "cell_type": "markdown",
   "metadata": {},
   "source": [
    "#### Curve fitting"
   ]
  },
  {
   "cell_type": "code",
   "execution_count": 182,
   "metadata": {},
   "outputs": [
    {
     "data": {
      "image/png": "[encoded data removed]",
      "text/plain": [
       "<Figure size 432x288 with 1 Axes>"
      ]
     },
     "metadata": {
      "needs_background": "light"
     },
     "output_type": "display_data"
    }
   ],
   "source": [
    "import numpy as np\n",
    "import matplotlib.pyplot as plt\n",
    "\n",
    "# Seed the random number generator for reproducibility\n",
    "np.random.seed(12345)\n",
    "\n",
    "x_data = np.linspace(-6, 6, num=50)\n",
    "y_data = 2.5 * np.sin(1.5 * x_data) + np.random.normal(size=50) / 2\n",
    "\n",
    "# And plot it\n",
    "plt.figure(figsize=(6, 4))\n",
    "plt.scatter(x_data, y_data)\n",
    "plt.show()"
   ]
  },
  {
   "cell_type": "markdown",
   "metadata": {},
   "source": [
    "Curve fitting"
   ]
  },
  {
   "cell_type": "code",
   "execution_count": 183,
   "metadata": {},
   "outputs": [
    {
     "name": "stdout",
     "output_type": "stream",
     "text": [
      "[2.47741027 1.47555482]\n"
     ]
    }
   ],
   "source": [
    "from scipy import optimize\n",
    "\n",
    "def test_func(x, a, b):\n",
    "    return a * np.sin(b * x)\n",
    "\n",
    "params, params_covariance = optimize.curve_fit(test_func, x_data, y_data,\n",
    "                                               p0=[2, 2])\n",
    "\n",
    "print(params)"
   ]
  },
  {
   "cell_type": "code",
   "execution_count": 184,
   "metadata": {},
   "outputs": [
    {
     "data": {
      "image/png": "[encoded data removed]",
      "text/plain": [
       "<Figure size 432x288 with 1 Axes>"
      ]
     },
     "metadata": {
      "needs_background": "light"
     },
     "output_type": "display_data"
    }
   ],
   "source": [
    "plt.figure()\n",
    "plt.scatter(x_data, y_data, label='Data')\n",
    "plt.plot(x_data, test_func(x_data, params[0], params[1]),\n",
    "         label='Fitted function')\n",
    "\n",
    "plt.legend(loc='upper left')\n",
    "axes = plt.gca()\n",
    "axes.set_ylim([-3.2,4.5])\n",
    "plt.show()"
   ]
  },
  {
   "cell_type": "code",
   "execution_count": 185,
   "metadata": {},
   "outputs": [
    {
     "data": {
      "image/png": "[encoded data removed]",
      "text/plain": [
       "<Figure size 432x288 with 1 Axes>"
      ]
     },
     "metadata": {
      "needs_background": "light"
     },
     "output_type": "display_data"
    }
   ],
   "source": [
    "import numpy as np\n",
    "import matplotlib.pyplot as plt\n",
    "\n",
    "# Seed the random number generator for reproducibility\n",
    "np.random.seed(12345)\n",
    "\n",
    "x_data = np.linspace(0, 6, num=50)\n",
    "y_data = 2.5 * np.exp(-1.5 * x_data) * (np.random.normal(size=50) * 0.2 + 0.9)\n",
    "\n",
    "# And plot it\n",
    "plt.figure(figsize=(6, 4))\n",
    "plt.scatter(x_data, y_data)\n",
    "plt.show()"
   ]
  },
  {
   "cell_type": "code",
   "execution_count": 187,
   "metadata": {},
   "outputs": [
    {
     "name": "stdout",
     "output_type": "stream",
     "text": [
      "[ 2.23450974 -1.35675668]\n"
     ]
    }
   ],
   "source": [
    "from scipy import optimize\n",
    "\n",
    "def test_exp(x, a, b):\n",
    "    return a * np.exp(b * x)\n",
    "\n",
    "expfit, params_covariance = optimize.curve_fit(test_exp, x_data, y_data,\n",
    "                                               p0=[2, 2])\n",
    "\n",
    "print(expfit)"
   ]
  },
  {
   "cell_type": "code",
   "execution_count": 188,
   "metadata": {},
   "outputs": [
    {
     "data": {
      "image/png": "[encoded data removed]",
      "text/plain": [
       "<Figure size 432x288 with 1 Axes>"
      ]
     },
     "metadata": {
      "needs_background": "light"
     },
     "output_type": "display_data"
    }
   ],
   "source": [
    "import numpy as np\n",
    "import matplotlib.pyplot as plt\n",
    "\n",
    "# Seed the random number generator for reproducibility\n",
    "np.random.seed(12345)\n",
    "\n",
    "x_data = np.linspace(0, 6, num=50)\n",
    "y_data = 2.5 * np.exp(-1.5 * x_data) * (np.random.normal(size=50) * 0.2 + 0.9)\n",
    "\n",
    "# And plot it\n",
    "plt.figure(figsize=(6, 4))\n",
    "plt.scatter(x_data, np.log(y_data))\n",
    "plt.show()"
   ]
  },
  {
   "cell_type": "code",
   "execution_count": 189,
   "metadata": {},
   "outputs": [
    {
     "name": "stdout",
     "output_type": "stream",
     "text": [
      "-1.5457669890765926 2.4649024081522715\n"
     ]
    }
   ],
   "source": [
    "from scipy import optimize\n",
    "\n",
    "def test_lin(x, a, b):\n",
    "    return a * x + b\n",
    "\n",
    "linfit, params_covariance = optimize.curve_fit(test_lin, x_data, np.log(y_data),\n",
    "                                               p0=[2, 2])\n",
    "\n",
    "print(linfit[0],np.exp(linfit[1]))"
   ]
  },
  {
   "cell_type": "code",
   "execution_count": 190,
   "metadata": {},
   "outputs": [
    {
     "data": {
      "image/png": "[encoded data removed]",
      "text/plain": [
       "<Figure size 432x288 with 1 Axes>"
      ]
     },
     "metadata": {
      "needs_background": "light"
     },
     "output_type": "display_data"
    }
   ],
   "source": [
    "import numpy as np\n",
    "import matplotlib.pyplot as plt\n",
    "\n",
    "# Seed the random number generator for reproducibility\n",
    "np.random.seed(12345)\n",
    "\n",
    "x_data = np.linspace(0, 6, num=50)\n",
    "y_data = 2.5 * np.exp(-1.5 * x_data) * (np.random.normal(size=50) * 0.2 + 0.9)\n",
    "\n",
    "# And plot it\n",
    "plt.figure(figsize=(6, 4))\n",
    "plt.scatter(x_data, y_data, label='Data')\n",
    "plt.plot(x_data, test_exp(x_data, expfit[0], expfit[1]),\n",
    "         label='Fitted function',color=\"green\")\n",
    "plt.legend(loc='upper right')\n",
    "plt.show()"
   ]
  },
  {
   "cell_type": "code",
   "execution_count": 191,
   "metadata": {},
   "outputs": [
    {
     "data": {
      "image/png": "[encoded data removed]",
      "text/plain": [
       "<Figure size 432x288 with 1 Axes>"
      ]
     },
     "metadata": {
      "needs_background": "light"
     },
     "output_type": "display_data"
    }
   ],
   "source": [
    "import numpy as np\n",
    "import matplotlib.pyplot as plt\n",
    "\n",
    "# Seed the random number generator for reproducibility\n",
    "np.random.seed(12345)\n",
    "\n",
    "x_data = np.linspace(0, 6, num=50)\n",
    "y_data = 2.5 * np.exp(-1.5 * x_data) * (np.random.normal(size=50) * 0.2 + 0.9)\n",
    "\n",
    "# And plot it\n",
    "plt.figure(figsize=(6, 4))\n",
    "plt.scatter(x_data, np.log(y_data))\n",
    "plt.plot(x_data, np.log(test_exp(x_data, expfit[0], expfit[1])),\n",
    "         label='Fitted exp',color=\"green\")\n",
    "plt.plot(x_data, test_lin(x_data, linfit[0], linfit[1]),\n",
    "         label='Fitted lin',color=\"blue\")\n",
    "plt.legend(loc='upper right')\n",
    "\n",
    "plt.show()"
   ]
  },
  {
   "cell_type": "markdown",
   "metadata": {},
   "source": [
    "### Plotting examples"
   ]
  },
  {
   "cell_type": "code",
   "execution_count": null,
   "metadata": {},
   "outputs": [],
   "source": [
    "import matplotlib.pyplot as plt\n",
    "import numpy as np"
   ]
  },
  {
   "cell_type": "markdown",
   "metadata": {},
   "source": [
    "# Pie plot \n",
    "## (maybe the most difficult.. )"
   ]
  },
  {
   "cell_type": "code",
   "execution_count": null,
   "metadata": {},
   "outputs": [],
   "source": [
    "city = 'Rome'"
   ]
  },
  {
   "cell_type": "code",
   "execution_count": null,
   "metadata": {},
   "outputs": [],
   "source": [
    "# figure, ax (plot), axes_cm (colormaps)\n",
    "fig = plt.figure(figsize=(8,8))\n",
    "ax  = plt.axes([0.025,0.025,0.75,0.75], polar=True)\n",
    "\n",
    "heights = cities[city]\n",
    "N       = len(heights)\n",
    "thetas  = np.linspace(0.0, 2*np.pi, N+1)[:-1] + + np.pi/N\n",
    "width   = 0.9*(2*np.pi/N)\n",
    "\n",
    "bars    = ax.bar(thetas, heights, lw=0.5, width=width, color='#31a354', label = city)\n",
    "\n",
    "# refining the plot.\n",
    "plt.grid(axis='x', ls = '--', alpha=0.4)\n",
    "plt.grid(axis='y', color = 'k', alpha=0.4)\n",
    "ax.set_xticks(thetas)\n",
    "ax.set_xticklabels(months)\n",
    "ax.spines['polar'].set_visible(False)\n",
    "plt.legend()"
   ]
  },
  {
   "cell_type": "markdown",
   "metadata": {},
   "source": [
    "# Error bars"
   ]
  },
  {
   "cell_type": "code",
   "execution_count": null,
   "metadata": {},
   "outputs": [],
   "source": [
    "n_points  = 50\n",
    "n_samples = 10\n",
    "\n",
    "\n",
    "x = np.linspace(0, 100, n_points)\n",
    "def f(x): return 2*x+np.random.uniform(0, 100, size = len(x))\n",
    "def f(x): return 2*x+50*np.random.normal(size = len(x))\n",
    "\n",
    "\n",
    "ys = np.array([f(x) for i in range(n_samples)]) #each line is an experiment at time i where i is the column\n",
    "average_values = np.mean(ys, axis=0)\n",
    "errs = np.std(ys, axis=0)"
   ]
  },
  {
   "cell_type": "code",
   "execution_count": null,
   "metadata": {},
   "outputs": [],
   "source": [
    "ys.shape"
   ]
  },
  {
   "cell_type": "code",
   "execution_count": null,
   "metadata": {},
   "outputs": [],
   "source": [
    "average_values.shape"
   ]
  },
  {
   "cell_type": "code",
   "execution_count": null,
   "metadata": {},
   "outputs": [],
   "source": [
    "fig, ax = plt.subplots(figsize=(8,8))\n",
    "\n",
    "# scatter plot\n",
    "[ax.plot(x, y, '.', alpha=0.3) for y in ys];\n",
    "\n",
    "# error bar\n",
    "ax.errorbar(x, average_values, yerr = errs, elinewidth=1, errorevery=1);"
   ]
  },
  {
   "cell_type": "markdown",
   "metadata": {},
   "source": [
    "# Heat map"
   ]
  },
  {
   "cell_type": "code",
   "execution_count": null,
   "metadata": {},
   "outputs": [],
   "source": [
    "n_points = 1000000\n",
    "\n",
    "gaussian_2d_a = 2+np.random.normal(0, 1, size=n_points), 55+10*np.random.normal(0, 2, size=n_points)\n",
    "gaussian_2d_b = 10+np.random.normal(0, 1, size=n_points), 5+6*np.random.normal(0, 1, size=n_points)\n",
    "gaussian_2d_c = 8+np.random.normal(0, 1, size=n_points*4), 135+10*np.random.normal(0, 3, size=n_points*4)\n"
   ]
  },
  {
   "cell_type": "code",
   "execution_count": null,
   "metadata": {},
   "outputs": [],
   "source": [
    "x,y = [np.concatenate(i) for i in zip(gaussian_2d_a,gaussian_2d_b, gaussian_2d_c)]"
   ]
  },
  {
   "cell_type": "code",
   "execution_count": null,
   "metadata": {
    "scrolled": true
   },
   "outputs": [],
   "source": [
    "fig, ax = plt.subplots()\n",
    "\n",
    "ax.hist2d(x,y, bins=100);"
   ]
  },
  {
   "cell_type": "markdown",
   "metadata": {},
   "source": [
    "***\n",
    "\n",
    "### Dealing with dates and times\n",
    "\n",
    "Timestamps can be surprisingly tricky to deal with in programs. For example:\n",
    "\n",
    "* How many days are between April 21, 1986 and today?\n",
    "\n",
    "To answer this properly, you need full information on the calendar, including leap years. And don't get started on **time zones**.\n",
    "\n",
    "### Datetime\n",
    "\n",
    "Fortunately, python has [builtin support for date and time data](http://docs.python.org/2/library/datetime.html). It's not trivial to use but it works.\n",
    "\n",
    "Let's answer the above question. `datetime` gives us useful date objects, `date`, `time`, and `datetime`. These let us store a date, a time of day, or both, respectively."
   ]
  },
  {
   "cell_type": "code",
   "execution_count": null,
   "metadata": {},
   "outputs": [],
   "source": [
    "import datetime\n",
    "\n",
    "D1 = datetime.date(1986, 4, 21)\n",
    "T1 = datetime.time(12,0,0) # noon\n",
    "DT = datetime.datetime(1986, 4, 21, 12, 15, 0)\n",
    "\n",
    "# Typically you want to work with datetime because you can\n",
    "# omit the time values and then it defaults to midnight.\n",
    "D = datetime.datetime(1986,4,21)"
   ]
  },
  {
   "cell_type": "markdown",
   "metadata": {},
   "source": [
    "Once you have a `datetime` object you can do fancy things with it:"
   ]
  },
  {
   "cell_type": "code",
   "execution_count": null,
   "metadata": {},
   "outputs": [],
   "source": [
    "print(\"The year was %i and the day is %i.\" % (D.year, D.day))\n",
    "\n",
    "print (\"The day of the week was %i.\" % (D.weekday()))\n",
    "print (\"(Monday = 0, ..., Sunday = 6.)\")"
   ]
  },
  {
   "cell_type": "code",
   "execution_count": null,
   "metadata": {},
   "outputs": [],
   "source": [
    "Dnow = datetime.datetime.now()\n",
    "print(Dnow)"
   ]
  },
  {
   "cell_type": "markdown",
   "metadata": {},
   "source": [
    "We can format the time using for example strftime (all information about the format [ here](https://docs.python.org/2/library/datetime.html#strftime-strptime-behavior)):"
   ]
  },
  {
   "cell_type": "code",
   "execution_count": null,
   "metadata": {},
   "outputs": [],
   "source": [
    "Dnow.strftime(\"%I:%M%p\") "
   ]
  },
  {
   "cell_type": "markdown",
   "metadata": {},
   "source": [
    "More importantly, these objects support math operations that are meaningful for time:"
   ]
  },
  {
   "cell_type": "code",
   "execution_count": null,
   "metadata": {},
   "outputs": [],
   "source": [
    "print (Dnow - D)"
   ]
  },
  {
   "cell_type": "markdown",
   "metadata": {},
   "source": [
    "What this does is create another data object, called a `timedelta` object:"
   ]
  },
  {
   "cell_type": "code",
   "execution_count": null,
   "metadata": {},
   "outputs": [],
   "source": [
    "dt = Dnow - D\n",
    "print(type(dt))\n",
    "print(\"There are %i days between then and now.\" % dt.days)"
   ]
  },
  {
   "cell_type": "markdown",
   "metadata": {},
   "source": [
    "`timedelta` encodes time intervals. This allow us to do more operations:"
   ]
  },
  {
   "cell_type": "code",
   "execution_count": null,
   "metadata": {},
   "outputs": [],
   "source": [
    "interval = datetime.timedelta(days=100,hours=12) # 100.5 days\n",
    "\n",
    "soon = datetime.datetime.now() + interval # addition!\n",
    "\n",
    "interval_days =interval.days #if you want also the .5, need to hack a bit and do interval.total_seconds()/3600.0/24\n",
    "\n",
    "print (\"In %0.1f days it will be %s.\" % (interval_days, soon))\n"
   ]
  },
  {
   "cell_type": "markdown",
   "metadata": {},
   "source": [
    "OK, the real work comes when reading and writing **timestamps**. We need to be able to understand how `2012-04-26` incorporates a date in the same way that `April 26, 2012` does.\n",
    "\n",
    "`datetime` provides us tools to read and write such timestamps. Let's first define two different timestamps and a timedelta"
   ]
  },
  {
   "cell_type": "code",
   "execution_count": null,
   "metadata": {},
   "outputs": [],
   "source": [
    "ts1 = \"2012-04-26\"\n",
    "ts2 = \"January 5, 1978\""
   ]
  },
  {
   "cell_type": "markdown",
   "metadata": {},
   "source": [
    "We can now use a function to parse a string for a time given a string representing a time format. This uses a function called strptime (read it as \"**str**ing **p**arse\" **time**\"). \n",
    "\n",
    "Here we go."
   ]
  },
  {
   "cell_type": "code",
   "execution_count": null,
   "metadata": {},
   "outputs": [],
   "source": [
    "d1 = datetime.datetime.strptime( ts1, \"%Y-%m-%d\" )\n",
    "print(d1)\n",
    "print(d1 + datetime.timedelta(days=-7))"
   ]
  },
  {
   "cell_type": "markdown",
   "metadata": {},
   "source": [
    "The string `\"%Y-%m-%d\"` encodes the timestamp format we were looking for. A four-digit year (`%Y`), a dash (`-`), a two-digit month number (`%m`), another dash, and then a day number (`%d`).\n",
    "\n",
    "Now ts2 incorporates the name of a month, so that format string is a little different (`%B` means the full month name)."
   ]
  },
  {
   "cell_type": "code",
   "execution_count": null,
   "metadata": {},
   "outputs": [],
   "source": [
    "d2 = datetime.datetime.strptime( ts2, \"%B %d, %Y\" )\n",
    "print(d2)\n",
    "print(d2 - datetime.timedelta(days=-7))"
   ]
  },
  {
   "cell_type": "markdown",
   "metadata": {},
   "source": [
    "There's a huge number of ways to build a format string. Best is to look up the documentation: http://docs.python.org/2/library/datetime.html#strftime-strptime-behavior\n",
    "\n",
    "Parallel to strptime is another function, `strftime` (string format time) that does the opposite: it takes a `date` or `datetime` and returns a timestamp format string."
   ]
  },
  {
   "cell_type": "code",
   "execution_count": null,
   "metadata": {},
   "outputs": [],
   "source": [
    "s_before = \"Jan 19, '89\"\n",
    "d = datetime.datetime.strptime(\"Jan 19, '89\", \"%b %d, '%y\")\n",
    "s_after  = d.strftime(\"%Y-%m-%d\")\n",
    "print (s_before, \"--->\", s_after)"
   ]
  },
  {
   "cell_type": "markdown",
   "metadata": {},
   "source": [
    "Datetime is extremely useful, because different data sources encode times in different ways. Some formats are easy for humans to read, but I like the standard `%Y-%m-%d %H:%M:%S` UNIX-style timestamp because it _sorts nicely_."
   ]
  },
  {
   "cell_type": "markdown",
   "metadata": {},
   "source": [
    "## Exercise\n",
    "* Write a Python program to subtract five days from current date\n",
    "* Write a Python program to add 5 seconds with current time\n",
    "* Write a Python program to get a list of dates between two dates"
   ]
  },
  {
   "cell_type": "markdown",
   "metadata": {},
   "source": [
    "##### ASIDE: The epoch.\n",
    "\n",
    "Sometimes you see a date that looks weird:"
   ]
  },
  {
   "cell_type": "code",
   "execution_count": null,
   "metadata": {},
   "outputs": [],
   "source": [
    "import time # another time module!\n",
    "\n",
    "print(time.time()) # what the heck!"
   ]
  },
  {
   "cell_type": "markdown",
   "metadata": {},
   "source": [
    "This function is another way to get the _current time_ but it's encoded in numeric format: **the number of seconds since the epoch**. Let's explore:"
   ]
  },
  {
   "cell_type": "code",
   "execution_count": null,
   "metadata": {},
   "outputs": [],
   "source": [
    "t = time.time()\n",
    "y = t / 60 / 60 / 24 / 365.25 # oops, leap years!\n",
    "print(y,(y-48)*12)"
   ]
  },
  {
   "cell_type": "markdown",
   "metadata": {},
   "source": [
    "OK, what the heck happened back then?"
   ]
  },
  {
   "cell_type": "code",
   "execution_count": null,
   "metadata": {},
   "outputs": [],
   "source": [
    "days_delta = time.time() / 60 / 60 / 24\n",
    "print (datetime.datetime.now() - datetime.timedelta(days=days_delta))"
   ]
  },
  {
   "cell_type": "markdown",
   "metadata": {},
   "source": [
    "The epoch (\"epoch\" means \"reference date\") is the [UNIX epoch](http://en.wikipedia.org/wiki/Unix_time), Jan 1, 1970.\n",
    "\n",
    "* `time.time()` returns the number of seconds since 00:00:00 Coordinated Universal Time (UTC), Thursday, 1 January 1970, not counting leap seconds.\n",
    "\n",
    "Why 1970? Because of these guys:\n",
    "\n",
    "&nbsp;&nbsp;&nbsp;&nbsp;&nbsp;<img src=\"https://upload.wikimedia.org/wikipedia/commons/8/8f/Ken_Thompson_(sitting)_and_Dennis_Ritchie_at_PDP-11_(2876612463).jpg\" alt=\"Dennis Ritchie and Ken Thompson\" style=\"width: 500px;\">\n"
   ]
  },
  {
   "cell_type": "markdown",
   "metadata": {},
   "source": [
    "These numeric timestamp formats were very useful when it was too expensive to have a complex library like `datetime`."
   ]
  },
  {
   "cell_type": "markdown",
   "metadata": {},
   "source": [
    "### Exercise\n",
    "* Calculate the difference in days between the unix Epoch and your birthdate"
   ]
  }
 ],
 "metadata": {
  "kernelspec": {
   "display_name": "Python 3",
   "language": "python",
   "name": "python3"
  },
  "language_info": {
   "codemirror_mode": {
    "name": "ipython",
    "version": 3
   },
   "file_extension": ".py",
   "mimetype": "text/x-python",
   "name": "python",
   "nbconvert_exporter": "python",
   "pygments_lexer": "ipython3",
   "version": "3.6.6"
  }
 },
 "nbformat": 4,
 "nbformat_minor": 2
}

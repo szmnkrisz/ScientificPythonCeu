{
 "cells": [
  {
   "cell_type": "markdown",
   "metadata": {},
   "source": [
    "# Class 8"
   ]
  },
  {
   "cell_type": "markdown",
   "metadata": {},
   "source": [
    "## Networks"
   ]
  },
  {
   "cell_type": "code",
   "execution_count": 2,
   "metadata": {},
   "outputs": [],
   "source": [
    "import networkx as nx\n",
    "#from igraph import Graph\n",
    "import numpy as np\n",
    "import matplotlib.pyplot as plt\n",
    "import matplotlib\n",
    "%matplotlib inline"
   ]
  },
  {
   "cell_type": "markdown",
   "metadata": {},
   "source": [
    "## Brief introduction\n",
    "\n",
    "<b>Networks/graphs</b> are (1) a set of objects (called nodes or vertices), (2) relationships between those objects (called links or edges)</br> $G(N,E)$: The graph $G$ is composed of the set of nodes $N$ and the set of edges $E$ connecting the nodes\n",
    "\n",
    "<img src=\"http://connectedthebook.com/images/links/social_networks2.gif\" alt=\"a Network\" style=\"width:304px;height:228px;\">\n",
    "\n",
    "\n",
    "Types of graphs:\n",
    "* **Undirected** or **directed** networks. The friendship network in Facebook is an example of an undirected graph, twitter is a directed graph.\n",
    "* **Unweighted** or **weighted**: the friendship network in Facebook is unweighted, the airport network (nodes: airports, links: number of airplanes flying between two airports) is weighted. \n",
    "* **Multilayer**: $G(N_1,N_2,E_1,E_2,E_{12})$ multi dimensional networks, e.g. network of the internet hubs and the power suppliers\n",
    "* **Multiplex networks**: $G(N,E1,E2)$, Multilayer networks, where nodes are the same in all layer, e.g. social network (layer communication channel), cities, and transportation possibilities)\n",
    "\n",
    "Jargon:\n",
    "* Node $j$ is a **neighbor** of node $i$ if the edge $(i,j)$ exists. The **neighborhood** of $i$ is the set of all $i$'s neighbors.\n",
    "* The **degree** of $i$ is the number of its neighbors. The **degree distribution** $P(k)$ is the probability that a randomly chosen node in the network has degree $k$.\n",
    "* **Hubs** are nodes with very high degree. In many networks (the Internet, social networks, etc.) they are rare but much more common than you may expect.\n",
    "* **Sparse**: Most pairs of nodes do not have a link. Real-world networks are of this kind.\n",
    "* A **path** between two nodes, say $i$ and $j$, is the series of nodes that you need to traverse in order to get from $i$ to $j$ (and from $j$ to $i$ in case of undirected graphs).\n",
    "* The **distance** between nodes $i$ and $j$ is the length of the *shortest path* between them. The **diameter** of a network is the *longest* shortest path.\n",
    "* **Clustering coefficient** $c_i$ of node $i$ is the fraction of neighbors of $i$ that are linked: \n",
    "\n",
    "$$c_i = \\frac{T_i}{\\binom{k_i}{2}} = \\frac{2T_i}{k_i(k_i-1)}$$\n",
    "\n",
    "where $T_i$ is the number of triangles through node $i$. In simple words it quantifies how many of $i$'s friends also know each other.\n",
    "\n",
    "Specific graphs:\n",
    "* **Complete graphs**: every link exists $\\binom{n}{2}$ links for $n$ nodes.\n",
    "* **Lattices**\n",
    "* **Erdős-Rényi** graphs\n",
    "* Many more\n",
    "\n"
   ]
  },
  {
   "cell_type": "markdown",
   "metadata": {},
   "source": [
    "### Creating a Graph\n",
    "Graph is just a collection of nodes(vertices) with edges(links, etc.)\n",
    "</br>\n",
    "In NetworkX, nodes can be any hashable obejct: string, image, XML object, another Graph, customized node object. Flexibility boosts efficiency!"
   ]
  },
  {
   "cell_type": "code",
   "execution_count": 3,
   "metadata": {},
   "outputs": [
    {
     "name": "stdout",
     "output_type": "stream",
     "text": [
      "[] []\n"
     ]
    }
   ],
   "source": [
    "G = nx.Graph()            # create an empty graph with no nodes and no edges\n",
    "print(G.nodes(), G.edges())"
   ]
  },
  {
   "cell_type": "markdown",
   "metadata": {},
   "source": [
    "### Nodes\n",
    "Adding node and nodes using add_node and add_nodes_from."
   ]
  },
  {
   "cell_type": "code",
   "execution_count": 4,
   "metadata": {},
   "outputs": [
    {
     "name": "stdout",
     "output_type": "stream",
     "text": [
      "[11]\n"
     ]
    }
   ],
   "source": [
    "G.add_node(11)    # add a single node\n",
    "print(G.nodes())"
   ]
  },
  {
   "cell_type": "code",
   "execution_count": 5,
   "metadata": {},
   "outputs": [
    {
     "name": "stdout",
     "output_type": "stream",
     "text": [
      "[11, 12, 13]\n",
      "number of nodes in the graph: 3\n"
     ]
    }
   ],
   "source": [
    "G.add_nodes_from([12,13])    # add a list of nodes\n",
    "print(G.nodes())\n",
    "print('number of nodes in the graph:', G.number_of_nodes())"
   ]
  },
  {
   "cell_type": "markdown",
   "metadata": {},
   "source": [
    "### Edges"
   ]
  },
  {
   "cell_type": "code",
   "execution_count": 6,
   "metadata": {},
   "outputs": [
    {
     "name": "stdout",
     "output_type": "stream",
     "text": [
      "[51, 52, 55, 'a', 'funny node'] [(51, 52)]\n",
      "Name: \n",
      "Type: Graph\n",
      "Number of nodes: 5\n",
      "Number of edges: 1\n",
      "Average degree:   0.4000\n"
     ]
    }
   ],
   "source": [
    "G.clear()\n",
    "G.add_nodes_from([51,52,55,\"a\",\"funny node\"])\n",
    "G.add_edge(51,52)\n",
    "print(G.nodes(), G.edges())\n",
    "print(nx.info(G))"
   ]
  },
  {
   "cell_type": "code",
   "execution_count": 7,
   "metadata": {},
   "outputs": [
    {
     "name": "stdout",
     "output_type": "stream",
     "text": [
      "[(1, 2), (1, 3)]\n",
      "[(1, 2), (1, 3)]\n",
      "[1, 2, 3]\n"
     ]
    }
   ],
   "source": [
    "G.clear()\n",
    "G.add_edges_from([(1,2), (1,3)]) # add edges from a edge list\n",
    "print(G.edges())\n",
    "G.add_edges_from([(2,1)]) # adding an edge that is already present\n",
    "print(G.edges()) # No difference!\n",
    "print(G.nodes())"
   ]
  },
  {
   "cell_type": "markdown",
   "metadata": {},
   "source": [
    "### Directed graphs"
   ]
  },
  {
   "cell_type": "code",
   "execution_count": 8,
   "metadata": {},
   "outputs": [
    {
     "name": "stdout",
     "output_type": "stream",
     "text": [
      "[(1, 2), (1, 3)]\n",
      "[(1, 2), (1, 3), (2, 1)]\n",
      "Neigbors [2, 3]\n",
      "Successors [2, 3]\n",
      "Predecessors [2]\n"
     ]
    }
   ],
   "source": [
    "G = nx.DiGraph()\n",
    "G.add_edges_from([(1,2), (1,3)])\n",
    "print(G.edges())\n",
    "G.add_edges_from([(2,1)]) # add reverse edge\n",
    "print(G.edges()) # it is there\n",
    "print(\"Neigbors\",list(G.neighbors(1)))\n",
    "print(\"Successors\",list(G.successors(1)))\n",
    "print(\"Predecessors\",list(G.predecessors(1)))"
   ]
  },
  {
   "cell_type": "code",
   "execution_count": 9,
   "metadata": {},
   "outputs": [
    {
     "name": "stdout",
     "output_type": "stream",
     "text": [
      "[(1, 2), (1, 3)]\n",
      "[1, 2, 3, 0]\n",
      "[2, 3]\n"
     ]
    }
   ],
   "source": [
    "G = nx.Graph()\n",
    "G.add_edges_from([(1,2), (1,3)])\n",
    "G.add_node(0)\n",
    "print(G.edges())\n",
    "print(G.nodes())\n",
    "print(list(G.neighbors(1)))"
   ]
  },
  {
   "cell_type": "markdown",
   "metadata": {},
   "source": [
    "### Drawing Graphs\n",
    "You can draw basic graphs using Matplotlib (which is included in Anaconda already) or use Graphviz instead.\n",
    "\n",
    "See https://networkx.github.io/documentation/latest/reference/drawing.html for more details."
   ]
  },
  {
   "cell_type": "code",
   "execution_count": 11,
   "metadata": {},
   "outputs": [
    {
     "name": "stderr",
     "output_type": "stream",
     "text": [
      "C:\\Users\\szmnk\\Anaconda3\\lib\\site-packages\\networkx\\drawing\\nx_pylab.py:611: MatplotlibDeprecationWarning: isinstance(..., numbers.Number)\n",
      "  if cb.is_numlike(alpha):\n"
     ]
    },
    {
     "data": {
      "image/png": "[encoded data removed]",
      "text/plain": [
       "<Figure size 432x288 with 1 Axes>"
      ]
     },
     "metadata": {
      "needs_background": "light"
     },
     "output_type": "display_data"
    }
   ],
   "source": [
    "nx.draw_networkx(G, with_labels=True)\n",
    "plt.show()"
   ]
  },
  {
   "cell_type": "code",
   "execution_count": 12,
   "metadata": {},
   "outputs": [
    {
     "name": "stdout",
     "output_type": "stream",
     "text": [
      "[(1, 2), (1, 3)]\n"
     ]
    },
    {
     "data": {
      "image/png": "[encoded data removed]",
      "text/plain": [
       "<Figure size 432x288 with 1 Axes>"
      ]
     },
     "metadata": {
      "needs_background": "light"
     },
     "output_type": "display_data"
    }
   ],
   "source": [
    "G = nx.DiGraph()\n",
    "G.add_edges_from([(1,2), (1,3)])\n",
    "print(G.edges())\n",
    "G.add_edge(2,1)\n",
    "nx.draw_networkx(G, with_labels=True)\n",
    "plt.axis('off')\n",
    "plt.show()"
   ]
  },
  {
   "cell_type": "markdown",
   "metadata": {},
   "source": [
    "### Adjacency matrix\n",
    "$A_{ij}=1$ if nodes $i$ and $j$ are connected, $A_{ij}=0$ otherwise."
   ]
  },
  {
   "cell_type": "code",
   "execution_count": 17,
   "metadata": {},
   "outputs": [
    {
     "name": "stderr",
     "output_type": "stream",
     "text": [
      "C:\\Users\\szmnk\\Anaconda3\\lib\\site-packages\\networkx\\drawing\\nx_pylab.py:611: MatplotlibDeprecationWarning: isinstance(..., numbers.Number)\n",
      "  if cb.is_numlike(alpha):\n"
     ]
    },
    {
     "data": {
      "image/png": "[encoded data removed]",
      "text/plain": [
       "<Figure size 432x288 with 1 Axes>"
      ]
     },
     "metadata": {
      "needs_background": "light"
     },
     "output_type": "display_data"
    }
   ],
   "source": [
    "adj = np.array([[0, 1, 0],\n",
    "              [1, 0, 1],\n",
    "              [1, 1, 0]])\n",
    "G = nx.from_numpy_matrix(adj)\n",
    "nx.draw_networkx(G, with_labels=True)\n",
    "plt.axis('off')\n",
    "plt.show()"
   ]
  },
  {
   "cell_type": "code",
   "execution_count": 14,
   "metadata": {},
   "outputs": [
    {
     "data": {
      "image/png": "[encoded data removed]",
      "text/plain": [
       "<Figure size 432x288 with 1 Axes>"
      ]
     },
     "metadata": {
      "needs_background": "light"
     },
     "output_type": "display_data"
    }
   ],
   "source": [
    "adj = np.array([[0, 1, 0],\n",
    "              [1, 0, 1],\n",
    "              [1, 1, 0]])\n",
    "G = nx.from_numpy_matrix(adj,create_using=nx.DiGraph)\n",
    "nx.draw_networkx(G, with_labels=True)\n",
    "plt.axis('off')\n",
    "plt.show()"
   ]
  },
  {
   "cell_type": "markdown",
   "metadata": {},
   "source": [
    "### Exercise 1\n",
    "Create and plot the following graph\n",
    "<img src=\"net_ex.png\">"
   ]
  },
  {
   "cell_type": "code",
   "execution_count": 22,
   "metadata": {},
   "outputs": [
    {
     "name": "stderr",
     "output_type": "stream",
     "text": [
      "C:\\Users\\szmnk\\Anaconda3\\lib\\site-packages\\networkx\\drawing\\nx_pylab.py:611: MatplotlibDeprecationWarning: isinstance(..., numbers.Number)\n",
      "  if cb.is_numlike(alpha):\n"
     ]
    },
    {
     "data": {
      "image/png": "[encoded data removed]",
      "text/plain": [
       "<Figure size 432x288 with 1 Axes>"
      ]
     },
     "metadata": {
      "needs_background": "light"
     },
     "output_type": "display_data"
    }
   ],
   "source": [
    "G = nx.Graph()\n",
    "G.add_edges_from([(1,2), (1,\"T\"), (2, \"a\"),(2,5), (\"T\", 5), (4,5),(1,4)])\n",
    "#print(G.edges())\n",
    "#print(G.nodes())\n",
    "#print(list(G.neighbors(1)))\n",
    "nx.draw_networkx(G, with_labels=True)\n",
    "plt.axis('off')\n",
    "plt.show()"
   ]
  },
  {
   "cell_type": "markdown",
   "metadata": {},
   "source": [
    "### Exercise 2\n",
    "For the previous graph:\n",
    "* Count the number of edges\n",
    "* Count the number of nodes\n",
    "* Calculate the average degree per node\n",
    "* Calculate the maximum and minimum number of neighbors\n",
    "* Calculate the number of nodes with degree = 2"
   ]
  },
  {
   "cell_type": "code",
   "execution_count": 44,
   "metadata": {},
   "outputs": [
    {
     "name": "stdout",
     "output_type": "stream",
     "text": [
      "Name: \n",
      "Type: Graph\n",
      "Number of nodes: 6\n",
      "Number of edges: 7\n",
      "Average degree:   2.3333\n",
      "Max numbers of neighbors: 3\n",
      "Min numbers of neighbors: 1\n"
     ]
    },
    {
     "data": {
      "text/plain": [
       "2"
      ]
     },
     "execution_count": 44,
     "metadata": {},
     "output_type": "execute_result"
    }
   ],
   "source": [
    "print(nx.info(G))\n",
    "neighbors_len = [len(list(G.neighbors(i))) for i in G.nodes]\n",
    "print(\"Max numbers of neighbors: \" + str(max(neighbors_len)))\n",
    "print(\"Min numbers of neighbors: \" + str(min(neighbors_len)))\n",
    "len([i for i in neighbors_len if i == 2])"
   ]
  },
  {
   "cell_type": "markdown",
   "metadata": {},
   "source": [
    "### Wighted networks and properties"
   ]
  },
  {
   "cell_type": "code",
   "execution_count": 45,
   "metadata": {},
   "outputs": [
    {
     "name": "stdout",
     "output_type": "stream",
     "text": [
      "{'weight': 10, 'transport': 'bus'}\n"
     ]
    }
   ],
   "source": [
    "G = nx.Graph()\n",
    "G.add_edge(1,2,weight=10,transport=\"bus\")\n",
    "G.add_edge(2,3,weight=5,transport=\"train\")\n",
    "print(G[1][2])"
   ]
  },
  {
   "cell_type": "code",
   "execution_count": 16,
   "metadata": {},
   "outputs": [
    {
     "name": "stdout",
     "output_type": "stream",
     "text": [
      "(1, 2)\n",
      "(2, 3)\n"
     ]
    }
   ],
   "source": [
    "G = nx.Graph()\n",
    "G.add_edge(1,2,weight=10,transport=\"bus\")\n",
    "G.add_edge(2,3,weight=5,transport=\"train\")\n",
    "for e in G.edges():\n",
    "    print(e)"
   ]
  },
  {
   "cell_type": "code",
   "execution_count": 46,
   "metadata": {},
   "outputs": [
    {
     "name": "stdout",
     "output_type": "stream",
     "text": [
      "(1, 2, {'weight': 10, 'transport': 'bus'})\n",
      "(2, 3, {'weight': 5, 'transport': 'train'})\n"
     ]
    }
   ],
   "source": [
    "G = nx.Graph()\n",
    "G.add_edge(1,2,weight=10,transport=\"bus\")\n",
    "G.add_edge(2,3,weight=5,transport=\"train\")\n",
    "for e in G.edges(data=True):\n",
    "    print(e)"
   ]
  },
  {
   "cell_type": "code",
   "execution_count": 47,
   "metadata": {},
   "outputs": [
    {
     "name": "stdout",
     "output_type": "stream",
     "text": [
      "1 -- 2 [weight=10];\n",
      "2 -- 3 [weight=5];\n"
     ]
    }
   ],
   "source": [
    "G = nx.Graph()\n",
    "G.add_edge(1,2,weight=10,transport=\"bus\")\n",
    "G.add_edge(2,3,weight=5,transport=\"train\")\n",
    "for [e1, e2, w] in G.edges(data=True):\n",
    "    print(\"%d -- %d [weight=%g];\" % (e1,e2,w['weight']))"
   ]
  },
  {
   "cell_type": "code",
   "execution_count": 50,
   "metadata": {},
   "outputs": [
    {
     "name": "stderr",
     "output_type": "stream",
     "text": [
      "C:\\Users\\szmnk\\Anaconda3\\lib\\site-packages\\networkx\\drawing\\nx_pylab.py:611: MatplotlibDeprecationWarning: isinstance(..., numbers.Number)\n",
      "  if cb.is_numlike(alpha):\n"
     ]
    },
    {
     "data": {
      "image/png": "[encoded data removed]",
      "text/plain": [
       "<Figure size 432x288 with 1 Axes>"
      ]
     },
     "metadata": {
      "needs_background": "light"
     },
     "output_type": "display_data"
    }
   ],
   "source": [
    "G = nx.Graph()\n",
    "\n",
    "G.add_edge('a', 'b', weight=0.6)\n",
    "G.add_edge('a', 'c', weight=0.2)\n",
    "G.add_edge('c', 'd', weight=0.1)\n",
    "G.add_edge('c', 'e', weight=0.7)\n",
    "G.add_edge('c', 'f', weight=0.9)\n",
    "G.add_edge('a', 'd', weight=0.3)\n",
    "\n",
    "edges = [(u, v) for (u, v) in G.edges()]\n",
    "weight = [d['weight']*5.0 for (u, v, d) in G.edges(data=True)]\n",
    "\n",
    "pos = nx.spring_layout(G) #dynamical model for node positions\n",
    "nx.draw_networkx_nodes(G, pos, node_size=700) #draw nodes\n",
    "nx.draw_networkx_edges(G, pos, edgelist=edges, width=weight) #draw edges\n",
    "nx.draw_networkx_labels(G, pos, font_size=20) #draw labels\n",
    "\n",
    "plt.axis('off')\n",
    "plt.show()\n"
   ]
  },
  {
   "cell_type": "code",
   "execution_count": 49,
   "metadata": {},
   "outputs": [
    {
     "data": {
      "text/plain": [
       "['b', 'a', 'c', 'e']"
      ]
     },
     "execution_count": 49,
     "metadata": {},
     "output_type": "execute_result"
    }
   ],
   "source": [
    "nx.shortest_path(G,\"b\",\"e\",weight='weight')"
   ]
  },
  {
   "cell_type": "markdown",
   "metadata": {},
   "source": [
    "### Exercise 3\n",
    "Modify the weights that the shortest path will be through 'd'"
   ]
  },
  {
   "cell_type": "code",
   "execution_count": 58,
   "metadata": {},
   "outputs": [
    {
     "data": {
      "text/plain": [
       "['b', 'a', 'd', 'c', 'e']"
      ]
     },
     "execution_count": 58,
     "metadata": {},
     "output_type": "execute_result"
    }
   ],
   "source": [
    "G.edges['a','c']['weight'] = 1 \n",
    "nx.shortest_path(G,\"b\",\"e\",weight='weight')"
   ]
  },
  {
   "cell_type": "code",
   "execution_count": 59,
   "metadata": {},
   "outputs": [
    {
     "name": "stderr",
     "output_type": "stream",
     "text": [
      "C:\\Users\\szmnk\\Anaconda3\\lib\\site-packages\\networkx\\drawing\\nx_pylab.py:611: MatplotlibDeprecationWarning: isinstance(..., numbers.Number)\n",
      "  if cb.is_numlike(alpha):\n"
     ]
    },
    {
     "data": {
      "image/png": "[encoded data removed]",
      "text/plain": [
       "<Figure size 432x288 with 1 Axes>"
      ]
     },
     "metadata": {
      "needs_background": "light"
     },
     "output_type": "display_data"
    }
   ],
   "source": [
    "G = nx.Graph()\n",
    "\n",
    "G.add_edge('a', 'b', weight=0.6)\n",
    "G.add_edge('a', 'c', weight=0.2)\n",
    "G.add_edge('c', 'd', weight=0.1)\n",
    "G.add_edge('c', 'e', weight=0.7)\n",
    "G.add_edge('c', 'f', weight=0.9)\n",
    "G.add_edge('a', 'd', weight=0.3)\n",
    "\n",
    "elarge = [(u, v) for (u, v, d) in G.edges(data=True) if d['weight'] > 0.5]\n",
    "esmall = [(u, v) for (u, v, d) in G.edges(data=True) if d['weight'] <= 0.5]\n",
    "\n",
    "pos = nx.spring_layout(G)\n",
    "\n",
    "# nodes\n",
    "nx.draw_networkx_nodes(G, pos, node_size=700)\n",
    "\n",
    "# edges\n",
    "nx.draw_networkx_edges(G, pos, edgelist=elarge,\n",
    "                       width=6)\n",
    "nx.draw_networkx_edges(G, pos, edgelist=esmall,\n",
    "                       width=6, alpha=0.5, edge_color='b', style='dashed')\n",
    "\n",
    "# labels\n",
    "nx.draw_networkx_labels(G, pos, font_size=20, font_family='sans-serif')\n",
    "\n",
    "plt.axis('off')\n",
    "plt.show()\n"
   ]
  },
  {
   "cell_type": "markdown",
   "metadata": {},
   "source": [
    "### Exercise 4\n",
    "\n",
    "Create a graph with 20 nodes, and randomly ad 20 edges. Plot the resulting graph"
   ]
  },
  {
   "cell_type": "code",
   "execution_count": 93,
   "metadata": {},
   "outputs": [
    {
     "name": "stderr",
     "output_type": "stream",
     "text": [
      "C:\\Users\\szmnk\\Anaconda3\\lib\\site-packages\\networkx\\drawing\\nx_pylab.py:611: MatplotlibDeprecationWarning: isinstance(..., numbers.Number)\n",
      "  if cb.is_numlike(alpha):\n"
     ]
    },
    {
     "data": {
      "image/png": "[encoded data removed]",
      "text/plain": [
       "<Figure size 432x288 with 1 Axes>"
      ]
     },
     "metadata": {
      "needs_background": "light"
     },
     "output_type": "display_data"
    }
   ],
   "source": [
    "import numpy as np\n",
    "n = 20\n",
    "G = nx.Graph()\n",
    "G.add_nodes_from(range(n))\n",
    "all_edges = [[i,j] for i in range(n) for j in range(n) if i < j]\n",
    "edges = np.random.choice(int(n * (n - 1) / 2), n, replace = False)\n",
    "for i in edges:\n",
    "    G.add_edge(all_edges[i][0], all_edges[i][1])\n",
    "nx.draw_networkx(G, with_labels=True)\n",
    "plt.axis('off')\n",
    "plt.show()"
   ]
  },
  {
   "cell_type": "markdown",
   "metadata": {},
   "source": [
    "### Random graphs (from models)\n",
    "Banchmarking, testbeds"
   ]
  },
  {
   "cell_type": "code",
   "execution_count": 3,
   "metadata": {},
   "outputs": [
    {
     "name": "stderr",
     "output_type": "stream",
     "text": [
      "C:\\Users\\szmnk\\Anaconda3\\lib\\site-packages\\networkx\\drawing\\nx_pylab.py:611: MatplotlibDeprecationWarning: isinstance(..., numbers.Number)\n",
      "  if cb.is_numlike(alpha):\n"
     ]
    },
    {
     "data": {
      "image/png": "[encoded data removed]",
      "text/plain": [
       "<Figure size 432x288 with 1 Axes>"
      ]
     },
     "metadata": {
      "needs_background": "light"
     },
     "output_type": "display_data"
    }
   ],
   "source": [
    "ER_graph=nx.erdos_renyi_graph(50, 0.02)\n",
    "nx.draw_networkx(ER_graph, with_labels=False,node_size=5)\n",
    "plt.axis('off')\n",
    "plt.show()"
   ]
  },
  {
   "cell_type": "markdown",
   "metadata": {},
   "source": [
    "### Exercise 5\n",
    "Plot the degree distribution (histogram) of the Erdős-Rényi graph with parameters:\n",
    "<pre>\n",
    "G = nx.erdos_renyi_graph(1000, 0.01)\n",
    "</pre>\n",
    "Hint: G.degree() gives back an object with the nede names (here numbers) and the degrees. Convert it to a list or to an array to be able to work with it."
   ]
  },
  {
   "cell_type": "code",
   "execution_count": 5,
   "metadata": {},
   "outputs": [
    {
     "data": {
      "text/plain": [
       "array([10,  8,  9,  9, 12, 10, 14,  8, 13,  6,  8,  7,  7,  4, 14,  8, 13,\n",
       "        8,  9,  7,  8, 15,  5,  5,  8,  9,  9,  7,  9, 10,  6, 12,  8, 11,\n",
       "        7,  7,  9, 15, 17,  8,  7,  7,  3,  9,  8,  8,  8,  8, 21, 15,  7,\n",
       "       13,  4, 16, 11, 12, 11,  9, 15,  9, 15,  8, 15, 13,  8, 12,  4, 15,\n",
       "       10, 12, 15, 10, 15, 12,  7,  9, 14, 14, 10,  9, 15,  4,  7,  9,  8,\n",
       "        6, 12,  8, 15, 10, 10, 13,  9, 12, 12,  6,  8,  8,  6, 13,  9,  7,\n",
       "       10, 10,  9, 11,  7,  8,  8,  6, 11,  9, 13,  7,  6,  9,  6, 10, 10,\n",
       "       10, 10,  9, 14, 12, 10,  7,  4, 15, 11,  7, 12,  8, 12, 14,  9,  8,\n",
       "        6,  9,  9, 12, 10, 11,  8, 14, 12, 11, 10, 11,  7, 12,  7, 16, 12,\n",
       "       14, 10, 14,  6, 11, 10, 11, 14, 16,  9, 13, 10,  9, 12, 11, 16, 10,\n",
       "        8, 11,  8, 10,  9, 11, 13, 11, 12,  9, 12,  7,  8, 10, 11,  7,  9,\n",
       "        4, 12,  8,  6, 13, 10, 11, 16,  8, 11, 12, 13, 11, 17, 11, 10,  7,\n",
       "        8,  9, 10,  7, 12, 11,  5, 11, 16,  8,  9, 14, 11, 10,  7,  9, 15,\n",
       "        8,  8, 11, 11,  5, 10, 14, 11,  6, 14, 10, 14, 10,  9, 13, 10,  5,\n",
       "       10, 12, 11,  7,  7, 13,  7, 10,  8, 12,  8,  8,  8,  8, 15,  9,  7,\n",
       "        5,  6,  5, 11,  9,  8, 16, 10, 11, 10,  7, 15, 10, 10, 11, 12, 11,\n",
       "       11, 11, 13,  8,  7,  8,  6, 10,  8, 11, 12, 12,  8, 10,  8, 11, 14,\n",
       "       12,  8,  8,  9,  6, 10, 10,  6,  5,  5, 10,  6, 11, 14,  8,  9,  9,\n",
       "       10, 18,  9, 14,  3, 11,  9,  3, 10, 13,  6,  7, 11, 13,  8, 11, 15,\n",
       "       11, 10,  7, 10,  8, 14, 10,  7,  6, 11,  9,  5, 12, 10, 16, 14,  9,\n",
       "       12,  4, 12,  8, 11, 13, 13,  9, 10, 10, 10, 10,  8,  7,  5,  9, 15,\n",
       "       12,  8, 12, 13, 10,  7, 11, 17,  5,  5,  5, 14, 12, 10,  8,  7,  9,\n",
       "        7, 10, 12, 12, 10,  6,  7,  7,  6,  9, 15,  7, 10,  7, 10, 14, 10,\n",
       "       10,  8,  4,  8, 11,  5, 13, 10,  4,  7,  7, 10,  7,  7, 11, 13, 14,\n",
       "       10, 11, 14, 15,  7,  4,  4,  7,  8, 20, 16,  8, 15, 12, 17,  7,  8,\n",
       "        3, 19, 11, 12, 11, 10,  9, 13, 14, 13, 11,  7, 13,  7,  5, 16, 11,\n",
       "        8, 15,  9,  8, 14,  9,  6, 11,  9, 10, 10, 11,  8, 10, 11, 12, 12,\n",
       "       10,  5,  4,  8,  7,  4, 10,  9, 13,  6,  6, 12,  8,  9,  8,  8, 11,\n",
       "       13,  9, 10,  9, 14,  5, 19, 13, 11, 11,  9,  9,  5, 16,  9, 13, 14,\n",
       "        6, 10,  9,  6,  9, 12, 11, 10, 11,  8, 16,  5,  7, 13,  7,  4, 20,\n",
       "        5, 12,  6,  6, 11, 14,  5, 13,  9,  9, 11, 10, 11,  5, 14, 10, 13,\n",
       "        8,  5,  8, 13,  7, 10,  9,  9,  2, 11, 10,  6,  6, 13,  6, 10,  8,\n",
       "       11,  7,  8, 13,  3,  8,  7,  7, 16, 11,  7, 16,  5,  6, 10, 10, 13,\n",
       "       10, 10, 17, 15,  7,  8, 12, 12,  8, 16,  9, 12,  8, 13, 14, 10, 15,\n",
       "       15,  8,  9,  5,  7,  9, 15, 17,  9, 15,  8, 13, 11, 12, 10, 10, 11,\n",
       "       11,  8,  8,  5, 15,  9,  7,  9,  9,  8,  9, 11,  7, 14,  8, 10,  8,\n",
       "       12, 10, 12, 14, 12,  7,  7, 10, 13, 12,  9, 13,  5, 11,  9, 12, 13,\n",
       "        7, 15, 13, 14,  7, 12,  6,  5,  9,  8,  5, 10,  8, 14,  9, 11, 13,\n",
       "        8,  8,  9, 11, 10,  4, 10,  7, 11,  9,  9, 13, 17,  6, 10,  6, 15,\n",
       "        7,  7, 10,  6,  3, 12,  3,  8,  9, 13,  8, 10, 13, 11,  2, 12, 14,\n",
       "       18, 15,  5, 15, 13, 13,  9,  9,  8,  9, 10,  7,  9,  4,  7,  8,  9,\n",
       "        9,  9, 13, 18, 11,  9, 10,  5, 13,  9, 12,  6, 17,  9, 10, 12,  5,\n",
       "       11,  8,  6, 11, 15,  9, 12, 10, 11, 12, 11,  5,  5, 12,  9,  8,  6,\n",
       "       10, 11,  6,  7,  6,  8,  4, 16,  7,  7, 12,  7, 13,  8,  8, 10, 12,\n",
       "        8, 13, 14, 16,  8,  5, 11,  6, 10, 13, 10, 11,  8,  7,  9,  4, 11,\n",
       "       12,  4,  8, 13,  5, 17, 13, 15, 10, 14,  8,  7,  9,  3,  9, 12, 17,\n",
       "        6, 12, 14, 16,  7, 14, 14,  4, 13,  7,  6,  8,  9,  3,  5,  7,  8,\n",
       "       12, 10,  9, 10, 13, 13,  8, 10, 15,  6,  6, 10, 10, 12,  7,  6, 12,\n",
       "        8, 10,  7,  6,  7, 10,  9,  7, 11, 11,  9, 10,  8, 16,  5, 13, 11,\n",
       "       14,  8,  5,  6, 11,  6, 16,  8,  9, 13,  9, 14, 13,  8, 10,  9,  8,\n",
       "        4,  9, 12, 15, 17,  9,  6,  3,  8, 12,  8,  8,  9, 11, 10,  7,  6,\n",
       "       15,  4, 12,  7, 17, 12, 12, 14, 14,  7,  7,  9,  9,  9,  9, 11,  8,\n",
       "       14, 13, 11, 12,  7, 12,  9,  6,  3, 12,  9,  9, 14, 10,  9,  7,  5,\n",
       "       11,  7, 14,  4, 14, 10,  7, 16, 13, 13, 13, 16,  7,  9,  7,  6,  6,\n",
       "       12,  3,  7, 11,  6, 14, 11,  7,  4, 11,  7, 10,  6,  6, 11, 11, 12,\n",
       "       14, 13,  8, 12,  9, 11,  6,  8, 10,  8,  8,  9,  7, 11,  6,  8, 15,\n",
       "       16, 10,  9,  9,  9, 10,  8, 12, 11,  9, 10, 12, 11,  8,  9,  9, 12,\n",
       "        8,  8,  9, 11,  8, 12, 14,  8, 10, 15, 13, 10, 12,  8, 10,  9, 10,\n",
       "        9, 15, 11, 16, 14,  7, 12,  6, 10,  6, 13,  7,  8,  8])"
      ]
     },
     "execution_count": 5,
     "metadata": {},
     "output_type": "execute_result"
    },
    {
     "data": {
      "image/png": "[encoded data removed]",
      "text/plain": [
       "<Figure size 432x288 with 1 Axes>"
      ]
     },
     "metadata": {
      "needs_background": "light"
     },
     "output_type": "display_data"
    }
   ],
   "source": [
    "G = nx.erdos_renyi_graph(1000, 0.01)\n",
    "a = np.array(G.degree())[:, 1]\n",
    "plt.xticks(np.arange(int(a.min()),int(a.max())))\n",
    "plt.hist(a, np.arange(int(a.min()),int(a.max())), density = 1 )\n",
    "plt.title(\"The distribution of the Erdos-Renyi(1000,0.02) graph\")\n",
    "a\n"
   ]
  },
  {
   "cell_type": "code",
   "execution_count": 107,
   "metadata": {},
   "outputs": [
    {
     "name": "stdout",
     "output_type": "stream",
     "text": [
      "{0, 14}\n",
      "{1}\n",
      "{2, 39, 46, 15, 30}\n",
      "{3, 41, 45, 49, 18, 23, 24, 25}\n",
      "{4}\n",
      "{5}\n",
      "{6, 7, 11, 43, 13, 19}\n",
      "{33, 34, 35, 36, 38, 8, 9, 40, 12, 47, 16, 26, 29}\n",
      "{10}\n",
      "{17}\n",
      "{20}\n",
      "{21}\n",
      "{22}\n",
      "{27}\n",
      "{42, 28}\n",
      "{31}\n",
      "{32}\n",
      "{37}\n",
      "{44}\n",
      "{48}\n"
     ]
    }
   ],
   "source": [
    "for c in nx.connected_components(ER_graph):\n",
    "    print(c)"
   ]
  },
  {
   "cell_type": "markdown",
   "metadata": {},
   "source": [
    "### Exercise 6\n",
    "Print out the size of the largest component"
   ]
  },
  {
   "cell_type": "code",
   "execution_count": 108,
   "metadata": {},
   "outputs": [
    {
     "name": "stderr",
     "output_type": "stream",
     "text": [
      "C:\\Users\\szmnk\\Anaconda3\\lib\\site-packages\\networkx\\drawing\\nx_pylab.py:611: MatplotlibDeprecationWarning: isinstance(..., numbers.Number)\n",
      "  if cb.is_numlike(alpha):\n"
     ]
    },
    {
     "data": {
      "image/png": "[encoded data removed]",
      "text/plain": [
       "<Figure size 432x288 with 1 Axes>"
      ]
     },
     "metadata": {
      "needs_background": "light"
     },
     "output_type": "display_data"
    }
   ],
   "source": [
    "BA_graph = nx.barabasi_albert_graph(100,2)\n",
    "nx.draw_networkx(BA_graph, with_labels=False,node_size=5)\n",
    "plt.axis('off')\n",
    "plt.show()"
   ]
  },
  {
   "cell_type": "code",
   "execution_count": 109,
   "metadata": {},
   "outputs": [
    {
     "data": {
      "text/plain": [
       "Text(0, 0.5, '$P(k)$')"
      ]
     },
     "execution_count": 109,
     "metadata": {},
     "output_type": "execute_result"
    },
    {
     "data": {
      "image/png": "[encoded data removed]",
      "text/plain": [
       "<Figure size 432x288 with 1 Axes>"
      ]
     },
     "metadata": {
      "needs_background": "light"
     },
     "output_type": "display_data"
    }
   ],
   "source": [
    "BA_graph = nx.barabasi_albert_graph(1000,2)\n",
    "d = np.array((BA_graph.degree()))[:,1]\n",
    "BA_hist, bin_edges= np.histogram(d, bins=max(d)-min(d), density=True)\n",
    "plt.plot(bin_edges[:-1],BA_hist,'o-')\n",
    "plt.xlabel(r'$k$', fontsize=20)\n",
    "plt.ylabel(r'$P(k)$', fontsize=20)"
   ]
  },
  {
   "cell_type": "code",
   "execution_count": 110,
   "metadata": {},
   "outputs": [
    {
     "data": {
      "text/plain": [
       "Text(0, 0.5, '$P(k)$')"
      ]
     },
     "execution_count": 110,
     "metadata": {},
     "output_type": "execute_result"
    },
    {
     "data": {
      "image/png": "[encoded data removed]",
      "text/plain": [
       "<Figure size 432x288 with 1 Axes>"
      ]
     },
     "metadata": {
      "needs_background": "light"
     },
     "output_type": "display_data"
    }
   ],
   "source": [
    "BA_graph = nx.barabasi_albert_graph(1000,2)\n",
    "d = np.array((BA_graph.degree()))[:,1]\n",
    "BA_hist, bin_edges= np.histogram(d, bins=max(d)-min(d), density=True)\n",
    "plt.loglog(bin_edges[:-1],BA_hist,'o-')\n",
    "plt.xlabel(r'$k$', fontsize=20)\n",
    "plt.ylabel(r'$P(k)$', fontsize=20)"
   ]
  },
  {
   "cell_type": "code",
   "execution_count": 111,
   "metadata": {},
   "outputs": [
    {
     "name": "stderr",
     "output_type": "stream",
     "text": [
      "C:\\Users\\szmnk\\Anaconda3\\lib\\site-packages\\networkx\\drawing\\nx_pylab.py:611: MatplotlibDeprecationWarning: isinstance(..., numbers.Number)\n",
      "  if cb.is_numlike(alpha):\n"
     ]
    },
    {
     "data": {
      "image/png": "[encoded data removed]",
      "text/plain": [
       "<Figure size 432x288 with 1 Axes>"
      ]
     },
     "metadata": {
      "needs_background": "light"
     },
     "output_type": "display_data"
    }
   ],
   "source": [
    "BA_graph = nx.barabasi_albert_graph(100,2)\n",
    "nx.draw_networkx(BA_graph, with_labels=False,node_size=\\\n",
    "                 [BA_graph.degree[n]*10 for n in BA_graph.nodes])\n",
    "plt.axis('off')\n",
    "plt.show()"
   ]
  },
  {
   "cell_type": "markdown",
   "metadata": {},
   "source": [
    "### Examples\n",
    "<table>\n",
    "    <tr><td><img src=\"https://upload.wikimedia.org/wikipedia/commons/f/f9/National_Highway_System.jpg\" width=300></td><td><img src=\"https://news.delta.com/sites/default/files/styles/square/public/US_10_15-01.png\" width=300></td></tr>\n",
    "</table>"
   ]
  },
  {
   "cell_type": "markdown",
   "metadata": {},
   "source": [
    "## Other operations\n",
    "There are a lot of operations included in networkx. If you work with networks, or you plan to, make sure you explore the documentation. Below there is a selection of useful operations. Take note of G.copy() (this is the way to create the deep copy of a graph!) \n",
    "\n",
    "* ***`subgraph(G, nbunch)` or `G.subgraph(nbunch)`***       \n",
    "subgraph of G induced by nodes in nbunch    \n",
    "\n",
    "* ***`reverse(G)`***       \n",
    "DiGraph with edges reversed \n",
    "\n",
    "* ***`union(G1, G2)`***      \n",
    "graph union    \n",
    "\n",
    "* ***`disjoint_union(G1, G2)`***     \n",
    "same, but treats nodes of G1, G2 as different \n",
    "\n",
    "* ***`intersection(G1, G2)`***      \n",
    "graph with only the edges in common between G1, G2\n",
    "\n",
    "* ***`difference(G1, G2)`***      \n",
    "graph with only the edges G1 that aren't in G2\n",
    "\n",
    "* ***`copy(G)` or `G.copy()`***     \n",
    "copy of G\n",
    "\n",
    "* ***`complement(G)` or `G.complement()`***     \n",
    "the complement graph of G \n",
    "\n",
    "* ***`convert_to_undirected(G)` or `G.to_undirected()`***     \n",
    "undirected version of G (a Graph or MultiGraph)  \n",
    "\n",
    "* ***`convert_to_directed(G)` or `G.to_directed()`***      \n",
    "directed version of G (a DiGraph of MultiDiGraph)\n",
    "\n",
    "* ***`adjacency_matrix(G)`***      \n",
    "adjacency matrix A of G (in sparse matrix format; to get full matrix, use A.toarray() )"
   ]
  },
  {
   "cell_type": "markdown",
   "metadata": {},
   "source": [
    "### Exercise 7\n",
    "* Read the edge_list <pre>G=nx.read_edgelist(\"ego250.list\",nodetype=int)</pre>\n",
    "* plot the network\n",
    "* remove the node 250\n",
    "* detect the connected components\n",
    "* Keep only the largest components (delete the rest)\n",
    "* plot the degree distribution"
   ]
  },
  {
   "cell_type": "code",
   "execution_count": 112,
   "metadata": {},
   "outputs": [],
   "source": [
    "G=nx.read_edgelist(\"ego250.list\",nodetype=int)\n",
    "G.remove_node(250)"
   ]
  },
  {
   "cell_type": "markdown",
   "metadata": {},
   "source": [
    "### Exercise 8\n",
    "* Create Erdős-Rényi graphs with p=0.0002 - 0.003 with steps 0.0002\n",
    "* plot the size of the largest component versus p\n",
    "* calculate the variance of the size of the connected components <b>without the largest one</b>  and plot them against p"
   ]
  },
  {
   "cell_type": "code",
   "execution_count": null,
   "metadata": {},
   "outputs": [],
   "source": []
  }
 ],
 "metadata": {
  "kernelspec": {
   "display_name": "Python 3",
   "language": "python",
   "name": "python3"
  },
  "language_info": {
   "codemirror_mode": {
    "name": "ipython",
    "version": 3
   },
   "file_extension": ".py",
   "mimetype": "text/x-python",
   "name": "python",
   "nbconvert_exporter": "python",
   "pygments_lexer": "ipython3",
   "version": "3.6.6"
  }
 },
 "nbformat": 4,
 "nbformat_minor": 1
}

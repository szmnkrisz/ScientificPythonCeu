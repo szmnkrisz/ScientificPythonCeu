{
 "cells": [
  {
   "cell_type": "markdown",
   "metadata": {},
   "source": [
    "# **Exercises SP_2018_2**"
   ]
  },
  {
   "cell_type": "markdown",
   "metadata": {},
   "source": [
    "## **Your name here**"
   ]
  },
  {
   "cell_type": "markdown",
   "metadata": {},
   "source": [
    "## Notes on the homework"
   ]
  },
  {
   "cell_type": "markdown",
   "metadata": {},
   "source": [
    "Each task that is assigned should completed inside the function the has been written.\n",
    "The result return by the function has to be the one asked.\n",
    "\n",
    "Points will be attributed accordingly to the result and to the quality of the code. The code will be checked manually, so don't copy paste.\n",
    "\n",
    "The exercises marked as advanced are not mandatory, even if it's highly advised you are able to do them."
   ]
  },
  {
   "cell_type": "markdown",
   "metadata": {},
   "source": [
    "### Example\n",
    "Write a function that given a number returns the number plus 3."
   ]
  },
  {
   "cell_type": "markdown",
   "metadata": {},
   "source": [
    "Given:"
   ]
  },
  {
   "cell_type": "code",
   "execution_count": null,
   "metadata": {},
   "outputs": [],
   "source": [
    "def example(n):\n",
    "    # your code\n",
    "    return"
   ]
  },
  {
   "cell_type": "markdown",
   "metadata": {},
   "source": [
    "You should write:"
   ]
  },
  {
   "cell_type": "code",
   "execution_count": null,
   "metadata": {},
   "outputs": [],
   "source": [
    "def example(n):\n",
    "    result = n+3\n",
    "    return result"
   ]
  },
  {
   "cell_type": "code",
   "execution_count": null,
   "metadata": {},
   "outputs": [],
   "source": [
    "example(4)"
   ]
  },
  {
   "cell_type": "markdown",
   "metadata": {},
   "source": [
    "<br>\n",
    "<br>\n",
    "<br>"
   ]
  },
  {
   "cell_type": "markdown",
   "metadata": {},
   "source": [
    "### For advanced students:\n",
    "\n",
    "***For the students that knows how to do these exercises easily, I suggest to try to focus on the style and on the quality of the code.***<br>\n",
    "***Try to use list comprehensions when it's possible or to not cycle more times than it's needed.***\n",
    "Sometimes the code is more readable if it's written in one more complex lines that distributed over ten lines that at the end do the same thing.\n",
    "Structures that can, at a first glance, seems intricated will be easily understood when one gets used to them (E.g. last optional exercise of set 1). They can also simplify the code a lot.\n",
    "\n",
    "E.g. given two functons:"
   ]
  },
  {
   "cell_type": "code",
   "execution_count": 1,
   "metadata": {},
   "outputs": [],
   "source": [
    "def a(x):\n",
    "    return x+2\n",
    "def f(x):\n",
    "    return x%3==0\n",
    "l=list(range(10))"
   ]
  },
  {
   "cell_type": "code",
   "execution_count": null,
   "metadata": {},
   "outputs": [],
   "source": []
  },
  {
   "cell_type": "code",
   "execution_count": 5,
   "metadata": {},
   "outputs": [
    {
     "data": {
      "text/plain": [
       "[2, False, False, 5, False, False, 8, False, False, 11]"
      ]
     },
     "execution_count": 5,
     "metadata": {},
     "output_type": "execute_result"
    }
   ],
   "source": [
    "[f(x) and a(x) or False for x in l]"
   ]
  },
  {
   "cell_type": "code",
   "execution_count": 3,
   "metadata": {},
   "outputs": [
    {
     "data": {
      "text/plain": [
       "[2, False, False, 5, False, False, 8, False, False, 11]"
      ]
     },
     "execution_count": 3,
     "metadata": {},
     "output_type": "execute_result"
    }
   ],
   "source": [
    "[a(x) if f(x) else False for x in l]"
   ]
  },
  {
   "cell_type": "markdown",
   "metadata": {},
   "source": [
    "Pay attention tat the two structures present a small difference (can you guess where?)\n",
    "\n",
    "FYI: the first comes from functional programming and the second is standard python grammar."
   ]
  },
  {
   "cell_type": "markdown",
   "metadata": {},
   "source": [
    "<br>\n",
    "<br>\n",
    "<br>  \n",
    "  "
   ]
  },
  {
   "cell_type": "markdown",
   "metadata": {},
   "source": [
    "# Beginning of the homework. Let's do it.."
   ]
  },
  {
   "cell_type": "markdown",
   "metadata": {},
   "source": [
    "## Exercise 1: One line - exercises on lists (~ 10 min)\n",
    "\n",
    "These exercises focus just on the python sintax. They are not cumbersome exercises ;)\n",
    "\n",
    "### a)\n",
    "Write a function that given a list return the a list with two elements: the first and the last element of the initial list\n",
    "\n",
    "E.g. \n",
    "* [1,2,3] -> [1,3]\n",
    "* [1] -> [1,1]\n",
    "* ['sole', 'mare', 'amore', 'python'] -> ['sole','python']"
   ]
  },
  {
   "cell_type": "code",
   "execution_count": 7,
   "metadata": {},
   "outputs": [],
   "source": [
    "def first_and_last(l):\n",
    "    return [l[0], l[len(l)-1]]# your code"
   ]
  },
  {
   "cell_type": "code",
   "execution_count": 8,
   "metadata": {},
   "outputs": [
    {
     "data": {
      "text/plain": [
       "[1, 3]"
      ]
     },
     "execution_count": 8,
     "metadata": {},
     "output_type": "execute_result"
    }
   ],
   "source": [
    "first_and_last([1,2,3])"
   ]
  },
  {
   "cell_type": "markdown",
   "metadata": {},
   "source": [
    "### b)\n",
    "Write a function that returns the following list. (Only use List Comprehension).\n",
    "\n",
    "[1, 3, 5, 7, 9, 11, 13, 15, 17, 19]"
   ]
  },
  {
   "cell_type": "code",
   "execution_count": 9,
   "metadata": {},
   "outputs": [
    {
     "data": {
      "text/plain": [
       "[1, 3, 5, 7, 9, 11, 13, 15, 17, 19]"
      ]
     },
     "execution_count": 9,
     "metadata": {},
     "output_type": "execute_result"
    }
   ],
   "source": [
    "def solution_2():\n",
    "    return [x for x in range(20) if x % 2 == 1]# your code\n",
    "solution_2()"
   ]
  },
  {
   "cell_type": "markdown",
   "metadata": {},
   "source": [
    "### c)\n",
    "Write a function that returns the following matrix (list of list). Just use list comprehensions. \n",
    "\n",
    "[[1, 3, 5, 7, 9],\n",
    " [11, 13, 15, 17, 19],\n",
    " [21, 23, 25, 27, 29],\n",
    " [31, 33, 35, 37, 39],\n",
    " [41, 43, 45, 47, 49]]\n",
    "\n"
   ]
  },
  {
   "cell_type": "code",
   "execution_count": 10,
   "metadata": {},
   "outputs": [
    {
     "data": {
      "text/plain": [
       "[[1, 3, 5, 7, 9],\n",
       " [11, 13, 15, 17, 19],\n",
       " [21, 23, 25, 27, 29],\n",
       " [31, 33, 35, 37, 39],\n",
       " [41, 43, 45, 47, 49]]"
      ]
     },
     "execution_count": 10,
     "metadata": {},
     "output_type": "execute_result"
    }
   ],
   "source": [
    "def solution_3():\n",
    "    # your code here\n",
    "    return [[10 * y + 2 * x + 1 for x in range(5)]  for y in range(5)]\n",
    "solution_3()"
   ]
  },
  {
   "cell_type": "markdown",
   "metadata": {},
   "source": [
    "### d)\n",
    "Write a small code which creates the list of list in which the element i has i elements from 0 to i-1. Eg:\n",
    "<pre>\n",
    "[], [0], [0, 1], [0, 1, 2], [0, 1, 2, 3]\n",
    "</pre>"
   ]
  },
  {
   "cell_type": "code",
   "execution_count": 13,
   "metadata": {},
   "outputs": [
    {
     "data": {
      "text/plain": [
       "[[], [0], [0, 1], [0, 1, 2], [0, 1, 2, 3], [0, 1, 2, 3, 4]]"
      ]
     },
     "execution_count": 13,
     "metadata": {},
     "output_type": "execute_result"
    }
   ],
   "source": [
    "def solution_4a(i):\n",
    "    return [[k for k in range(j)] for j in range(i)]\n",
    "solution_4a(6)"
   ]
  },
  {
   "cell_type": "markdown",
   "metadata": {},
   "source": [
    "### e)\n",
    "Write a function which orders the list generated by <pre>\n",
    "L = [[x, y] for x in range(5) for y in range(5) if x != y]\n",
    "</pre>\n",
    "by the moltiplication of the two elements"
   ]
  },
  {
   "cell_type": "code",
   "execution_count": 14,
   "metadata": {},
   "outputs": [],
   "source": [
    "L = [[x, y] for x in range(5) for y in range(5) if x != y]"
   ]
  },
  {
   "cell_type": "code",
   "execution_count": 16,
   "metadata": {},
   "outputs": [
    {
     "data": {
      "text/plain": [
       "[[0, 1],\n",
       " [0, 2],\n",
       " [0, 3],\n",
       " [0, 4],\n",
       " [1, 0],\n",
       " [2, 0],\n",
       " [3, 0],\n",
       " [4, 0],\n",
       " [1, 2],\n",
       " [2, 1],\n",
       " [1, 3],\n",
       " [3, 1],\n",
       " [1, 4],\n",
       " [4, 1],\n",
       " [2, 3],\n",
       " [3, 2],\n",
       " [2, 4],\n",
       " [4, 2],\n",
       " [3, 4],\n",
       " [4, 3]]"
      ]
     },
     "execution_count": 16,
     "metadata": {},
     "output_type": "execute_result"
    }
   ],
   "source": [
    "def solution_5a(l):\n",
    "    return sorted(l, key = lambda x: x[0] * x[1])\n",
    "solution_5a(L)"
   ]
  },
  {
   "cell_type": "markdown",
   "metadata": {},
   "source": [
    "### f)\n",
    "Write a code which gives you back the list of all the couples (x,y) such that x<10 and y<10 and x%y==0.<br>\n",
    "Use list comprehension (one line!)"
   ]
  },
  {
   "cell_type": "code",
   "execution_count": 17,
   "metadata": {},
   "outputs": [
    {
     "data": {
      "text/plain": [
       "[[1, 1],\n",
       " [2, 1],\n",
       " [2, 2],\n",
       " [3, 1],\n",
       " [3, 3],\n",
       " [4, 1],\n",
       " [4, 2],\n",
       " [4, 4],\n",
       " [5, 1],\n",
       " [5, 5],\n",
       " [6, 1],\n",
       " [6, 2],\n",
       " [6, 3],\n",
       " [6, 6],\n",
       " [7, 1],\n",
       " [7, 7],\n",
       " [8, 1],\n",
       " [8, 2],\n",
       " [8, 4],\n",
       " [8, 8],\n",
       " [9, 1],\n",
       " [9, 3],\n",
       " [9, 9]]"
      ]
     },
     "execution_count": 17,
     "metadata": {},
     "output_type": "execute_result"
    }
   ],
   "source": [
    "[[x,y] for x in range(1, 10) for y in range(1, 10) if x % y == 0]"
   ]
  },
  {
   "cell_type": "markdown",
   "metadata": {},
   "source": [
    "## Exercise 2: List and functions (~ 20 min)\n",
    "\n",
    "*Here you have to think what you are doing. Exercises to learn how to generalize the code*"
   ]
  },
  {
   "cell_type": "markdown",
   "metadata": {},
   "source": [
    "### a)\n",
    "\n",
    "Programming in a good way means to write the code inside function in order to be able to reuse it. In order to make it reusable one can write it in a more general way (when it's a good idea to have it generalized). A good example is what we have done in exercise 9.\n",
    "Instead that writing a function that returns exactly the above matrix we want to return a matrix with an arbitrary number of rows and columns.\n",
    "\n"
   ]
  },
  {
   "cell_type": "markdown",
   "metadata": {},
   "source": [
    "Write a function that returns a matrix like the one above: it has to be filled with the natural odd numbers (starting from 1 in increasing order: 1,3,5,7,9,11,13,15,17,...).\n",
    "\n",
    "The function has as input the number of rows and the number of columns.\n",
    "\n",
    "E.g.: solution_10(4,6) gives the following output:\n",
    "\n",
    "`[[1, 3, 5, 7, 9, 11],`<br>\n",
    "` [13, 15, 17, 19, 21, 23],`<br>\n",
    "` [25, 27, 29, 31, 33, 35],`<br>\n",
    "` [37, 39, 41, 43, 45, 47]]`\n",
    "\n",
    "***Advanced: try to use list a comprehension and write the function in one line***"
   ]
  },
  {
   "cell_type": "code",
   "execution_count": 18,
   "metadata": {},
   "outputs": [
    {
     "data": {
      "text/plain": [
       "[[1, 3, 5, 7, 9, 11],\n",
       " [13, 15, 17, 19, 21, 23],\n",
       " [25, 27, 29, 31, 33, 35],\n",
       " [37, 39, 41, 43, 45, 47]]"
      ]
     },
     "execution_count": 18,
     "metadata": {},
     "output_type": "execute_result"
    }
   ],
   "source": [
    "def solution_4(row,col):\n",
    "    # your code here\n",
    "    return [[2 * col * y + 2 * x + 1 for x in range(col)]  for y in range(row)]\n",
    "solution_4(4,6)"
   ]
  },
  {
   "cell_type": "markdown",
   "metadata": {},
   "source": [
    "### b)"
   ]
  },
  {
   "cell_type": "markdown",
   "metadata": {},
   "source": [
    "Write a function that given the number of rows and columns it returns a matrix with 1 in the odd columns and 0 in the even columns:\n",
    "\n",
    "eg. solution_5(8,9) returns:\n",
    "\n",
    "<code>[[1, 0, 1, 0, 1, 0, 1, 0],<br>\n",
    " [1, 0, 1, 0, 1, 0, 1, 0],<br>\n",
    " [1, 0, 1, 0, 1, 0, 1, 0],<br>\n",
    " [1, 0, 1, 0, 1, 0, 1, 0],<br>\n",
    " [1, 0, 1, 0, 1, 0, 1, 0],<br>\n",
    " [1, 0, 1, 0, 1, 0, 1, 0],<br>\n",
    " [1, 0, 1, 0, 1, 0, 1, 0],<br>\n",
    " [1, 0, 1, 0, 1, 0, 1, 0],<br>\n",
    " [1, 0, 1, 0, 1, 0, 1, 0]]</code>\n",
    " \n",
    " ***for advanced: again, try to do it in one line. ;)***"
   ]
  },
  {
   "cell_type": "code",
   "execution_count": 19,
   "metadata": {},
   "outputs": [
    {
     "data": {
      "text/plain": [
       "[[1, 0, 1],\n",
       " [1, 0, 1],\n",
       " [1, 0, 1],\n",
       " [1, 0, 1],\n",
       " [1, 0, 1],\n",
       " [1, 0, 1],\n",
       " [1, 0, 1],\n",
       " [1, 0, 1],\n",
       " [1, 0, 1],\n",
       " [1, 0, 1],\n",
       " [1, 0, 1],\n",
       " [1, 0, 1],\n",
       " [1, 0, 1],\n",
       " [1, 0, 1],\n",
       " [1, 0, 1],\n",
       " [1, 0, 1],\n",
       " [1, 0, 1]]"
      ]
     },
     "execution_count": 19,
     "metadata": {},
     "output_type": "execute_result"
    }
   ],
   "source": [
    "def solution_5(row, col):\n",
    "    # your code here\n",
    "    return [[(x + 1) % 2 for x in range(row)] for y in range(col)]\n",
    "\n",
    "solution_5(3,17)"
   ]
  },
  {
   "cell_type": "markdown",
   "metadata": {},
   "source": [
    "### c)"
   ]
  },
  {
   "cell_type": "markdown",
   "metadata": {},
   "source": [
    "Write a function that takes two list in imput and add the elements of the lists elementwise.\n",
    "(**list! `numpy` is not allowed here)**\n",
    "\n",
    "Eg. `solution_6([1,2,3],[1,1,1])`\n",
    "gives:\n",
    "`[2,3,4]`"
   ]
  },
  {
   "cell_type": "code",
   "execution_count": 20,
   "metadata": {},
   "outputs": [
    {
     "data": {
      "text/plain": [
       "[2, 3, 4]"
      ]
     },
     "execution_count": 20,
     "metadata": {},
     "output_type": "execute_result"
    }
   ],
   "source": [
    "def solution_6(l1,l2):\n",
    "    # your code here\n",
    "    return [(l1[i] + l2[i]) for i in range(len(l1))]\n",
    "solution_6([1,2,3],[1,1,1])"
   ]
  },
  {
   "cell_type": "markdown",
   "metadata": {},
   "source": [
    "### d) Default values in functions"
   ]
  },
  {
   "cell_type": "markdown",
   "metadata": {},
   "source": [
    "A function can have in input default values.\n",
    "\n",
    "E.g."
   ]
  },
  {
   "cell_type": "code",
   "execution_count": 21,
   "metadata": {},
   "outputs": [
    {
     "name": "stdout",
     "output_type": "stream",
     "text": [
      "f(2) \t\t--> 5\n",
      "f(5) \t\t--> 8\n",
      "f(5, 6) \t--> 11\n",
      "f(5, b=6) \t--> 11\n",
      "f(5, b=8) \t--> 13\n"
     ]
    }
   ],
   "source": [
    "def f(a, b=3):\n",
    "    return a+b\n",
    "\n",
    "to_print  = \"f({}) \\t\\t--> {}\"\n",
    "to_print2 = \"f({}, {}) \\t--> {}\"\n",
    "to_print3 = \"f({}, b={}) \\t--> {}\"\n",
    "\n",
    "print(to_print.format(2, f(2)))\n",
    "print(to_print.format(5, f(5)))\n",
    "print(to_print2.format(5,6, f(5,6)))\n",
    "print(to_print3.format(5,6, f(5,6)))\n",
    "print(to_print3.format(5,8, f(5,8)))"
   ]
  },
  {
   "cell_type": "markdown",
   "metadata": {},
   "source": [
    "Write a function that generalize the previous function and if the second element is not given adds 1 to all the elements}\n",
    "\n",
    "Pay attention that the second element can be by default a [1,1,1,1] list because you don't know the lenght of the list in the first element."
   ]
  },
  {
   "cell_type": "markdown",
   "metadata": {},
   "source": [
    "E.g.\n",
    "\n",
    "`f([1,2,3])` --> `[2,3,4]`<br>\n",
    "\n",
    "`f([2,6,4,7,87])` --> `[3,7,5,8,88]`<br>\n",
    "\n",
    "`f([1,4,5,6], [4,5,7,-1)` --> `[5,9,12,5]`"
   ]
  },
  {
   "cell_type": "code",
   "execution_count": 22,
   "metadata": {},
   "outputs": [
    {
     "name": "stdout",
     "output_type": "stream",
     "text": [
      "[3, 5, 7] [3, 4, 5]\n"
     ]
    }
   ],
   "source": [
    "def solution_7(a,b=None):\n",
    "    assert type(a)==list\n",
    "    # your code here\n",
    "    return [(a[i] + b[i]) for i in range(len(a))] if b != None else [x + 1 for x in a]\n",
    "a = [2, 3, 4]\n",
    "print(solution_7(a, [1, 2, 3]), solution_7(a))"
   ]
  },
  {
   "cell_type": "markdown",
   "metadata": {},
   "source": [
    "## Exercise 3: Dictionaries (~ 10 minutes)"
   ]
  },
  {
   "cell_type": "markdown",
   "metadata": {},
   "source": [
    "### a)\n",
    "\n",
    "Create a function that return a dictionary with as keys the words that appear in the input text, as values the number of times that the keys appear.\n",
    "All the keys in the dictionary have to be lowercase and with no punctuation or whitespaces inside."
   ]
  },
  {
   "cell_type": "code",
   "execution_count": 23,
   "metadata": {},
   "outputs": [],
   "source": [
    "all_the_words_a_stage = \"\"\"All the world's a stage,\n",
    "And all the men and women merely players;\n",
    "They have their exits and their entrances,\n",
    "And one man in his time plays many parts,\n",
    "His acts being seven ages. At first, the infant,\n",
    "Mewling and puking in the nurse's arms.\n",
    "Then the whining schoolboy, with his satchel\n",
    "And shining morning face, creeping like snail\n",
    "Unwillingly to school. And then the lover,\n",
    "Sighing like furnace, with a woeful ballad\n",
    "Made to his mistress' eyebrow. Then a soldier,\n",
    "Full of strange oaths and bearded like the pard,\n",
    "Jealous in honor, sudden and quick in quarrel,\n",
    "Seeking the bubble reputation\n",
    "Even in the cannon's mouth. And then the justice,\n",
    "In fair round belly with good capon lined,\n",
    "With eyes severe and beard of formal cut,\n",
    "Full of wise saws and modern instances;\n",
    "And so he plays his part. The sixth age shifts\n",
    "Into the lean and slippered pantaloon,\n",
    "With spectacles on nose and pouch on side;\n",
    "His youthful hose, well saved, a world too wide\n",
    "For his shrunk shank, and his big manly voice,\n",
    "Turning again toward childish treble, pipes\n",
    "And whistles in his sound. Last scene of all,\n",
    "That ends this strange eventful history,\n",
    "Is second childishness and mere oblivion,\n",
    "Sans teeth, sans eyes, sans taste, sans everything.\"\"\""
   ]
  },
  {
   "cell_type": "code",
   "execution_count": 24,
   "metadata": {},
   "outputs": [
    {
     "data": {
      "text/plain": [
       "{'all': 3,\n",
       " 'the': 12,\n",
       " 'world': 2,\n",
       " 's': 3,\n",
       " 'a': 4,\n",
       " 'stage': 1,\n",
       " 'and': 18,\n",
       " 'men': 1,\n",
       " 'women': 1,\n",
       " 'merely': 1,\n",
       " 'players': 1,\n",
       " 'they': 1,\n",
       " 'have': 1,\n",
       " 'their': 2,\n",
       " 'exits': 1,\n",
       " 'entrances': 1,\n",
       " 'one': 1,\n",
       " 'man': 1,\n",
       " 'in': 7,\n",
       " 'his': 9,\n",
       " 'time': 1,\n",
       " 'plays': 2,\n",
       " 'many': 1,\n",
       " 'parts': 1,\n",
       " 'acts': 1,\n",
       " 'being': 1,\n",
       " 'seven': 1,\n",
       " 'ages': 1,\n",
       " 'at': 1,\n",
       " 'first': 1,\n",
       " 'infant': 1,\n",
       " 'mewling': 1,\n",
       " 'puking': 1,\n",
       " 'nurse': 1,\n",
       " 'arms': 1,\n",
       " 'then': 4,\n",
       " 'whining': 1,\n",
       " 'schoolboy': 1,\n",
       " 'with': 5,\n",
       " 'satchel': 1,\n",
       " 'shining': 1,\n",
       " 'morning': 1,\n",
       " 'face': 1,\n",
       " 'creeping': 1,\n",
       " 'like': 3,\n",
       " 'snail': 1,\n",
       " 'unwillingly': 1,\n",
       " 'to': 2,\n",
       " 'school': 1,\n",
       " 'lover': 1,\n",
       " 'sighing': 1,\n",
       " 'furnace': 1,\n",
       " 'woeful': 1,\n",
       " 'ballad': 1,\n",
       " 'made': 1,\n",
       " 'mistress': 1,\n",
       " 'eyebrow': 1,\n",
       " 'soldier': 1,\n",
       " 'full': 2,\n",
       " 'of': 4,\n",
       " 'strange': 2,\n",
       " 'oaths': 1,\n",
       " 'bearded': 1,\n",
       " 'pard': 1,\n",
       " 'jealous': 1,\n",
       " 'honor': 1,\n",
       " 'sudden': 1,\n",
       " 'quick': 1,\n",
       " 'quarrel': 1,\n",
       " 'seeking': 1,\n",
       " 'bubble': 1,\n",
       " 'reputation': 1,\n",
       " 'even': 1,\n",
       " 'cannon': 1,\n",
       " 'mouth': 1,\n",
       " 'justice': 1,\n",
       " 'fair': 1,\n",
       " 'round': 1,\n",
       " 'belly': 1,\n",
       " 'good': 1,\n",
       " 'capon': 1,\n",
       " 'lined': 1,\n",
       " 'eyes': 2,\n",
       " 'severe': 1,\n",
       " 'beard': 1,\n",
       " 'formal': 1,\n",
       " 'cut': 1,\n",
       " 'wise': 1,\n",
       " 'saws': 1,\n",
       " 'modern': 1,\n",
       " 'instances': 1,\n",
       " 'so': 1,\n",
       " 'he': 1,\n",
       " 'part': 1,\n",
       " 'sixth': 1,\n",
       " 'age': 1,\n",
       " 'shifts': 1,\n",
       " 'into': 1,\n",
       " 'lean': 1,\n",
       " 'slippered': 1,\n",
       " 'pantaloon': 1,\n",
       " 'spectacles': 1,\n",
       " 'on': 2,\n",
       " 'nose': 1,\n",
       " 'pouch': 1,\n",
       " 'side': 1,\n",
       " 'youthful': 1,\n",
       " 'hose': 1,\n",
       " 'well': 1,\n",
       " 'saved': 1,\n",
       " 'too': 1,\n",
       " 'wide': 1,\n",
       " 'for': 1,\n",
       " 'shrunk': 1,\n",
       " 'shank': 1,\n",
       " 'big': 1,\n",
       " 'manly': 1,\n",
       " 'voice': 1,\n",
       " 'turning': 1,\n",
       " 'again': 1,\n",
       " 'toward': 1,\n",
       " 'childish': 1,\n",
       " 'treble': 1,\n",
       " 'pipes': 1,\n",
       " 'whistles': 1,\n",
       " 'sound': 1,\n",
       " 'last': 1,\n",
       " 'scene': 1,\n",
       " 'that': 1,\n",
       " 'ends': 1,\n",
       " 'this': 1,\n",
       " 'eventful': 1,\n",
       " 'history': 1,\n",
       " 'is': 1,\n",
       " 'second': 1,\n",
       " 'childishness': 1,\n",
       " 'mere': 1,\n",
       " 'oblivion': 1,\n",
       " 'sans': 4,\n",
       " 'teeth': 1,\n",
       " 'taste': 1,\n",
       " 'everything': 1}"
      ]
     },
     "execution_count": 24,
     "metadata": {},
     "output_type": "execute_result"
    }
   ],
   "source": [
    "import re\n",
    "def count_words(text):\n",
    "    text = \"\".join([letter if letter.isalpha() == True else \" \" for letter in text]).lower().split()\n",
    "    return {text[pos] : sum([text[pos] == i for i in text]) for pos in range(len(text)) if text[pos] not in text[ : pos]}\n",
    "\n",
    "    #your code\n",
    "    #return {'a' + str(x) : x for x in range(10)}\n",
    "dict_x = count_words(all_the_words_a_stage)\n",
    "dict_x"
   ]
  },
  {
   "cell_type": "markdown",
   "metadata": {},
   "source": [
    "### b)\n",
    "Sort the words for frequency and print the first 3 most frequent words!"
   ]
  },
  {
   "cell_type": "code",
   "execution_count": 25,
   "metadata": {},
   "outputs": [
    {
     "name": "stdout",
     "output_type": "stream",
     "text": [
      "['and', 'the', 'his']\n"
     ]
    }
   ],
   "source": [
    "import operator\n",
    "sorted_x = sorted(dict_x.items(), key = operator.itemgetter(1), reverse = True)\n",
    "print([x[0] for x in sorted_x[:3]])"
   ]
  },
  {
   "cell_type": "markdown",
   "metadata": {},
   "source": [
    "## Exercise 4: Let's work wit a small dataset. Towns (~10 min)\n",
    "\n",
    "### a) Read the file towns.dat into a dictionary\n",
    "<pre>\n",
    "#town Jan Feb Mar Apr May Jun Jul Aug Sep Oct Nov Dec\n",
    "Tallinn -3 -5 -1 3 10 13 16 15 10 6 1 -2\n",
    "Beijing -3 0 6 13 20 24 26 25 20 13 5 -1\n",
    "Berlin 0 -1 4 7 12 16 18 17 14 9 4 1\n",
    "Buenos_Aires 23 22 20 16 13 10 10 11 13 16 18 22\n",
    "Cairo 13 15 17 21 25 27 28 27 26 23 19 15\n",
    "Cape_Town 21 21 20 17 15 13 12 13 14 16 18 20\n",
    "Helsinki -5 -6 -2 3 10 13 16 15 10 5 0 -3\n",
    "London 3 3 6 7 11 14 16 16 13 10 6 5\n",
    "Moscow -8 -7 -2 5 12 15 17 15 10 3 -2 -6\n",
    "Ottawa -10 -8 -2 6 13 18 21 20 14 7 1 -7\n",
    "Paris 3 4 7 10 13 16 19 19 16 11 6 5\n",
    "Riga -3 -3 1 5 11 15 17 16 12 7 2 -1\n",
    "Rome 8 8 11 12 17 20 23 23 21 17 12 9\n",
    "Singapore 27 27 28 28 28 28 28 28 27 27 27 26\n",
    "Stockholm -2 -3 0 3 10 14 17 16 11 6 1 -2\n",
    "Waschington_D.C. 2 3 7 13 18 23 26 25 21 15 9 3\n",
    "</pre>\n",
    "* As you can see the columns are separated by space\n",
    "* The first line is a header\n",
    "* The first column is the name of the city\n",
    "* Use the city names as key for the dictionary and the temperatures as a list for the values"
   ]
  },
  {
   "cell_type": "code",
   "execution_count": 40,
   "metadata": {},
   "outputs": [
    {
     "data": {
      "text/plain": [
       "{'Tallinn': [-3, -5, -1, 3, 10, 13, 16, 15, 10, 6, 1, -2],\n",
       " 'Beijing': [-3, 0, 6, 13, 20, 24, 26, 25, 20, 13, 5, -1],\n",
       " 'Berlin': [0, -1, 4, 7, 12, 16, 18, 17, 14, 9, 4, 1],\n",
       " 'Buenos_Aires': [23, 22, 20, 16, 13, 10, 10, 11, 13, 16, 18, 22],\n",
       " 'Cairo': [13, 15, 17, 21, 25, 27, 28, 27, 26, 23, 19, 15],\n",
       " 'Cape_Town': [21, 21, 20, 17, 15, 13, 12, 13, 14, 16, 18, 20],\n",
       " 'Helsinki': [-5, -6, -2, 3, 10, 13, 16, 15, 10, 5, 0, -3],\n",
       " 'London': [3, 3, 6, 7, 11, 14, 16, 16, 13, 10, 6, 5],\n",
       " 'Moscow': [-8, -7, -2, 5, 12, 15, 17, 15, 10, 3, -2, -6],\n",
       " 'Ottawa': [-10, -8, -2, 6, 13, 18, 21, 20, 14, 7, 1, -7],\n",
       " 'Paris': [3, 4, 7, 10, 13, 16, 19, 19, 16, 11, 6, 5],\n",
       " 'Riga': [-3, -3, 1, 5, 11, 15, 17, 16, 12, 7, 2, -1],\n",
       " 'Rome': [8, 8, 11, 12, 17, 20, 23, 23, 21, 17, 12, 9],\n",
       " 'Singapore': [27, 27, 28, 28, 28, 28, 28, 28, 27, 27, 27, 26],\n",
       " 'Stockholm': [-2, -3, 0, 3, 10, 14, 17, 16, 11, 6, 1, -2],\n",
       " 'Waschington_D.C.': [2, 3, 7, 13, 18, 23, 26, 25, 21, 15, 9, 3]}"
      ]
     },
     "execution_count": 40,
     "metadata": {},
     "output_type": "execute_result"
    }
   ],
   "source": [
    "import numpy as np\n",
    "with open('towns.csv') as f:\n",
    "    lines = [l.strip().split(' ') for l in f]\n",
    "    months = lines[0][1:]\n",
    "    cities = {line[0]:list(map(int, line[1:])) for line in lines[1:]}\n",
    "cities"
   ]
  },
  {
   "cell_type": "markdown",
   "metadata": {},
   "source": [
    "### b) Create a numpy array\n",
    "* Create a numpy array which contains only the temperatures\n",
    "* There are 16 cities and 12 months and the temperatures are integers (it has then to be a 16*12 matrix)"
   ]
  },
  {
   "cell_type": "code",
   "execution_count": 71,
   "metadata": {},
   "outputs": [
    {
     "data": {
      "text/plain": [
       "['Tallinn',\n",
       " 'Beijing',\n",
       " 'Berlin',\n",
       " 'Buenos_Aires',\n",
       " 'Cairo',\n",
       " 'Cape_Town',\n",
       " 'Helsinki',\n",
       " 'London',\n",
       " 'Moscow',\n",
       " 'Ottawa',\n",
       " 'Paris',\n",
       " 'Riga',\n",
       " 'Rome',\n",
       " 'Singapore',\n",
       " 'Stockholm',\n",
       " 'Waschington_D.C.']"
      ]
     },
     "execution_count": 71,
     "metadata": {},
     "output_type": "execute_result"
    }
   ],
   "source": [
    "temperatures = [l for l in cities.values()]"
   ]
  },
  {
   "cell_type": "markdown",
   "metadata": {},
   "source": [
    "### c) Temperatures\n",
    "1. Calculate the average temperature for each city\n",
    "2. Create a list ordered by the average temperature\n",
    "3. Create a list ordered by the maximal temperature\n",
    "4. Create a list with the hottest month for the cities."
   ]
  },
  {
   "cell_type": "code",
   "execution_count": 81,
   "metadata": {},
   "outputs": [
    {
     "data": {
      "text/plain": [
       "[['Tallinn', 5.25],\n",
       " ['Beijing', 12.333333333333334],\n",
       " ['Berlin', 8.416666666666666],\n",
       " ['Buenos_Aires', 16.166666666666668],\n",
       " ['Cairo', 21.333333333333332],\n",
       " ['Cape_Town', 16.666666666666668],\n",
       " ['Helsinki', 4.666666666666667],\n",
       " ['London', 9.166666666666666],\n",
       " ['Moscow', 4.333333333333333],\n",
       " ['Ottawa', 6.083333333333333],\n",
       " ['Paris', 10.75],\n",
       " ['Riga', 6.583333333333333],\n",
       " ['Rome', 15.083333333333334],\n",
       " ['Singapore', 27.416666666666668],\n",
       " ['Stockholm', 5.916666666666667],\n",
       " ['Waschington_D.C.', 13.75]]"
      ]
     },
     "execution_count": 81,
     "metadata": {},
     "output_type": "execute_result"
    }
   ],
   "source": [
    "city_list = [c for c in cities.keys()]\n",
    "avg_temps = [np.mean(temperatures[i]) for i in range(len(temperatures))]\n",
    "city_avg = [[city_list[i], avg_temps[i]] for i in range(len(city_list))]\n",
    "city_avg"
   ]
  },
  {
   "cell_type": "code",
   "execution_count": 82,
   "metadata": {},
   "outputs": [
    {
     "data": {
      "text/plain": [
       "[['Singapore', 27.416666666666668],\n",
       " ['Cairo', 21.333333333333332],\n",
       " ['Cape_Town', 16.666666666666668],\n",
       " ['Buenos_Aires', 16.166666666666668],\n",
       " ['Rome', 15.083333333333334],\n",
       " ['Waschington_D.C.', 13.75],\n",
       " ['Beijing', 12.333333333333334],\n",
       " ['Paris', 10.75],\n",
       " ['London', 9.166666666666666],\n",
       " ['Berlin', 8.416666666666666],\n",
       " ['Riga', 6.583333333333333],\n",
       " ['Ottawa', 6.083333333333333],\n",
       " ['Stockholm', 5.916666666666667],\n",
       " ['Tallinn', 5.25],\n",
       " ['Helsinki', 4.666666666666667],\n",
       " ['Moscow', 4.333333333333333]]"
      ]
     },
     "execution_count": 82,
     "metadata": {},
     "output_type": "execute_result"
    }
   ],
   "source": [
    "ordered_city_avg = sorted(city_avg, key = lambda x: x[1], reverse = True)\n",
    "ordered_city_avg"
   ]
  },
  {
   "cell_type": "code",
   "execution_count": 90,
   "metadata": {},
   "outputs": [
    {
     "data": {
      "text/plain": [
       "[['Cairo', 28],\n",
       " ['Singapore', 28],\n",
       " ['Beijing', 26],\n",
       " ['Waschington_D.C.', 26],\n",
       " ['Buenos_Aires', 23],\n",
       " ['Rome', 23],\n",
       " ['Cape_Town', 21],\n",
       " ['Ottawa', 21],\n",
       " ['Paris', 19],\n",
       " ['Berlin', 18],\n",
       " ['Moscow', 17],\n",
       " ['Riga', 17],\n",
       " ['Stockholm', 17],\n",
       " ['Tallinn', 16],\n",
       " ['Helsinki', 16],\n",
       " ['London', 16]]"
      ]
     },
     "execution_count": 90,
     "metadata": {},
     "output_type": "execute_result"
    }
   ],
   "source": [
    "max_temps = [max(temperatures[i]) for i in range(len(temperatures))]\n",
    "city_max = [[city_list[i], max_temps[i]] for i in range(len(city_list))]\n",
    "ordered_city_max = sorted(city_max, key = lambda x: x[1], reverse = True)\n",
    "ordered_city_max"
   ]
  },
  {
   "cell_type": "code",
   "execution_count": 96,
   "metadata": {},
   "outputs": [
    {
     "data": {
      "text/plain": [
       "[['Tallinn', 'Jul'],\n",
       " ['Beijing', 'Jul'],\n",
       " ['Berlin', 'Jul'],\n",
       " ['Buenos_Aires', 'Jan'],\n",
       " ['Cairo', 'Jul'],\n",
       " ['Cape_Town', 'Jan'],\n",
       " ['Helsinki', 'Jul'],\n",
       " ['London', 'Jul'],\n",
       " ['Moscow', 'Jul'],\n",
       " ['Ottawa', 'Jul'],\n",
       " ['Paris', 'Jul'],\n",
       " ['Riga', 'Jul'],\n",
       " ['Rome', 'Jul'],\n",
       " ['Singapore', 'Mar'],\n",
       " ['Stockholm', 'Jul'],\n",
       " ['Waschington_D.C.', 'Jul']]"
      ]
     },
     "execution_count": 96,
     "metadata": {},
     "output_type": "execute_result"
    }
   ],
   "source": [
    "[[city_list[i], months[np.argmax(temperatures[i])]] for i in range(len(temperatures))]"
   ]
  },
  {
   "cell_type": "markdown",
   "metadata": {},
   "source": [
    "## Exercise 5: Bak-Sneppen model of evolution (~10 min)\n",
    "### (highly suggested to everyone)\n",
    "\n",
    "Ref: Bak, Per, and Kim Sneppen. \"Punctuated equilibrium and criticality in a simple model of evolution.\" Physical review letters 71.24 (1993): 4083.\n",
    "1. Create a numpy array of 100 uniform random numbers from the range \\[0,1\\]\n",
    "2. Find the position of the smallest. Let us call it  $i$\n",
    "3. Replace the numbers at position $i-1$, $i$, $i+1$ with random numbers (Watch for the array boundaries i.e. if $i==0$ or $i==100$)\n",
    "4. Repeat steps 2., 3. 10000 times\n",
    "5. Count the number of numbers less than 0.66"
   ]
  },
  {
   "cell_type": "code",
   "execution_count": 52,
   "metadata": {},
   "outputs": [],
   "source": [
    "import numpy as np\n",
    "def swap_3(a):\n",
    "    k = np.argmin(a)\n",
    "    a[max(0, k - 1) : min(len(a), k + 2)] = np.random.random(3 - (k == 0) - (k == len(a) - 1))\n",
    "    return a"
   ]
  },
  {
   "cell_type": "code",
   "execution_count": 53,
   "metadata": {},
   "outputs": [
    {
     "data": {
      "text/plain": [
       "2238"
      ]
     },
     "execution_count": 53,
     "metadata": {},
     "output_type": "execute_result"
    }
   ],
   "source": [
    "def swapping(a, n):\n",
    "    for i in range(n):\n",
    "        a = swap_3(a)\n",
    "    return sum(a < 0.66)\n",
    "sum([swapping (np.random.random(100), 1000) for i in range(100)])"
   ]
  }
 ],
 "metadata": {
  "kernelspec": {
   "display_name": "Python 3",
   "language": "python",
   "name": "python3"
  },
  "language_info": {
   "codemirror_mode": {
    "name": "ipython",
    "version": 3
   },
   "file_extension": ".py",
   "mimetype": "text/x-python",
   "name": "python",
   "nbconvert_exporter": "python",
   "pygments_lexer": "ipython3",
   "version": "3.6.6"
  }
 },
 "nbformat": 4,
 "nbformat_minor": 2
}

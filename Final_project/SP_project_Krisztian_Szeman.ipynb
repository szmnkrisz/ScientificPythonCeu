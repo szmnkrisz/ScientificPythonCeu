{
 "cells": [
  {
   "cell_type": "markdown",
   "metadata": {},
   "source": [
    "# Project for Scientific Python - Krisztián Szemán\n",
    "\n",
    "## Analysis of the football betting market"
   ]
  },
  {
   "cell_type": "markdown",
   "metadata": {},
   "source": [
    "This project is an analysis of football games played in the English Premier League between seasons 2005-06 and 2017-18. The dataset contains 4940 games played in that span, and it has the following observations for each game:\n",
    "* the teams playing the game\n",
    "* the final score\n",
    "* the average odds across several bookmakers for home win, draw and away win, respectively\n",
    "\n",
    "The notebook can be separated into 3 parts:\n",
    "* the first part is some exploratory analysis of the data: how big is the edge of bookmakers over the bettors, naive betting strategies, etc.\n",
    "* in the second part, I test the occurence of a well-studied phenomenon, namely the favorite-longshot bias on this specific set of games.\n",
    "* th third part is building a very simple models predicting the result of games and giving betting advice based on that."
   ]
  },
  {
   "cell_type": "markdown",
   "metadata": {},
   "source": [
    "## Part 1: Exploring the data"
   ]
  },
  {
   "cell_type": "code",
   "execution_count": 122,
   "metadata": {},
   "outputs": [],
   "source": [
    "import numpy as np\n",
    "import matplotlib.pyplot as plt\n",
    "import pandas as pd\n",
    "import datetime\n",
    "import matplotlib as mpl"
   ]
  },
  {
   "cell_type": "markdown",
   "metadata": {},
   "source": [
    "Reading in data"
   ]
  },
  {
   "cell_type": "code",
   "execution_count": 123,
   "metadata": {},
   "outputs": [],
   "source": [
    "needed_cols = ['Date', 'HomeTeam', 'AwayTeam', 'FTHG', 'FTAG', 'FTR', 'BbAvH',\n",
    "               'BbAvD', 'BbAvA']\n",
    "data = pd.read_csv('E0 (1).csv')[needed_cols]\n",
    "for i in range(2, 14):\n",
    "    season = pd.read_csv('E0 (' + str(i) + ').csv')[needed_cols]\n",
    "    if season.shape[0] != 380:\n",
    "        season = season.iloc[ :380, :]\n",
    "    data = pd.concat([data, season])"
   ]
  },
  {
   "cell_type": "code",
   "execution_count": 124,
   "metadata": {},
   "outputs": [
    {
     "name": "stdout",
     "output_type": "stream",
     "text": [
      "The dataset consists of 4940 rows and 9 columns\n"
     ]
    }
   ],
   "source": [
    "print(\"The dataset consists of \" + str(data.shape[0]) + \" rows and \" + str(data.shape[1]) + \" columns\")"
   ]
  },
  {
   "cell_type": "code",
   "execution_count": 125,
   "metadata": {},
   "outputs": [
    {
     "data": {
      "text/html": [
       "<div>\n",
       "<style scoped>\n",
       "    .dataframe tbody tr th:only-of-type {\n",
       "        vertical-align: middle;\n",
       "    }\n",
       "\n",
       "    .dataframe tbody tr th {\n",
       "        vertical-align: top;\n",
       "    }\n",
       "\n",
       "    .dataframe thead th {\n",
       "        text-align: right;\n",
       "    }\n",
       "</style>\n",
       "<table border=\"1\" class=\"dataframe\">\n",
       "  <thead>\n",
       "    <tr style=\"text-align: right;\">\n",
       "      <th></th>\n",
       "      <th>Date</th>\n",
       "      <th>HomeTeam</th>\n",
       "      <th>AwayTeam</th>\n",
       "      <th>FTHG</th>\n",
       "      <th>FTAG</th>\n",
       "      <th>FTR</th>\n",
       "      <th>BbAvH</th>\n",
       "      <th>BbAvD</th>\n",
       "      <th>BbAvA</th>\n",
       "    </tr>\n",
       "  </thead>\n",
       "  <tbody>\n",
       "    <tr>\n",
       "      <th>0</th>\n",
       "      <td>11/08/17</td>\n",
       "      <td>Arsenal</td>\n",
       "      <td>Leicester</td>\n",
       "      <td>4.0</td>\n",
       "      <td>3.0</td>\n",
       "      <td>H</td>\n",
       "      <td>1.51</td>\n",
       "      <td>4.43</td>\n",
       "      <td>6.44</td>\n",
       "    </tr>\n",
       "    <tr>\n",
       "      <th>1</th>\n",
       "      <td>12/08/17</td>\n",
       "      <td>Brighton</td>\n",
       "      <td>Man City</td>\n",
       "      <td>0.0</td>\n",
       "      <td>2.0</td>\n",
       "      <td>A</td>\n",
       "      <td>10.10</td>\n",
       "      <td>5.25</td>\n",
       "      <td>1.32</td>\n",
       "    </tr>\n",
       "    <tr>\n",
       "      <th>2</th>\n",
       "      <td>12/08/17</td>\n",
       "      <td>Chelsea</td>\n",
       "      <td>Burnley</td>\n",
       "      <td>2.0</td>\n",
       "      <td>3.0</td>\n",
       "      <td>A</td>\n",
       "      <td>1.24</td>\n",
       "      <td>6.06</td>\n",
       "      <td>13.67</td>\n",
       "    </tr>\n",
       "    <tr>\n",
       "      <th>3</th>\n",
       "      <td>12/08/17</td>\n",
       "      <td>Crystal Palace</td>\n",
       "      <td>Huddersfield</td>\n",
       "      <td>0.0</td>\n",
       "      <td>3.0</td>\n",
       "      <td>A</td>\n",
       "      <td>1.81</td>\n",
       "      <td>3.50</td>\n",
       "      <td>4.82</td>\n",
       "    </tr>\n",
       "  </tbody>\n",
       "</table>\n",
       "</div>"
      ],
      "text/plain": [
       "       Date        HomeTeam      AwayTeam  FTHG  FTAG FTR  BbAvH  BbAvD  BbAvA\n",
       "0  11/08/17         Arsenal     Leicester   4.0   3.0   H   1.51   4.43   6.44\n",
       "1  12/08/17        Brighton      Man City   0.0   2.0   A  10.10   5.25   1.32\n",
       "2  12/08/17         Chelsea       Burnley   2.0   3.0   A   1.24   6.06  13.67\n",
       "3  12/08/17  Crystal Palace  Huddersfield   0.0   3.0   A   1.81   3.50   4.82"
      ]
     },
     "execution_count": 125,
     "metadata": {},
     "output_type": "execute_result"
    }
   ],
   "source": [
    "data.head(4)"
   ]
  },
  {
   "cell_type": "code",
   "execution_count": 126,
   "metadata": {},
   "outputs": [],
   "source": [
    "data.rename(columns = {'FTR': \"Result\", \"BbAvH\": \"HomeOdds\", \"BbAvD\": \"DrawOdds\",\n",
    "                       \"BbAvA\": \"AwayOdds\" }, inplace = True)"
   ]
  },
  {
   "cell_type": "code",
   "execution_count": 127,
   "metadata": {},
   "outputs": [],
   "source": [
    "data['HomeOdds'] = round(data[\"HomeOdds\"], 2)\n",
    "data['DrawOdds'] = round(data[\"DrawOdds\"], 2)\n",
    "data['AwayOdds'] = round(data[\"AwayOdds\"], 2)"
   ]
  },
  {
   "cell_type": "markdown",
   "metadata": {},
   "source": [
    "The average bettors loses, because the odds are set in such a way that for a sure win of one dollar, one should risk a little more than that. This is called the overround, which can be seen as e.g. the equivalent of the number zero in roulette.\n",
    "### So what's this overround here?"
   ]
  },
  {
   "cell_type": "code",
   "execution_count": 128,
   "metadata": {},
   "outputs": [
    {
     "data": {
      "image/png": "[encoded data removed]",
      "text/plain": [
       "<Figure size 432x288 with 1 Axes>"
      ]
     },
     "metadata": {
      "needs_background": "light"
     },
     "output_type": "display_data"
    }
   ],
   "source": [
    "data['odds_check'] = 1/data[\"HomeOdds\"] + 1/data[\"DrawOdds\"] + 1/data[\"AwayOdds\"]\n",
    "plt.hist(data['odds_check'])\n",
    "plt.title('Histogram of bookmakers overround over bettors')\n",
    "plt.xlabel('Amount of USD needed for surely winning $1')\n",
    "plt.ylabel('Number of games')\n",
    "plt.show()"
   ]
  },
  {
   "cell_type": "markdown",
   "metadata": {},
   "source": [
    "### Trying out some naive betting strategies\n",
    "\n",
    "Betting always on:\n",
    "* Team with higher chance (favorite)\n",
    "* Team with lower chance (longshot)\n",
    "* Draw\n",
    "* Home team\n",
    "* Away team"
   ]
  },
  {
   "cell_type": "code",
   "execution_count": 129,
   "metadata": {},
   "outputs": [],
   "source": [
    "data['OddsFav'] = data[['HomeOdds', 'AwayOdds']].min(axis = 1)\n",
    "data['PosFav'] = data[['HomeOdds', 'AwayOdds']].min(axis = 1) == data['HomeOdds']\n",
    "data['OddsLongshot'] = data[['HomeOdds', 'AwayOdds']].max(axis = 1)"
   ]
  },
  {
   "cell_type": "code",
   "execution_count": 130,
   "metadata": {},
   "outputs": [
    {
     "name": "stderr",
     "output_type": "stream",
     "text": [
      "C:\\Users\\szmnk\\Anaconda3\\lib\\site-packages\\pandas\\core\\computation\\expressions.py:180: UserWarning: evaluating in Python space because the '*' operator is not supported by numexpr for the bool dtype, use '&' instead\n",
      "  .format(op=op_str, alt_op=unsupported[op_str]))\n"
     ]
    }
   ],
   "source": [
    "data[\"IsSuccessFav\"] = data[\"PosFav\"] * (data[\"Result\"] == \"H\") + ((1 - data[\"PosFav\"])) * (data[\"Result\"] == \"A\")\n",
    "data[\"IsSuccessDraw\"] = (data[\"Result\"] == \"D\")\n",
    "data[\"IsSuccessLS\"] = data[\"PosFav\"] * (data[\"Result\"] == \"A\") + ((1 - data[\"PosFav\"])) * (data[\"Result\"] == \"H\")"
   ]
  },
  {
   "cell_type": "code",
   "execution_count": 131,
   "metadata": {},
   "outputs": [],
   "source": [
    "def bet_success(col_odds, col_success, range_start, range_end, by, quality, indicator = 1):\n",
    "    plt.subplots(figsize=(10, 4))\n",
    "    plt.hist(data[col_odds], bins = np.arange(range_start, range_end, by), color = \"r\")\n",
    "    plt.hist(data.loc[data[col_success] == indicator, col_odds], bins = np.arange(range_start, range_end, by), color = \"g\")\n",
    "    plt.ylabel(\"Number of games\")\n",
    "    plt.xlabel(\"Odds\")\n",
    "    plt.legend(labels = ['Unsuccessful', 'Successful'], bbox_to_anchor=(1, 1, 0.35, 0))\n",
    "    plt.title(\"How successful were bets on the \" + quality + \"?\")\n",
    "    plt.show()"
   ]
  },
  {
   "cell_type": "code",
   "execution_count": 132,
   "metadata": {},
   "outputs": [
    {
     "data": {
      "image/png": "[encoded data removed]",
      "text/plain": [
       "<Figure size 720x288 with 1 Axes>"
      ]
     },
     "metadata": {
      "needs_background": "light"
     },
     "output_type": "display_data"
    }
   ],
   "source": [
    "bet_success(\"OddsFav\", \"IsSuccessFav\", 1, 2.5, 0.1, quality = \"BETTER team\")"
   ]
  },
  {
   "cell_type": "code",
   "execution_count": 133,
   "metadata": {},
   "outputs": [
    {
     "data": {
      "image/png": "[encoded data removed]",
      "text/plain": [
       "<Figure size 720x288 with 1 Axes>"
      ]
     },
     "metadata": {
      "needs_background": "light"
     },
     "output_type": "display_data"
    }
   ],
   "source": [
    "bet_success(\"OddsLongshot\", \"IsSuccessLS\", 3.0, 10, 0.25, quality = \"WORSE\")"
   ]
  },
  {
   "cell_type": "code",
   "execution_count": 134,
   "metadata": {},
   "outputs": [
    {
     "data": {
      "image/png": "[encoded data removed]",
      "text/plain": [
       "<Figure size 720x288 with 1 Axes>"
      ]
     },
     "metadata": {
      "needs_background": "light"
     },
     "output_type": "display_data"
    }
   ],
   "source": [
    "bet_success(\"DrawOdds\", \"Result\", 2.7, 6, 0.15, quality = \"DRAWS\", indicator = \"D\")"
   ]
  },
  {
   "cell_type": "code",
   "execution_count": 135,
   "metadata": {},
   "outputs": [
    {
     "data": {
      "image/png": "[encoded data removed]",
      "text/plain": [
       "<Figure size 720x288 with 1 Axes>"
      ]
     },
     "metadata": {
      "needs_background": "light"
     },
     "output_type": "display_data"
    }
   ],
   "source": [
    "bet_success(\"HomeOdds\", \"Result\", 1, 6, 0.2, quality = \"HOME team\", indicator = \"H\")"
   ]
  },
  {
   "cell_type": "code",
   "execution_count": 136,
   "metadata": {},
   "outputs": [
    {
     "data": {
      "image/png": "[encoded data removed]",
      "text/plain": [
       "<Figure size 720x288 with 1 Axes>"
      ]
     },
     "metadata": {
      "needs_background": "light"
     },
     "output_type": "display_data"
    }
   ],
   "source": [
    "bet_success(\"AwayOdds\", \"Result\", 1, 10, 0.25, quality = \"AWAY team\", indicator = \"A\")"
   ]
  },
  {
   "cell_type": "markdown",
   "metadata": {},
   "source": [
    "### Would any of these 5 strategies have been profitable?"
   ]
  },
  {
   "cell_type": "code",
   "execution_count": 137,
   "metadata": {},
   "outputs": [],
   "source": [
    "def profits(col_odds, col_success, indicator):\n",
    "    return (round(sum(data.loc[data[col_success] == indicator, col_odds]) / data.shape[0] - 1, 4) * 100)"
   ]
  },
  {
   "cell_type": "code",
   "execution_count": 138,
   "metadata": {},
   "outputs": [
    {
     "data": {
      "image/png": "[encoded data removed]",
      "text/plain": [
       "<Figure size 432x288 with 1 Axes>"
      ]
     },
     "metadata": {
      "needs_background": "light"
     },
     "output_type": "display_data"
    }
   ],
   "source": [
    "df = pd.DataFrame(columns=['Strategy','Profit'])\n",
    "df['Strategy'] = [\"Favorite\", \"Longshot\", \"Draw\", \"Home\", \"Away\"]\n",
    "df[\"Profit\"] = [profits(\"OddsFav\", \"IsSuccessFav\", 1), profits(\"OddsLongshot\", \"IsSuccessLS\", 1),\n",
    "                profits(\"DrawOdds\", \"Result\", \"D\"), profits(\"HomeOdds\", \"Result\", \"H\"),\n",
    "                profits(\"AwayOdds\", \"Result\", \"A\")]\n",
    "df.plot(x = 'Strategy', y = 'Profit', kind = 'bar', color = \"r\", legend = False)\n",
    "plt.show()"
   ]
  },
  {
   "cell_type": "markdown",
   "metadata": {},
   "source": [
    "## Part 2: The favorite-longshot bias"
   ]
  },
  {
   "cell_type": "markdown",
   "metadata": {},
   "source": [
    "Empirical fact: betting on the heavily favored team results in smaller loss in the long run, than betting on underdogs. Why is it so?\n",
    "\n",
    "* bettors, and people in general tend to over-estimate the probability of unlikely events\n",
    "* betting on huge odds and being successful is very appealing to a bettor, because it gives a sense of \"superiority\"\n",
    "* risk-seeking: with the same expected value, bettors might prefer bets with higher variance"
   ]
  },
  {
   "cell_type": "code",
   "execution_count": 139,
   "metadata": {
    "scrolled": true
   },
   "outputs": [
    {
     "data": {
      "image/png": "[encoded data removed]",
      "text/plain": [
       "<Figure size 720x288 with 1 Axes>"
      ]
     },
     "metadata": {
      "needs_background": "light"
     },
     "output_type": "display_data"
    }
   ],
   "source": [
    "plt.subplots(figsize=(10, 4))\n",
    "data[\"OddsFav\"] * data[\"IsSuccessFav\"]\n",
    "gap = 0.15\n",
    "bins = np.arange(1.05, 2.55, gap)\n",
    "d = [[data[(data[\"OddsFav\"] > b) & (data[\"OddsFav\"] <= b + gap)].shape[0],\n",
    "round(sum(data.loc[(data[\"OddsFav\"] > b) & (data[\"OddsFav\"] <= b + gap) & \n",
    "                   (data[\"IsSuccessFav\"] == 1), \"OddsFav\"]), 2)] for b in bins]\n",
    "favorite_returns = pd.DataFrame(d)\n",
    "favorite_returns.rename(columns = {\"0\": \"No_of_games\", \"1\": \"Avg_return\"}, inplace = True)\n",
    "favorite_returns[1] = favorite_returns[1] / favorite_returns[0] - 1\n",
    "favorite_returns[\"Bin_min\"] = bins\n",
    "favorite_returns\n",
    "plt.plot(favorite_returns.iloc[: ,2], favorite_returns.iloc[:, 1], color = \"r\")\n",
    "plt.axhline(y = 0, xmin = 0, xmax = 1, color = \"b\")\n",
    "plt.title(\"Profitability of certain range of odds\")\n",
    "plt.xlabel(\"Odds of the favorite team\")\n",
    "plt.ylabel(\"Average return\")\n",
    "plt.show()"
   ]
  },
  {
   "cell_type": "code",
   "execution_count": 140,
   "metadata": {},
   "outputs": [
    {
     "data": {
      "image/png": "[encoded data removed]",
      "text/plain": [
       "<Figure size 720x288 with 1 Axes>"
      ]
     },
     "metadata": {
      "needs_background": "light"
     },
     "output_type": "display_data"
    }
   ],
   "source": [
    "plt.subplots(figsize=(10, 4))\n",
    "data[\"OddsLongshot\"] * data[\"IsSuccessLS\"]\n",
    "gap = 1\n",
    "bins = np.arange(3.5, 20, gap)\n",
    "d = [[data[(data[\"OddsLongshot\"] > b) & (data[\"OddsLongshot\"] <= b + gap)].shape[0],\n",
    "round(sum(data.loc[(data[\"OddsLongshot\"] > b) & (data[\"OddsLongshot\"] <= b + gap) & \n",
    "                   (data[\"IsSuccessLS\"] == 1), \"OddsLongshot\"]), 2)] for b in bins]\n",
    "favorite_returns = pd.DataFrame(d)\n",
    "favorite_returns.rename(columns = {\"0\": \"No_of_games\", \"1\": \"Avg_return\"}, inplace = True)\n",
    "favorite_returns[1] = favorite_returns[1] / favorite_returns[0] - 1\n",
    "favorite_returns[\"Bin_min\"] = bins\n",
    "favorite_returns\n",
    "plt.plot(favorite_returns.iloc[: ,2], favorite_returns.iloc[:, 1], color = \"r\")\n",
    "plt.axhline(y = 0, xmin = 0, xmax = 1, color = \"b\")\n",
    "plt.title(\"Profitability of certain range of odds\")\n",
    "plt.xlabel(\"Odds of the underdog team\")\n",
    "plt.ylabel(\"Average return\")\n",
    "plt.show()"
   ]
  },
  {
   "cell_type": "markdown",
   "metadata": {},
   "source": [
    "### Problem\n",
    "There are way too few observations in each bin for the curve to be smooth. How can we still estimate the expected return of a bet, based on only the odds?"
   ]
  },
  {
   "cell_type": "markdown",
   "metadata": {},
   "source": [
    "# **Kernel regression to estimate expected return on a given odds**"
   ]
  },
  {
   "cell_type": "markdown",
   "metadata": {},
   "source": [
    "Kernel regression is a tool of nonparametric statistics. It estimates E(Y) = f(X) based on the y-values of observations near the certain X-point. In some sense, it is similar to KNN.\n",
    "\n",
    "Here I define a function for the Nadaraya-Watson kernel regression with a Gaussian kernel."
   ]
  },
  {
   "cell_type": "code",
   "execution_count": 141,
   "metadata": {},
   "outputs": [],
   "source": [
    "h = 0.15 #bandwidth for the Gauss-kernel\n",
    "def kernel_reg(odds_x ,odds_column, success_column):\n",
    "    distance = abs(1/odds_column - 1/odds_x)\n",
    "    mult = np.exp(- (distance / h) ** 2)\n",
    "    ret = mult * odds_column * success_column\n",
    "    return sum(ret)/sum(mult) - 1"
   ]
  },
  {
   "cell_type": "code",
   "execution_count": 142,
   "metadata": {},
   "outputs": [],
   "source": [
    "table = pd.DataFrame()\n",
    "table[\"Odds\"] = pd.concat([data[\"OddsFav\"], data[\"OddsLongshot\"]])\n",
    "table[\"Success\"] = pd.concat([data[\"IsSuccessFav\"], data[\"IsSuccessLS\"]])\n",
    "odds = np.arange(1.01, 30, 0.01)\n",
    "exp_return = []\n",
    "for odd in odds:\n",
    "        exp_return.append(kernel_reg(odd, table[\"Odds\"], table[\"Success\"]))\n",
    "return_on_odds = pd.DataFrame()\n",
    "return_on_odds[\"Odds\"] = odds\n",
    "return_on_odds[\"ExpectedReturn\"] = exp_return"
   ]
  },
  {
   "cell_type": "markdown",
   "metadata": {},
   "source": [
    "## The favorite longshot bias with smoothed curve"
   ]
  },
  {
   "cell_type": "code",
   "execution_count": 143,
   "metadata": {
    "scrolled": false
   },
   "outputs": [
    {
     "data": {
      "image/png": "[encoded data removed]",
      "text/plain": [
       "<Figure size 1080x360 with 1 Axes>"
      ]
     },
     "metadata": {
      "needs_background": "light"
     },
     "output_type": "display_data"
    }
   ],
   "source": [
    "plt.subplots(figsize=(15,5))\n",
    "plt.plot(odds, exp_return, color = \"r\")\n",
    "plt.xlim(1, 5)\n",
    "plt.axhline(y = 0, xmin = 0, xmax = 1, color = \"b\")\n",
    "plt.title(\"Expected return percentage on bets with certain odds\")\n",
    "plt.xlabel(\"Odds\")\n",
    "plt.ylabel(\"Estimate of expected return\")\n",
    "plt.show()"
   ]
  },
  {
   "cell_type": "code",
   "execution_count": 144,
   "metadata": {
    "scrolled": false
   },
   "outputs": [
    {
     "data": {
      "image/png": "[encoded data removed]",
      "text/plain": [
       "<Figure size 1080x360 with 1 Axes>"
      ]
     },
     "metadata": {
      "needs_background": "light"
     },
     "output_type": "display_data"
    }
   ],
   "source": [
    "plt.subplots(figsize=(15,5))\n",
    "plt.plot(odds, exp_return, color = \"r\")\n",
    "plt.xlim(1, 25)\n",
    "plt.axhline(y = 0, xmin = 0, xmax = 1, color = \"y\")\n",
    "plt.title(\"Expected return percentage on bets with certain odds\")\n",
    "plt.xlabel(\"Odds\")\n",
    "plt.ylabel(\"Estimate of expected return\")\n",
    "plt.show()"
   ]
  },
  {
   "cell_type": "code",
   "execution_count": 145,
   "metadata": {},
   "outputs": [
    {
     "data": {
      "image/png": "[encoded data removed]",
      "text/plain": [
       "<Figure size 1080x360 with 1 Axes>"
      ]
     },
     "metadata": {
      "needs_background": "light"
     },
     "output_type": "display_data"
    }
   ],
   "source": [
    "draw_odds = np.arange(2.8, 12, 0.01)\n",
    "draw_exp_return = []\n",
    "for odd in draw_odds:\n",
    "        draw_exp_return.append(kernel_reg(odd, data[\"DrawOdds\"], data[\"IsSuccessDraw\"]))\n",
    "return_on_draw = pd.DataFrame()\n",
    "return_on_draw[\"Odds\"] = draw_odds\n",
    "return_on_draw[\"ExpectedReturn\"] = draw_exp_return\n",
    "plt.subplots(figsize=(15,5))\n",
    "plt.plot(draw_odds, draw_exp_return, color = \"r\")\n",
    "plt.xlim(3, 12)\n",
    "plt.axhline(y = 0, xmin = 0, xmax = 1, color = \"y\")\n",
    "plt.title(\"Expected return percentage on draws with certain odds\")\n",
    "plt.xlabel(\"Odds\")\n",
    "plt.ylabel(\"Estimate of expected return\")\n",
    "plt.show()"
   ]
  },
  {
   "cell_type": "markdown",
   "metadata": {},
   "source": [
    "## Part 3: Building a simple betting model and testing it"
   ]
  },
  {
   "cell_type": "markdown",
   "metadata": {},
   "source": [
    "Plus columns with points awarded"
   ]
  },
  {
   "cell_type": "code",
   "execution_count": 146,
   "metadata": {},
   "outputs": [],
   "source": [
    "data['HomePoints'] = (data['Result'] == 'H') * 3 + (data['Result'] == 'D')\n",
    "data['AwayPoints'] = (data['Result'] == 'A') * 3 + (data['Result'] == 'D')"
   ]
  },
  {
   "cell_type": "code",
   "execution_count": 147,
   "metadata": {},
   "outputs": [],
   "source": [
    "format_str = '%d/%m/%y' # The format\n",
    "date = []\n",
    "date = [datetime.datetime.strptime(str(c), format_str) for c in data['Date']]\n",
    "data['Date'] = date"
   ]
  },
  {
   "cell_type": "code",
   "execution_count": 148,
   "metadata": {},
   "outputs": [],
   "source": [
    "season = [data.iloc[i, 0].year + (data.iloc[i, 0].month > 6) for i in range(sample_size)]\n",
    "data['Season'] = season"
   ]
  },
  {
   "cell_type": "code",
   "execution_count": 117,
   "metadata": {},
   "outputs": [
    {
     "data": {
      "text/html": [
       "<div>\n",
       "<style scoped>\n",
       "    .dataframe tbody tr th:only-of-type {\n",
       "        vertical-align: middle;\n",
       "    }\n",
       "\n",
       "    .dataframe tbody tr th {\n",
       "        vertical-align: top;\n",
       "    }\n",
       "\n",
       "    .dataframe thead th {\n",
       "        text-align: right;\n",
       "    }\n",
       "</style>\n",
       "<table border=\"1\" class=\"dataframe\">\n",
       "  <thead>\n",
       "    <tr style=\"text-align: right;\">\n",
       "      <th></th>\n",
       "      <th>Date</th>\n",
       "      <th>HomeTeam</th>\n",
       "      <th>AwayTeam</th>\n",
       "      <th>FTHG</th>\n",
       "      <th>FTAG</th>\n",
       "      <th>Result</th>\n",
       "      <th>HomeOdds</th>\n",
       "      <th>DrawOdds</th>\n",
       "      <th>AwayOdds</th>\n",
       "      <th>odds_check</th>\n",
       "      <th>OddsFav</th>\n",
       "      <th>PosFav</th>\n",
       "      <th>OddsLongshot</th>\n",
       "      <th>IsSuccessFav</th>\n",
       "      <th>IsSuccessDraw</th>\n",
       "      <th>IsSuccessLS</th>\n",
       "      <th>HomePoints</th>\n",
       "      <th>AwayPoints</th>\n",
       "      <th>Season</th>\n",
       "    </tr>\n",
       "  </thead>\n",
       "  <tbody>\n",
       "    <tr>\n",
       "      <th>0</th>\n",
       "      <td>2017-08-11</td>\n",
       "      <td>Arsenal</td>\n",
       "      <td>Leicester</td>\n",
       "      <td>4.0</td>\n",
       "      <td>3.0</td>\n",
       "      <td>H</td>\n",
       "      <td>1.51</td>\n",
       "      <td>4.43</td>\n",
       "      <td>6.44</td>\n",
       "      <td>1.043265</td>\n",
       "      <td>1.51</td>\n",
       "      <td>True</td>\n",
       "      <td>6.44</td>\n",
       "      <td>1</td>\n",
       "      <td>False</td>\n",
       "      <td>0</td>\n",
       "      <td>3</td>\n",
       "      <td>0</td>\n",
       "      <td>2018</td>\n",
       "    </tr>\n",
       "    <tr>\n",
       "      <th>1</th>\n",
       "      <td>2017-08-12</td>\n",
       "      <td>Brighton</td>\n",
       "      <td>Man City</td>\n",
       "      <td>0.0</td>\n",
       "      <td>2.0</td>\n",
       "      <td>A</td>\n",
       "      <td>10.10</td>\n",
       "      <td>5.25</td>\n",
       "      <td>1.32</td>\n",
       "      <td>1.047062</td>\n",
       "      <td>1.32</td>\n",
       "      <td>False</td>\n",
       "      <td>10.10</td>\n",
       "      <td>1</td>\n",
       "      <td>False</td>\n",
       "      <td>0</td>\n",
       "      <td>0</td>\n",
       "      <td>3</td>\n",
       "      <td>2018</td>\n",
       "    </tr>\n",
       "    <tr>\n",
       "      <th>2</th>\n",
       "      <td>2017-08-12</td>\n",
       "      <td>Chelsea</td>\n",
       "      <td>Burnley</td>\n",
       "      <td>2.0</td>\n",
       "      <td>3.0</td>\n",
       "      <td>A</td>\n",
       "      <td>1.24</td>\n",
       "      <td>6.06</td>\n",
       "      <td>13.67</td>\n",
       "      <td>1.044621</td>\n",
       "      <td>1.24</td>\n",
       "      <td>True</td>\n",
       "      <td>13.67</td>\n",
       "      <td>0</td>\n",
       "      <td>False</td>\n",
       "      <td>1</td>\n",
       "      <td>0</td>\n",
       "      <td>3</td>\n",
       "      <td>2018</td>\n",
       "    </tr>\n",
       "    <tr>\n",
       "      <th>3</th>\n",
       "      <td>2017-08-12</td>\n",
       "      <td>Crystal Palace</td>\n",
       "      <td>Huddersfield</td>\n",
       "      <td>0.0</td>\n",
       "      <td>3.0</td>\n",
       "      <td>A</td>\n",
       "      <td>1.81</td>\n",
       "      <td>3.50</td>\n",
       "      <td>4.82</td>\n",
       "      <td>1.045669</td>\n",
       "      <td>1.81</td>\n",
       "      <td>True</td>\n",
       "      <td>4.82</td>\n",
       "      <td>0</td>\n",
       "      <td>False</td>\n",
       "      <td>1</td>\n",
       "      <td>0</td>\n",
       "      <td>3</td>\n",
       "      <td>2018</td>\n",
       "    </tr>\n",
       "    <tr>\n",
       "      <th>4</th>\n",
       "      <td>2017-08-12</td>\n",
       "      <td>Everton</td>\n",
       "      <td>Stoke</td>\n",
       "      <td>1.0</td>\n",
       "      <td>0.0</td>\n",
       "      <td>H</td>\n",
       "      <td>1.69</td>\n",
       "      <td>3.69</td>\n",
       "      <td>5.50</td>\n",
       "      <td>1.044537</td>\n",
       "      <td>1.69</td>\n",
       "      <td>True</td>\n",
       "      <td>5.50</td>\n",
       "      <td>1</td>\n",
       "      <td>False</td>\n",
       "      <td>0</td>\n",
       "      <td>3</td>\n",
       "      <td>0</td>\n",
       "      <td>2018</td>\n",
       "    </tr>\n",
       "  </tbody>\n",
       "</table>\n",
       "</div>"
      ],
      "text/plain": [
       "        Date        HomeTeam      AwayTeam  FTHG  FTAG Result  HomeOdds  \\\n",
       "0 2017-08-11         Arsenal     Leicester   4.0   3.0      H      1.51   \n",
       "1 2017-08-12        Brighton      Man City   0.0   2.0      A     10.10   \n",
       "2 2017-08-12         Chelsea       Burnley   2.0   3.0      A      1.24   \n",
       "3 2017-08-12  Crystal Palace  Huddersfield   0.0   3.0      A      1.81   \n",
       "4 2017-08-12         Everton         Stoke   1.0   0.0      H      1.69   \n",
       "\n",
       "   DrawOdds  AwayOdds  odds_check  OddsFav  PosFav  OddsLongshot  \\\n",
       "0      4.43      6.44    1.043265     1.51    True          6.44   \n",
       "1      5.25      1.32    1.047062     1.32   False         10.10   \n",
       "2      6.06     13.67    1.044621     1.24    True         13.67   \n",
       "3      3.50      4.82    1.045669     1.81    True          4.82   \n",
       "4      3.69      5.50    1.044537     1.69    True          5.50   \n",
       "\n",
       "   IsSuccessFav  IsSuccessDraw  IsSuccessLS  HomePoints  AwayPoints  Season  \n",
       "0             1          False            0           3           0    2018  \n",
       "1             1          False            0           0           3    2018  \n",
       "2             0          False            1           0           3    2018  \n",
       "3             0          False            1           0           3    2018  \n",
       "4             1          False            0           3           0    2018  "
      ]
     },
     "execution_count": 117,
     "metadata": {},
     "output_type": "execute_result"
    }
   ],
   "source": [
    "data.head(5)"
   ]
  },
  {
   "cell_type": "markdown",
   "metadata": {},
   "source": [
    "# Getting information of the already played games"
   ]
  },
  {
   "cell_type": "markdown",
   "metadata": {},
   "source": [
    "Just some data formatting: getting the number of points of a team before each round, etc."
   ]
  },
  {
   "cell_type": "code",
   "execution_count": 151,
   "metadata": {},
   "outputs": [],
   "source": [
    "def game_no(row, home = True):\n",
    "    s = row['Season']\n",
    "    d = row['Date']\n",
    "    if home:\n",
    "        team = row['HomeTeam']\n",
    "    else:\n",
    "        team = row['AwayTeam']\n",
    "    table = data[data['Season'] == s]\n",
    "    prev_hg = table[(table['HomeTeam'] == team) & (table['Date'] < d)]\n",
    "    prev_ag = table[(table['AwayTeam'] == team) & (table['Date'] < d)]\n",
    "    #pts_season = sum(home_games['HomePoints']) + sum(away_games['AwayPoints'])\n",
    "    pts_before = sum(prev_hg['HomePoints']) + sum(prev_ag['AwayPoints'])\n",
    "    games_before = prev_hg.shape[0] + prev_ag.shape[0]\n",
    "    return [pts_before, games_before]"
   ]
  },
  {
   "cell_type": "code",
   "execution_count": 152,
   "metadata": {},
   "outputs": [],
   "source": [
    "def total_pts(row, home = True):\n",
    "    s = row['Season']\n",
    "    d = row['Date']\n",
    "    if home:\n",
    "        team = row['HomeTeam']\n",
    "    else:\n",
    "        team = row['AwayTeam']\n",
    "    table = data[data['Season'] == s]\n",
    "    hg = table[(table['HomeTeam'] == team)]\n",
    "    ag = table[(table['AwayTeam'] == team)]\n",
    "    pts_season = sum(hg['HomePoints']) + sum(ag['AwayPoints'])\n",
    "    return pts_season"
   ]
  },
  {
   "cell_type": "code",
   "execution_count": 153,
   "metadata": {},
   "outputs": [],
   "source": [
    "home_games_before = [game_no(data.iloc[i, :], home = True) for i in range(sample_size)]\n",
    "away_games_before = [game_no(data.iloc[i, :], home = False) for i in range(sample_size)]"
   ]
  },
  {
   "cell_type": "code",
   "execution_count": 154,
   "metadata": {},
   "outputs": [],
   "source": [
    "data['HomePB'] = [c[0] for c in home_games_before]\n",
    "data['HomeGB'] = [c[1] for c in home_games_before]\n",
    "data['AwayPB'] = [c[0] for c in away_games_before]\n",
    "data['AwayGB'] = [c[1] for c in away_games_before]"
   ]
  },
  {
   "cell_type": "code",
   "execution_count": 155,
   "metadata": {},
   "outputs": [],
   "source": [
    "data['HomeTP'] = [total_pts(data.iloc[i, :], home = True) for i in range(sample_size)]\n",
    "data['AwayTP'] = [total_pts(data.iloc[i, :], home = False) for i in range(sample_size)]"
   ]
  },
  {
   "cell_type": "code",
   "execution_count": 157,
   "metadata": {},
   "outputs": [
    {
     "data": {
      "text/html": [
       "<div>\n",
       "<style scoped>\n",
       "    .dataframe tbody tr th:only-of-type {\n",
       "        vertical-align: middle;\n",
       "    }\n",
       "\n",
       "    .dataframe tbody tr th {\n",
       "        vertical-align: top;\n",
       "    }\n",
       "\n",
       "    .dataframe thead th {\n",
       "        text-align: right;\n",
       "    }\n",
       "</style>\n",
       "<table border=\"1\" class=\"dataframe\">\n",
       "  <thead>\n",
       "    <tr style=\"text-align: right;\">\n",
       "      <th></th>\n",
       "      <th>Date</th>\n",
       "      <th>HomeTeam</th>\n",
       "      <th>AwayTeam</th>\n",
       "      <th>FTHG</th>\n",
       "      <th>FTAG</th>\n",
       "      <th>Result</th>\n",
       "      <th>HomeOdds</th>\n",
       "      <th>DrawOdds</th>\n",
       "      <th>AwayOdds</th>\n",
       "      <th>odds_check</th>\n",
       "      <th>...</th>\n",
       "      <th>IsSuccessLS</th>\n",
       "      <th>HomePoints</th>\n",
       "      <th>AwayPoints</th>\n",
       "      <th>Season</th>\n",
       "      <th>HomePB</th>\n",
       "      <th>HomeGB</th>\n",
       "      <th>AwayPB</th>\n",
       "      <th>AwayGB</th>\n",
       "      <th>HomeTP</th>\n",
       "      <th>AwayTP</th>\n",
       "    </tr>\n",
       "  </thead>\n",
       "  <tbody>\n",
       "    <tr>\n",
       "      <th>0</th>\n",
       "      <td>2017-08-11</td>\n",
       "      <td>Arsenal</td>\n",
       "      <td>Leicester</td>\n",
       "      <td>4.0</td>\n",
       "      <td>3.0</td>\n",
       "      <td>H</td>\n",
       "      <td>1.51</td>\n",
       "      <td>4.43</td>\n",
       "      <td>6.44</td>\n",
       "      <td>1.043265</td>\n",
       "      <td>...</td>\n",
       "      <td>0</td>\n",
       "      <td>3</td>\n",
       "      <td>0</td>\n",
       "      <td>2018</td>\n",
       "      <td>0</td>\n",
       "      <td>0</td>\n",
       "      <td>0</td>\n",
       "      <td>0</td>\n",
       "      <td>63</td>\n",
       "      <td>47</td>\n",
       "    </tr>\n",
       "    <tr>\n",
       "      <th>1</th>\n",
       "      <td>2017-08-12</td>\n",
       "      <td>Brighton</td>\n",
       "      <td>Man City</td>\n",
       "      <td>0.0</td>\n",
       "      <td>2.0</td>\n",
       "      <td>A</td>\n",
       "      <td>10.10</td>\n",
       "      <td>5.25</td>\n",
       "      <td>1.32</td>\n",
       "      <td>1.047062</td>\n",
       "      <td>...</td>\n",
       "      <td>0</td>\n",
       "      <td>0</td>\n",
       "      <td>3</td>\n",
       "      <td>2018</td>\n",
       "      <td>0</td>\n",
       "      <td>0</td>\n",
       "      <td>0</td>\n",
       "      <td>0</td>\n",
       "      <td>40</td>\n",
       "      <td>100</td>\n",
       "    </tr>\n",
       "    <tr>\n",
       "      <th>2</th>\n",
       "      <td>2017-08-12</td>\n",
       "      <td>Chelsea</td>\n",
       "      <td>Burnley</td>\n",
       "      <td>2.0</td>\n",
       "      <td>3.0</td>\n",
       "      <td>A</td>\n",
       "      <td>1.24</td>\n",
       "      <td>6.06</td>\n",
       "      <td>13.67</td>\n",
       "      <td>1.044621</td>\n",
       "      <td>...</td>\n",
       "      <td>1</td>\n",
       "      <td>0</td>\n",
       "      <td>3</td>\n",
       "      <td>2018</td>\n",
       "      <td>0</td>\n",
       "      <td>0</td>\n",
       "      <td>0</td>\n",
       "      <td>0</td>\n",
       "      <td>70</td>\n",
       "      <td>54</td>\n",
       "    </tr>\n",
       "    <tr>\n",
       "      <th>3</th>\n",
       "      <td>2017-08-12</td>\n",
       "      <td>Crystal Palace</td>\n",
       "      <td>Huddersfield</td>\n",
       "      <td>0.0</td>\n",
       "      <td>3.0</td>\n",
       "      <td>A</td>\n",
       "      <td>1.81</td>\n",
       "      <td>3.50</td>\n",
       "      <td>4.82</td>\n",
       "      <td>1.045669</td>\n",
       "      <td>...</td>\n",
       "      <td>1</td>\n",
       "      <td>0</td>\n",
       "      <td>3</td>\n",
       "      <td>2018</td>\n",
       "      <td>0</td>\n",
       "      <td>0</td>\n",
       "      <td>0</td>\n",
       "      <td>0</td>\n",
       "      <td>44</td>\n",
       "      <td>37</td>\n",
       "    </tr>\n",
       "    <tr>\n",
       "      <th>4</th>\n",
       "      <td>2017-08-12</td>\n",
       "      <td>Everton</td>\n",
       "      <td>Stoke</td>\n",
       "      <td>1.0</td>\n",
       "      <td>0.0</td>\n",
       "      <td>H</td>\n",
       "      <td>1.69</td>\n",
       "      <td>3.69</td>\n",
       "      <td>5.50</td>\n",
       "      <td>1.044537</td>\n",
       "      <td>...</td>\n",
       "      <td>0</td>\n",
       "      <td>3</td>\n",
       "      <td>0</td>\n",
       "      <td>2018</td>\n",
       "      <td>0</td>\n",
       "      <td>0</td>\n",
       "      <td>0</td>\n",
       "      <td>0</td>\n",
       "      <td>49</td>\n",
       "      <td>33</td>\n",
       "    </tr>\n",
       "  </tbody>\n",
       "</table>\n",
       "<p>5 rows × 25 columns</p>\n",
       "</div>"
      ],
      "text/plain": [
       "        Date        HomeTeam      AwayTeam  FTHG  FTAG Result  HomeOdds  \\\n",
       "0 2017-08-11         Arsenal     Leicester   4.0   3.0      H      1.51   \n",
       "1 2017-08-12        Brighton      Man City   0.0   2.0      A     10.10   \n",
       "2 2017-08-12         Chelsea       Burnley   2.0   3.0      A      1.24   \n",
       "3 2017-08-12  Crystal Palace  Huddersfield   0.0   3.0      A      1.81   \n",
       "4 2017-08-12         Everton         Stoke   1.0   0.0      H      1.69   \n",
       "\n",
       "   DrawOdds  AwayOdds  odds_check   ...    IsSuccessLS  HomePoints  \\\n",
       "0      4.43      6.44    1.043265   ...              0           3   \n",
       "1      5.25      1.32    1.047062   ...              0           0   \n",
       "2      6.06     13.67    1.044621   ...              1           0   \n",
       "3      3.50      4.82    1.045669   ...              1           0   \n",
       "4      3.69      5.50    1.044537   ...              0           3   \n",
       "\n",
       "   AwayPoints  Season  HomePB  HomeGB  AwayPB  AwayGB  HomeTP  AwayTP  \n",
       "0           0    2018       0       0       0       0      63      47  \n",
       "1           3    2018       0       0       0       0      40     100  \n",
       "2           3    2018       0       0       0       0      70      54  \n",
       "3           3    2018       0       0       0       0      44      37  \n",
       "4           0    2018       0       0       0       0      49      33  \n",
       "\n",
       "[5 rows x 25 columns]"
      ]
     },
     "execution_count": 157,
     "metadata": {},
     "output_type": "execute_result"
    }
   ],
   "source": [
    "data.head()"
   ]
  },
  {
   "cell_type": "code",
   "execution_count": 314,
   "metadata": {
    "scrolled": true
   },
   "outputs": [
    {
     "name": "stdout",
     "output_type": "stream",
     "text": [
      "(3420, 25) (1520, 25)\n"
     ]
    }
   ],
   "source": [
    "train = data[data['Season'] < 2015]\n",
    "test = data[data['Season'] >= 2015]\n",
    "print(train.shape, test.shape)"
   ]
  },
  {
   "cell_type": "markdown",
   "metadata": {},
   "source": [
    "# Estimating total season points after n rounds"
   ]
  },
  {
   "cell_type": "code",
   "execution_count": 162,
   "metadata": {},
   "outputs": [
    {
     "data": {
      "text/html": [
       "<div>\n",
       "<style scoped>\n",
       "    .dataframe tbody tr th:only-of-type {\n",
       "        vertical-align: middle;\n",
       "    }\n",
       "\n",
       "    .dataframe tbody tr th {\n",
       "        vertical-align: top;\n",
       "    }\n",
       "\n",
       "    .dataframe thead th {\n",
       "        text-align: right;\n",
       "    }\n",
       "</style>\n",
       "<table border=\"1\" class=\"dataframe\">\n",
       "  <thead>\n",
       "    <tr style=\"text-align: right;\">\n",
       "      <th></th>\n",
       "      <th>PointsBefore</th>\n",
       "      <th>Games</th>\n",
       "      <th>PointsTotal</th>\n",
       "    </tr>\n",
       "  </thead>\n",
       "  <tbody>\n",
       "    <tr>\n",
       "      <th>100</th>\n",
       "      <td>12</td>\n",
       "      <td>10</td>\n",
       "      <td>37</td>\n",
       "    </tr>\n",
       "    <tr>\n",
       "      <th>101</th>\n",
       "      <td>14</td>\n",
       "      <td>10</td>\n",
       "      <td>44</td>\n",
       "    </tr>\n",
       "    <tr>\n",
       "      <th>102</th>\n",
       "      <td>13</td>\n",
       "      <td>10</td>\n",
       "      <td>36</td>\n",
       "    </tr>\n",
       "    <tr>\n",
       "      <th>103</th>\n",
       "      <td>11</td>\n",
       "      <td>10</td>\n",
       "      <td>33</td>\n",
       "    </tr>\n",
       "    <tr>\n",
       "      <th>104</th>\n",
       "      <td>8</td>\n",
       "      <td>10</td>\n",
       "      <td>33</td>\n",
       "    </tr>\n",
       "    <tr>\n",
       "      <th>105</th>\n",
       "      <td>9</td>\n",
       "      <td>10</td>\n",
       "      <td>42</td>\n",
       "    </tr>\n",
       "    <tr>\n",
       "      <th>106</th>\n",
       "      <td>19</td>\n",
       "      <td>10</td>\n",
       "      <td>70</td>\n",
       "    </tr>\n",
       "    <tr>\n",
       "      <th>107</th>\n",
       "      <td>8</td>\n",
       "      <td>10</td>\n",
       "      <td>49</td>\n",
       "    </tr>\n",
       "    <tr>\n",
       "      <th>108</th>\n",
       "      <td>28</td>\n",
       "      <td>10</td>\n",
       "      <td>100</td>\n",
       "    </tr>\n",
       "    <tr>\n",
       "      <th>109</th>\n",
       "      <td>20</td>\n",
       "      <td>10</td>\n",
       "      <td>77</td>\n",
       "    </tr>\n",
       "  </tbody>\n",
       "</table>\n",
       "</div>"
      ],
      "text/plain": [
       "     PointsBefore  Games  PointsTotal\n",
       "100            12     10           37\n",
       "101            14     10           44\n",
       "102            13     10           36\n",
       "103            11     10           33\n",
       "104             8     10           33\n",
       "105             9     10           42\n",
       "106            19     10           70\n",
       "107             8     10           49\n",
       "108            28     10          100\n",
       "109            20     10           77"
      ]
     },
     "execution_count": 162,
     "metadata": {},
     "output_type": "execute_result"
    }
   ],
   "source": [
    "needed_cols = ['HomePB', 'HomeGB', 'HomeTP', 'AwayPB', 'AwayGB', 'AwayTP']\n",
    "table1 = data[needed_cols[:3]]\n",
    "table2 = data[needed_cols[3:]]\n",
    "table1 = table1.rename(columns={\"HomePB\": \"PointsBefore\", \"HomeGB\": \"Games\", \"HomeTP\": \"PointsTotal\"})\n",
    "table2 = table2.rename(columns={\"AwayPB\": \"PointsBefore\", \"AwayGB\": \"Games\", \"AwayTP\": \"PointsTotal\"})\n",
    "table = pd.concat([table1, table2])\n",
    "table[100:110]"
   ]
  },
  {
   "cell_type": "markdown",
   "metadata": {},
   "source": [
    "In this part, a simple logistic regression is used in order to answer the following question:\n",
    "\n",
    "### If a team has x many points after n rounds, how many points is it going to have at the end of the season?"
   ]
  },
  {
   "cell_type": "code",
   "execution_count": 164,
   "metadata": {},
   "outputs": [
    {
     "data": {
      "image/png": "[encoded data removed]",
      "text/plain": [
       "<Figure size 1080x360 with 1 Axes>"
      ]
     },
     "metadata": {
      "needs_background": "light"
     },
     "output_type": "display_data"
    }
   ],
   "source": [
    "s = table[table[\"Games\"] == 15]\n",
    "plt.subplots(figsize = (15, 5))\n",
    "plt.scatter(s['PointsBefore'], s['PointsTotal'])\n",
    "plt.title(\"Example: Points after Round 15 vs. points at the end of season\")\n",
    "plt.xlabel(\"After Round 15\")\n",
    "plt.ylabel(\"At the end of the season\")\n",
    "plt.show()"
   ]
  },
  {
   "cell_type": "markdown",
   "metadata": {},
   "source": [
    "# Linear regression for estimation"
   ]
  },
  {
   "cell_type": "code",
   "execution_count": 165,
   "metadata": {},
   "outputs": [],
   "source": [
    "from sklearn import linear_model\n",
    "from sklearn.model_selection import train_test_split\n",
    "import statsmodels.regression.linear_model as sm"
   ]
  },
  {
   "cell_type": "code",
   "execution_count": 168,
   "metadata": {},
   "outputs": [
    {
     "data": {
      "text/plain": [
       "(2.1236493945512454, 11.469190466112616)"
      ]
     },
     "execution_count": 168,
     "metadata": {},
     "output_type": "execute_result"
    }
   ],
   "source": [
    "reg_dict = dict()\n",
    "for i in range(10, 38):\n",
    "    s = table[table[\"Games\"] == i]\n",
    "    X = pd.DataFrame()\n",
    "    X['Points_before'] = s['PointsBefore']\n",
    "    X['Constant'] = 1\n",
    "    y = s['PointsTotal']\n",
    "    model = sm.OLS(y, X).fit()\n",
    "    col1 = 'Mult_' + str(i)\n",
    "    col2 = 'Const_' + str(i)\n",
    "    reg_dict[col1] = model.params[0]\n",
    "    reg_dict[col2] = model.params[1]\n",
    "reg_dict['Mult_14'], reg_dict['Const_14']"
   ]
  },
  {
   "cell_type": "code",
   "execution_count": 169,
   "metadata": {},
   "outputs": [],
   "source": [
    "def mult(a):\n",
    "    return reg_dict['Mult_' + str(a)] if int(a) >= 10 else 0\n",
    "def const(a):\n",
    "    return reg_dict['Const_' + str(a)] if int(a) >= 10 else 0"
   ]
  },
  {
   "cell_type": "code",
   "execution_count": 170,
   "metadata": {},
   "outputs": [],
   "source": [
    "def exp_pts(row, home = True):\n",
    "    a = row[\"HomePB\"] * mult(row[\"HomeGB\"]) + const(row[\"HomeGB\"])\n",
    "    return a if home else row[\"AwayPB\"] * mult(row[\"AwayGB\"]) + const(row[\"AwayGB\"])"
   ]
  },
  {
   "cell_type": "code",
   "execution_count": 171,
   "metadata": {},
   "outputs": [],
   "source": [
    "data[\"HomeExp\"] = [exp_pts(data.iloc[i, : ]) for i in range(sample_size)]\n",
    "data[\"AwayExp\"] = [exp_pts(data.iloc[i, : ], home = False) for i in range(sample_size)]"
   ]
  },
  {
   "cell_type": "code",
   "execution_count": 172,
   "metadata": {
    "scrolled": true
   },
   "outputs": [
    {
     "data": {
      "text/html": [
       "<div>\n",
       "<style scoped>\n",
       "    .dataframe tbody tr th:only-of-type {\n",
       "        vertical-align: middle;\n",
       "    }\n",
       "\n",
       "    .dataframe tbody tr th {\n",
       "        vertical-align: top;\n",
       "    }\n",
       "\n",
       "    .dataframe thead th {\n",
       "        text-align: right;\n",
       "    }\n",
       "</style>\n",
       "<table border=\"1\" class=\"dataframe\">\n",
       "  <thead>\n",
       "    <tr style=\"text-align: right;\">\n",
       "      <th></th>\n",
       "      <th>Date</th>\n",
       "      <th>HomeTeam</th>\n",
       "      <th>AwayTeam</th>\n",
       "      <th>FTHG</th>\n",
       "      <th>FTAG</th>\n",
       "      <th>Result</th>\n",
       "      <th>HomeOdds</th>\n",
       "      <th>DrawOdds</th>\n",
       "      <th>AwayOdds</th>\n",
       "      <th>odds_check</th>\n",
       "      <th>...</th>\n",
       "      <th>AwayPoints</th>\n",
       "      <th>Season</th>\n",
       "      <th>HomePB</th>\n",
       "      <th>HomeGB</th>\n",
       "      <th>AwayPB</th>\n",
       "      <th>AwayGB</th>\n",
       "      <th>HomeTP</th>\n",
       "      <th>AwayTP</th>\n",
       "      <th>HomeExp</th>\n",
       "      <th>AwayExp</th>\n",
       "    </tr>\n",
       "  </thead>\n",
       "  <tbody>\n",
       "    <tr>\n",
       "      <th>375</th>\n",
       "      <td>2006-05-07</td>\n",
       "      <td>Fulham</td>\n",
       "      <td>Middlesbrough</td>\n",
       "      <td>1.0</td>\n",
       "      <td>0.0</td>\n",
       "      <td>H</td>\n",
       "      <td>1.65</td>\n",
       "      <td>3.43</td>\n",
       "      <td>5.01</td>\n",
       "      <td>1.097207</td>\n",
       "      <td>...</td>\n",
       "      <td>0</td>\n",
       "      <td>2006</td>\n",
       "      <td>45</td>\n",
       "      <td>37</td>\n",
       "      <td>45</td>\n",
       "      <td>37</td>\n",
       "      <td>48</td>\n",
       "      <td>45</td>\n",
       "      <td>46.228618</td>\n",
       "      <td>46.228618</td>\n",
       "    </tr>\n",
       "    <tr>\n",
       "      <th>376</th>\n",
       "      <td>2006-05-07</td>\n",
       "      <td>Man United</td>\n",
       "      <td>Charlton</td>\n",
       "      <td>4.0</td>\n",
       "      <td>0.0</td>\n",
       "      <td>H</td>\n",
       "      <td>1.20</td>\n",
       "      <td>5.56</td>\n",
       "      <td>12.26</td>\n",
       "      <td>1.094756</td>\n",
       "      <td>...</td>\n",
       "      <td>0</td>\n",
       "      <td>2006</td>\n",
       "      <td>80</td>\n",
       "      <td>37</td>\n",
       "      <td>47</td>\n",
       "      <td>37</td>\n",
       "      <td>83</td>\n",
       "      <td>47</td>\n",
       "      <td>82.258041</td>\n",
       "      <td>48.287442</td>\n",
       "    </tr>\n",
       "    <tr>\n",
       "      <th>377</th>\n",
       "      <td>2006-05-07</td>\n",
       "      <td>Newcastle</td>\n",
       "      <td>Chelsea</td>\n",
       "      <td>1.0</td>\n",
       "      <td>0.0</td>\n",
       "      <td>H</td>\n",
       "      <td>2.82</td>\n",
       "      <td>3.18</td>\n",
       "      <td>2.33</td>\n",
       "      <td>1.098260</td>\n",
       "      <td>...</td>\n",
       "      <td>0</td>\n",
       "      <td>2006</td>\n",
       "      <td>55</td>\n",
       "      <td>37</td>\n",
       "      <td>91</td>\n",
       "      <td>37</td>\n",
       "      <td>58</td>\n",
       "      <td>91</td>\n",
       "      <td>56.522739</td>\n",
       "      <td>93.581574</td>\n",
       "    </tr>\n",
       "    <tr>\n",
       "      <th>378</th>\n",
       "      <td>2006-05-07</td>\n",
       "      <td>Portsmouth</td>\n",
       "      <td>Liverpool</td>\n",
       "      <td>1.0</td>\n",
       "      <td>3.0</td>\n",
       "      <td>A</td>\n",
       "      <td>5.11</td>\n",
       "      <td>3.62</td>\n",
       "      <td>1.59</td>\n",
       "      <td>1.100869</td>\n",
       "      <td>...</td>\n",
       "      <td>3</td>\n",
       "      <td>2006</td>\n",
       "      <td>38</td>\n",
       "      <td>37</td>\n",
       "      <td>79</td>\n",
       "      <td>37</td>\n",
       "      <td>38</td>\n",
       "      <td>82</td>\n",
       "      <td>39.022733</td>\n",
       "      <td>81.228629</td>\n",
       "    </tr>\n",
       "    <tr>\n",
       "      <th>379</th>\n",
       "      <td>2006-05-07</td>\n",
       "      <td>West Ham</td>\n",
       "      <td>Tottenham</td>\n",
       "      <td>2.0</td>\n",
       "      <td>1.0</td>\n",
       "      <td>H</td>\n",
       "      <td>4.23</td>\n",
       "      <td>3.47</td>\n",
       "      <td>1.73</td>\n",
       "      <td>1.102626</td>\n",
       "      <td>...</td>\n",
       "      <td>0</td>\n",
       "      <td>2006</td>\n",
       "      <td>52</td>\n",
       "      <td>37</td>\n",
       "      <td>65</td>\n",
       "      <td>37</td>\n",
       "      <td>55</td>\n",
       "      <td>65</td>\n",
       "      <td>53.434503</td>\n",
       "      <td>66.816860</td>\n",
       "    </tr>\n",
       "  </tbody>\n",
       "</table>\n",
       "<p>5 rows × 27 columns</p>\n",
       "</div>"
      ],
      "text/plain": [
       "          Date    HomeTeam       AwayTeam  FTHG  FTAG Result  HomeOdds  \\\n",
       "375 2006-05-07      Fulham  Middlesbrough   1.0   0.0      H      1.65   \n",
       "376 2006-05-07  Man United       Charlton   4.0   0.0      H      1.20   \n",
       "377 2006-05-07   Newcastle        Chelsea   1.0   0.0      H      2.82   \n",
       "378 2006-05-07  Portsmouth      Liverpool   1.0   3.0      A      5.11   \n",
       "379 2006-05-07    West Ham      Tottenham   2.0   1.0      H      4.23   \n",
       "\n",
       "     DrawOdds  AwayOdds  odds_check    ...      AwayPoints  Season  HomePB  \\\n",
       "375      3.43      5.01    1.097207    ...               0    2006      45   \n",
       "376      5.56     12.26    1.094756    ...               0    2006      80   \n",
       "377      3.18      2.33    1.098260    ...               0    2006      55   \n",
       "378      3.62      1.59    1.100869    ...               3    2006      38   \n",
       "379      3.47      1.73    1.102626    ...               0    2006      52   \n",
       "\n",
       "     HomeGB  AwayPB  AwayGB  HomeTP  AwayTP    HomeExp    AwayExp  \n",
       "375      37      45      37      48      45  46.228618  46.228618  \n",
       "376      37      47      37      83      47  82.258041  48.287442  \n",
       "377      37      91      37      58      91  56.522739  93.581574  \n",
       "378      37      79      37      38      82  39.022733  81.228629  \n",
       "379      37      65      37      55      65  53.434503  66.816860  \n",
       "\n",
       "[5 rows x 27 columns]"
      ]
     },
     "execution_count": 172,
     "metadata": {},
     "output_type": "execute_result"
    }
   ],
   "source": [
    "data.tail()"
   ]
  },
  {
   "cell_type": "code",
   "execution_count": 173,
   "metadata": {},
   "outputs": [
    {
     "data": {
      "text/plain": [
       "((2239, 27), (989, 27))"
      ]
     },
     "execution_count": 173,
     "metadata": {},
     "output_type": "execute_result"
    }
   ],
   "source": [
    "data = data[(data[\"HomeGB\"] >= 10) & (data[\"HomeExp\"] >= 10) & (data[\"HomeGB\"] < 35) & (data[\"AwayGB\"] < 35)]\n",
    "train = data[data['Season'] < 2015]\n",
    "test = data[data['Season'] >= 2015]\n",
    "train.shape, test.shape"
   ]
  },
  {
   "cell_type": "code",
   "execution_count": 175,
   "metadata": {},
   "outputs": [],
   "source": [
    "needed_cols = ['Result', 'HomeOdds', 'DrawOdds', 'AwayOdds', 'HomeExp', 'AwayExp']\n",
    "train = train[needed_cols]\n",
    "test = test[needed_cols]"
   ]
  },
  {
   "cell_type": "code",
   "execution_count": 176,
   "metadata": {},
   "outputs": [
    {
     "name": "stderr",
     "output_type": "stream",
     "text": [
      "C:\\Users\\szmnk\\Anaconda3\\lib\\site-packages\\ipykernel_launcher.py:1: SettingWithCopyWarning: \n",
      "A value is trying to be set on a copy of a slice from a DataFrame.\n",
      "Try using .loc[row_indexer,col_indexer] = value instead\n",
      "\n",
      "See the caveats in the documentation: http://pandas.pydata.org/pandas-docs/stable/indexing.html#indexing-view-versus-copy\n",
      "  \"\"\"Entry point for launching an IPython kernel.\n"
     ]
    }
   ],
   "source": [
    "train['Result'] = (train['Result'] == 'H') + (train['Result'] == 'D') * 2 + (train['Result'] == 'A') * 3\n",
    "test['Result'] = (test['Result'] == 'H') + (test['Result'] == 'D') * 2 + (test['Result'] == 'A') * 3"
   ]
  },
  {
   "cell_type": "code",
   "execution_count": 178,
   "metadata": {},
   "outputs": [],
   "source": [
    "from sklearn.linear_model import LogisticRegression"
   ]
  },
  {
   "cell_type": "markdown",
   "metadata": {},
   "source": [
    "## Multinomial logistic regression"
   ]
  },
  {
   "cell_type": "markdown",
   "metadata": {},
   "source": [
    "The aim is to estimate the probability of a game being a home win, a draw or an away win, respectively. It happens using only the previously estimated \"expected points at the end of the season\" and the fact that who plays at home."
   ]
  },
  {
   "cell_type": "code",
   "execution_count": 179,
   "metadata": {},
   "outputs": [],
   "source": [
    "log = LogisticRegression(solver = 'newton-cg', multi_class = 'multinomial')\n",
    "X = train.iloc[:, [4, 5]].values\n",
    "y = train.iloc[:, 0].values\n",
    "X_test = test.iloc[:, [4, 5]].values\n",
    "model = log.fit(X, y)\n",
    "model.coef_, model.intercept_\n",
    "y_pred = log.predict_proba(X_test)"
   ]
  },
  {
   "cell_type": "code",
   "execution_count": 180,
   "metadata": {},
   "outputs": [],
   "source": [
    "test[\"HomeP\"] = [c[0] for c in y_pred]\n",
    "test[\"DrawP\"] = [c[1] for c in y_pred]\n",
    "test[\"AwayP\"] = [c[2] for c in y_pred]"
   ]
  },
  {
   "cell_type": "code",
   "execution_count": 181,
   "metadata": {},
   "outputs": [
    {
     "data": {
      "text/html": [
       "<div>\n",
       "<style scoped>\n",
       "    .dataframe tbody tr th:only-of-type {\n",
       "        vertical-align: middle;\n",
       "    }\n",
       "\n",
       "    .dataframe tbody tr th {\n",
       "        vertical-align: top;\n",
       "    }\n",
       "\n",
       "    .dataframe thead th {\n",
       "        text-align: right;\n",
       "    }\n",
       "</style>\n",
       "<table border=\"1\" class=\"dataframe\">\n",
       "  <thead>\n",
       "    <tr style=\"text-align: right;\">\n",
       "      <th></th>\n",
       "      <th>Result</th>\n",
       "      <th>HomeOdds</th>\n",
       "      <th>DrawOdds</th>\n",
       "      <th>AwayOdds</th>\n",
       "      <th>HomeExp</th>\n",
       "      <th>AwayExp</th>\n",
       "      <th>HomeP</th>\n",
       "      <th>DrawP</th>\n",
       "      <th>AwayP</th>\n",
       "    </tr>\n",
       "  </thead>\n",
       "  <tbody>\n",
       "    <tr>\n",
       "      <th>100</th>\n",
       "      <td>1</td>\n",
       "      <td>2.73</td>\n",
       "      <td>2.96</td>\n",
       "      <td>2.93</td>\n",
       "      <td>47.871890</td>\n",
       "      <td>42.771401</td>\n",
       "      <td>0.512391</td>\n",
       "      <td>0.271095</td>\n",
       "      <td>0.216513</td>\n",
       "    </tr>\n",
       "    <tr>\n",
       "      <th>101</th>\n",
       "      <td>3</td>\n",
       "      <td>1.98</td>\n",
       "      <td>3.42</td>\n",
       "      <td>4.05</td>\n",
       "      <td>52.972379</td>\n",
       "      <td>35.120667</td>\n",
       "      <td>0.602996</td>\n",
       "      <td>0.250647</td>\n",
       "      <td>0.146357</td>\n",
       "    </tr>\n",
       "    <tr>\n",
       "      <th>102</th>\n",
       "      <td>3</td>\n",
       "      <td>1.64</td>\n",
       "      <td>3.64</td>\n",
       "      <td>6.20</td>\n",
       "      <td>50.422135</td>\n",
       "      <td>58.072869</td>\n",
       "      <td>0.427668</td>\n",
       "      <td>0.275307</td>\n",
       "      <td>0.297025</td>\n",
       "    </tr>\n",
       "    <tr>\n",
       "      <th>103</th>\n",
       "      <td>2</td>\n",
       "      <td>2.65</td>\n",
       "      <td>3.25</td>\n",
       "      <td>2.77</td>\n",
       "      <td>45.321645</td>\n",
       "      <td>47.871890</td>\n",
       "      <td>0.455226</td>\n",
       "      <td>0.277526</td>\n",
       "      <td>0.267248</td>\n",
       "    </tr>\n",
       "    <tr>\n",
       "      <th>104</th>\n",
       "      <td>3</td>\n",
       "      <td>2.38</td>\n",
       "      <td>3.10</td>\n",
       "      <td>3.29</td>\n",
       "      <td>37.670911</td>\n",
       "      <td>47.871890</td>\n",
       "      <td>0.388888</td>\n",
       "      <td>0.281523</td>\n",
       "      <td>0.329589</td>\n",
       "    </tr>\n",
       "  </tbody>\n",
       "</table>\n",
       "</div>"
      ],
      "text/plain": [
       "     Result  HomeOdds  DrawOdds  AwayOdds    HomeExp    AwayExp     HomeP  \\\n",
       "100       1      2.73      2.96      2.93  47.871890  42.771401  0.512391   \n",
       "101       3      1.98      3.42      4.05  52.972379  35.120667  0.602996   \n",
       "102       3      1.64      3.64      6.20  50.422135  58.072869  0.427668   \n",
       "103       2      2.65      3.25      2.77  45.321645  47.871890  0.455226   \n",
       "104       3      2.38      3.10      3.29  37.670911  47.871890  0.388888   \n",
       "\n",
       "        DrawP     AwayP  \n",
       "100  0.271095  0.216513  \n",
       "101  0.250647  0.146357  \n",
       "102  0.275307  0.297025  \n",
       "103  0.277526  0.267248  \n",
       "104  0.281523  0.329589  "
      ]
     },
     "execution_count": 181,
     "metadata": {},
     "output_type": "execute_result"
    }
   ],
   "source": [
    "test.head()"
   ]
  },
  {
   "cell_type": "markdown",
   "metadata": {},
   "source": [
    "## Creating a betting model"
   ]
  },
  {
   "cell_type": "markdown",
   "metadata": {},
   "source": [
    "### Main ideas:\n",
    "* a bet may be profitable if the probability times the odds is higher than one\n",
    "* home bets and favorite bets have shown to be more profitabl"
   ]
  },
  {
   "cell_type": "code",
   "execution_count": 182,
   "metadata": {},
   "outputs": [],
   "source": [
    "test[\"ReturnH\"] = test['HomeOdds'] * test['HomeP']\n",
    "test[\"ReturnD\"] = test['DrawOdds'] * test['DrawP']\n",
    "test[\"ReturnA\"] = test['AwayOdds'] * test['AwayP']"
   ]
  },
  {
   "cell_type": "code",
   "execution_count": 183,
   "metadata": {},
   "outputs": [],
   "source": [
    "test['BetH'] = test[\"ReturnH\"] > 1\n",
    "test['BetD'] = test[\"ReturnD\"] > 1\n",
    "test['BetA'] = test[\"ReturnA\"] > 1"
   ]
  },
  {
   "cell_type": "code",
   "execution_count": 184,
   "metadata": {},
   "outputs": [],
   "source": [
    "home_bets = test[test['BetH'] == True]\n",
    "home_bets = home_bets[[\"Result\", \"HomeOdds\", \"HomeP\", \"ReturnH\"]]\n",
    "draw_bets = test[test['BetD'] == True]\n",
    "draw_bets = draw_bets[[\"Result\", \"DrawOdds\", \"DrawP\", \"ReturnD\"]]\n",
    "away_bets = test[test['BetA'] == True]\n",
    "away_bets = away_bets[[\"Result\", \"AwayOdds\", \"AwayP\", \"ReturnA\"]]"
   ]
  },
  {
   "cell_type": "code",
   "execution_count": 185,
   "metadata": {},
   "outputs": [],
   "source": [
    "home_bets[\"Is_successful\"] = home_bets[\"Result\"] == 1\n",
    "draw_bets[\"Is_successful\"] = draw_bets[\"Result\"] == 2\n",
    "away_bets[\"Is_successful\"] = away_bets[\"Result\"] == 3\n",
    "home_bets[\"Return\"] = home_bets[\"Is_successful\"] * home_bets[\"HomeOdds\"]\n",
    "draw_bets[\"Return\"] = draw_bets[\"Is_successful\"] * draw_bets[\"DrawOdds\"]\n",
    "away_bets[\"Return\"] = away_bets[\"Is_successful\"] * away_bets[\"AwayOdds\"]"
   ]
  },
  {
   "cell_type": "markdown",
   "metadata": {},
   "source": [
    "We search for 3 things: 1) Whether the model says expected profit is greater than zero 2) Whether the team to be backed is home 3) Whether the team to be backed is a heavy favorite (odds < 1.5)\n",
    "\n",
    "### 4 different strategies:\n",
    "* 1 holds\n",
    "* 1 and 2 hold\n",
    "* 1 and 3 hold\n",
    "* 1, 2, and 3 all hold"
   ]
  },
  {
   "cell_type": "code",
   "execution_count": 187,
   "metadata": {},
   "outputs": [
    {
     "data": {
      "text/html": [
       "<div>\n",
       "<style scoped>\n",
       "    .dataframe tbody tr th:only-of-type {\n",
       "        vertical-align: middle;\n",
       "    }\n",
       "\n",
       "    .dataframe tbody tr th {\n",
       "        vertical-align: top;\n",
       "    }\n",
       "\n",
       "    .dataframe thead th {\n",
       "        text-align: right;\n",
       "    }\n",
       "</style>\n",
       "<table border=\"1\" class=\"dataframe\">\n",
       "  <thead>\n",
       "    <tr style=\"text-align: right;\">\n",
       "      <th></th>\n",
       "      <th>Result</th>\n",
       "      <th>HomeOdds</th>\n",
       "      <th>HomeP</th>\n",
       "      <th>ReturnH</th>\n",
       "      <th>Is_successful</th>\n",
       "      <th>Return</th>\n",
       "    </tr>\n",
       "  </thead>\n",
       "  <tbody>\n",
       "    <tr>\n",
       "      <th>100</th>\n",
       "      <td>1</td>\n",
       "      <td>2.73</td>\n",
       "      <td>0.512391</td>\n",
       "      <td>1.398829</td>\n",
       "      <td>True</td>\n",
       "      <td>2.73</td>\n",
       "    </tr>\n",
       "    <tr>\n",
       "      <th>101</th>\n",
       "      <td>3</td>\n",
       "      <td>1.98</td>\n",
       "      <td>0.602996</td>\n",
       "      <td>1.193932</td>\n",
       "      <td>False</td>\n",
       "      <td>0.00</td>\n",
       "    </tr>\n",
       "    <tr>\n",
       "      <th>103</th>\n",
       "      <td>2</td>\n",
       "      <td>2.65</td>\n",
       "      <td>0.455226</td>\n",
       "      <td>1.206348</td>\n",
       "      <td>False</td>\n",
       "      <td>0.00</td>\n",
       "    </tr>\n",
       "    <tr>\n",
       "      <th>105</th>\n",
       "      <td>3</td>\n",
       "      <td>5.17</td>\n",
       "      <td>0.339831</td>\n",
       "      <td>1.756929</td>\n",
       "      <td>False</td>\n",
       "      <td>0.00</td>\n",
       "    </tr>\n",
       "    <tr>\n",
       "      <th>106</th>\n",
       "      <td>1</td>\n",
       "      <td>2.47</td>\n",
       "      <td>0.434790</td>\n",
       "      <td>1.073932</td>\n",
       "      <td>True</td>\n",
       "      <td>2.47</td>\n",
       "    </tr>\n",
       "  </tbody>\n",
       "</table>\n",
       "</div>"
      ],
      "text/plain": [
       "     Result  HomeOdds     HomeP   ReturnH  Is_successful  Return\n",
       "100       1      2.73  0.512391  1.398829           True    2.73\n",
       "101       3      1.98  0.602996  1.193932          False    0.00\n",
       "103       2      2.65  0.455226  1.206348          False    0.00\n",
       "105       3      5.17  0.339831  1.756929          False    0.00\n",
       "106       1      2.47  0.434790  1.073932           True    2.47"
      ]
     },
     "execution_count": 187,
     "metadata": {},
     "output_type": "execute_result"
    }
   ],
   "source": [
    "home_bets.head()"
   ]
  },
  {
   "cell_type": "code",
   "execution_count": 197,
   "metadata": {},
   "outputs": [],
   "source": [
    "A = round((sum(home_bets[\"Return\"]) + sum(draw_bets[\"Return\"]) +\n",
    "     sum(away_bets[\"Return\"])) / (home_bets.shape[0] +\n",
    "        draw_bets.shape[0] + away_bets.shape[0]) - 1, 4)\n",
    "B = round(sum(home_bets[\"Return\"]) / home_bets.shape[0] - 1, 4)"
   ]
  },
  {
   "cell_type": "code",
   "execution_count": 199,
   "metadata": {},
   "outputs": [],
   "source": [
    "home_bets = home_bets[home_bets[\"HomeOdds\"] <= 1.5]\n",
    "away_bets = away_bets[away_bets[\"AwayOdds\"] <= 1.5]"
   ]
  },
  {
   "cell_type": "code",
   "execution_count": 200,
   "metadata": {},
   "outputs": [],
   "source": [
    "C = round((sum(home_bets[\"Return\"]) +\n",
    "     sum(away_bets[\"Return\"])) / (home_bets.shape[0] +\n",
    "        away_bets.shape[0]) - 1, 4)\n",
    "D = round(sum(home_bets[\"Return\"]) / home_bets.shape[0] - 1, 4)"
   ]
  },
  {
   "cell_type": "code",
   "execution_count": 202,
   "metadata": {
    "scrolled": true
   },
   "outputs": [
    {
     "data": {
      "image/png": "[encoded data removed]",
      "text/plain": [
       "<Figure size 432x288 with 1 Axes>"
      ]
     },
     "metadata": {
      "needs_background": "light"
     },
     "output_type": "display_data"
    }
   ],
   "source": [
    "df = pd.DataFrame(columns=['Strategy','Profit'])\n",
    "df['Strategy'] = [\"Base\", \"Home\", \"Favorite\", \"HomeFavorite\"]\n",
    "df[\"Profit\"] = [A, B, C, D]\n",
    "df.plot(x = 'Strategy', y = 'Profit', kind = 'bar', color = \"r\", legend = False)\n",
    "plt.title(\"Profitability of the 4 strategies\")\n",
    "plt.show()"
   ]
  }
 ],
 "metadata": {
  "kernelspec": {
   "display_name": "Python 3",
   "language": "python",
   "name": "python3"
  },
  "language_info": {
   "codemirror_mode": {
    "name": "ipython",
    "version": 3
   },
   "file_extension": ".py",
   "mimetype": "text/x-python",
   "name": "python",
   "nbconvert_exporter": "python",
   "pygments_lexer": "ipython3",
   "version": "3.6.6"
  }
 },
 "nbformat": 4,
 "nbformat_minor": 2
}
